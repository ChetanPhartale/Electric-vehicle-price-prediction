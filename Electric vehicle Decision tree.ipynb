{
 "cells": [
  {
   "cell_type": "markdown",
   "id": "e1885f51",
   "metadata": {},
   "source": [
    "# Objective :\n",
    "\n",
    "\"Predict price of Electric vehicle. we can analyse the specifications and predict according to that.\""
   ]
  },
  {
   "cell_type": "markdown",
   "id": "26263948",
   "metadata": {},
   "source": [
    "### 1) Import Library"
   ]
  },
  {
   "cell_type": "code",
   "execution_count": 1,
   "id": "f1ae5110",
   "metadata": {},
   "outputs": [],
   "source": [
    "import pandas as pd\n",
    "import numpy as np\n",
    "import seaborn as sns\n",
    "from sklearn import tree\n",
    "from sklearn.metrics import confusion_matrix \n",
    "from sklearn.metrics import r2_score\n",
    "import matplotlib.pyplot as plt "
   ]
  },
  {
   "cell_type": "markdown",
   "id": "2f555a19",
   "metadata": {},
   "source": [
    "### 2) Import Data"
   ]
  },
  {
   "cell_type": "code",
   "execution_count": 2,
   "id": "ee2e6326",
   "metadata": {},
   "outputs": [
    {
     "data": {
      "text/html": [
       "<div>\n",
       "<style scoped>\n",
       "    .dataframe tbody tr th:only-of-type {\n",
       "        vertical-align: middle;\n",
       "    }\n",
       "\n",
       "    .dataframe tbody tr th {\n",
       "        vertical-align: top;\n",
       "    }\n",
       "\n",
       "    .dataframe thead th {\n",
       "        text-align: right;\n",
       "    }\n",
       "</style>\n",
       "<table border=\"1\" class=\"dataframe\">\n",
       "  <thead>\n",
       "    <tr style=\"text-align: right;\">\n",
       "      <th></th>\n",
       "      <th>Brand</th>\n",
       "      <th>Model</th>\n",
       "      <th>AccelSec</th>\n",
       "      <th>TopSpeed_KmH</th>\n",
       "      <th>Range_Km</th>\n",
       "      <th>Efficiency_WhKm</th>\n",
       "      <th>FastCharge_KmH</th>\n",
       "      <th>RapidCharge</th>\n",
       "      <th>PowerTrain</th>\n",
       "      <th>PlugType</th>\n",
       "      <th>BodyStyle</th>\n",
       "      <th>Segment</th>\n",
       "      <th>Seats</th>\n",
       "      <th>PriceEuro</th>\n",
       "    </tr>\n",
       "  </thead>\n",
       "  <tbody>\n",
       "    <tr>\n",
       "      <th>0</th>\n",
       "      <td>Tesla</td>\n",
       "      <td>Model 3 Long Range Dual Motor</td>\n",
       "      <td>4.6</td>\n",
       "      <td>233</td>\n",
       "      <td>450</td>\n",
       "      <td>161</td>\n",
       "      <td>940</td>\n",
       "      <td>Yes</td>\n",
       "      <td>AWD</td>\n",
       "      <td>Type 2 CCS</td>\n",
       "      <td>Sedan</td>\n",
       "      <td>D</td>\n",
       "      <td>5</td>\n",
       "      <td>55480</td>\n",
       "    </tr>\n",
       "    <tr>\n",
       "      <th>1</th>\n",
       "      <td>Volkswagen</td>\n",
       "      <td>ID.3 Pure</td>\n",
       "      <td>10.0</td>\n",
       "      <td>160</td>\n",
       "      <td>270</td>\n",
       "      <td>167</td>\n",
       "      <td>250</td>\n",
       "      <td>Yes</td>\n",
       "      <td>RWD</td>\n",
       "      <td>Type 2 CCS</td>\n",
       "      <td>Hatchback</td>\n",
       "      <td>C</td>\n",
       "      <td>5</td>\n",
       "      <td>30000</td>\n",
       "    </tr>\n",
       "    <tr>\n",
       "      <th>2</th>\n",
       "      <td>Polestar</td>\n",
       "      <td>2</td>\n",
       "      <td>4.7</td>\n",
       "      <td>210</td>\n",
       "      <td>400</td>\n",
       "      <td>181</td>\n",
       "      <td>620</td>\n",
       "      <td>Yes</td>\n",
       "      <td>AWD</td>\n",
       "      <td>Type 2 CCS</td>\n",
       "      <td>Liftback</td>\n",
       "      <td>D</td>\n",
       "      <td>5</td>\n",
       "      <td>56440</td>\n",
       "    </tr>\n",
       "    <tr>\n",
       "      <th>3</th>\n",
       "      <td>BMW</td>\n",
       "      <td>iX3</td>\n",
       "      <td>6.8</td>\n",
       "      <td>180</td>\n",
       "      <td>360</td>\n",
       "      <td>206</td>\n",
       "      <td>560</td>\n",
       "      <td>Yes</td>\n",
       "      <td>RWD</td>\n",
       "      <td>Type 2 CCS</td>\n",
       "      <td>SUV</td>\n",
       "      <td>D</td>\n",
       "      <td>5</td>\n",
       "      <td>68040</td>\n",
       "    </tr>\n",
       "    <tr>\n",
       "      <th>4</th>\n",
       "      <td>Honda</td>\n",
       "      <td>e</td>\n",
       "      <td>9.5</td>\n",
       "      <td>145</td>\n",
       "      <td>170</td>\n",
       "      <td>168</td>\n",
       "      <td>190</td>\n",
       "      <td>Yes</td>\n",
       "      <td>RWD</td>\n",
       "      <td>Type 2 CCS</td>\n",
       "      <td>Hatchback</td>\n",
       "      <td>B</td>\n",
       "      <td>4</td>\n",
       "      <td>32997</td>\n",
       "    </tr>\n",
       "  </tbody>\n",
       "</table>\n",
       "</div>"
      ],
      "text/plain": [
       "         Brand                          Model  AccelSec  TopSpeed_KmH  \\\n",
       "0       Tesla   Model 3 Long Range Dual Motor       4.6           233   \n",
       "1  Volkswagen                       ID.3 Pure      10.0           160   \n",
       "2    Polestar                               2       4.7           210   \n",
       "3         BMW                            iX3        6.8           180   \n",
       "4       Honda                              e        9.5           145   \n",
       "\n",
       "   Range_Km  Efficiency_WhKm FastCharge_KmH RapidCharge PowerTrain  \\\n",
       "0       450              161            940         Yes        AWD   \n",
       "1       270              167            250         Yes        RWD   \n",
       "2       400              181            620         Yes        AWD   \n",
       "3       360              206            560         Yes        RWD   \n",
       "4       170              168            190         Yes        RWD   \n",
       "\n",
       "     PlugType  BodyStyle Segment  Seats  PriceEuro  \n",
       "0  Type 2 CCS      Sedan       D      5      55480  \n",
       "1  Type 2 CCS  Hatchback       C      5      30000  \n",
       "2  Type 2 CCS   Liftback       D      5      56440  \n",
       "3  Type 2 CCS        SUV       D      5      68040  \n",
       "4  Type 2 CCS  Hatchback       B      4      32997  "
      ]
     },
     "execution_count": 2,
     "metadata": {},
     "output_type": "execute_result"
    }
   ],
   "source": [
    "electric = pd.read_csv(r\"C:\\Users\\HP\\Desktop\\Python\\Machine Learning\\Mini Project\\Electric vehicles2\\ElectricCarData_Clean.csv\")\n",
    "electric.head()"
   ]
  },
  {
   "cell_type": "code",
   "execution_count": 3,
   "id": "74be714c",
   "metadata": {},
   "outputs": [],
   "source": [
    "\n",
    "electric = pd.read_csv(r\"C:\\Users\\HP\\Desktop\\Python\\Machine Learning\\Mini Project\\Electric vehicles2\\ElectricCarData_Clean.csv\")\n"
   ]
  },
  {
   "cell_type": "markdown",
   "id": "9d2aa1f2",
   "metadata": {},
   "source": [
    "### Step 2 : Data Pre-Processing"
   ]
  },
  {
   "cell_type": "markdown",
   "id": "dd027999",
   "metadata": {},
   "source": [
    "### Univariate analysis"
   ]
  },
  {
   "cell_type": "code",
   "execution_count": 4,
   "id": "034cc2c6",
   "metadata": {},
   "outputs": [
    {
     "name": "stdout",
     "output_type": "stream",
     "text": [
      "<class 'pandas.core.frame.DataFrame'>\n",
      "RangeIndex: 103 entries, 0 to 102\n",
      "Data columns (total 14 columns):\n",
      " #   Column           Non-Null Count  Dtype  \n",
      "---  ------           --------------  -----  \n",
      " 0   Brand            103 non-null    object \n",
      " 1   Model            103 non-null    object \n",
      " 2   AccelSec         103 non-null    float64\n",
      " 3   TopSpeed_KmH     103 non-null    int64  \n",
      " 4   Range_Km         103 non-null    int64  \n",
      " 5   Efficiency_WhKm  103 non-null    int64  \n",
      " 6   FastCharge_KmH   103 non-null    object \n",
      " 7   RapidCharge      103 non-null    object \n",
      " 8   PowerTrain       103 non-null    object \n",
      " 9   PlugType         103 non-null    object \n",
      " 10  BodyStyle        103 non-null    object \n",
      " 11  Segment          103 non-null    object \n",
      " 12  Seats            103 non-null    int64  \n",
      " 13  PriceEuro        103 non-null    int64  \n",
      "dtypes: float64(1), int64(5), object(8)\n",
      "memory usage: 11.4+ KB\n"
     ]
    }
   ],
   "source": [
    "electric.info()"
   ]
  },
  {
   "cell_type": "code",
   "execution_count": 5,
   "id": "93c2f26b",
   "metadata": {},
   "outputs": [],
   "source": [
    "electric[\"FastCharge_KmH\"]=(electric[\"FastCharge_KmH\"]).replace(\"-\",np.nan).astype(float) "
   ]
  },
  {
   "cell_type": "code",
   "execution_count": 6,
   "id": "7d6a8b91",
   "metadata": {},
   "outputs": [
    {
     "data": {
      "text/html": [
       "<div>\n",
       "<style scoped>\n",
       "    .dataframe tbody tr th:only-of-type {\n",
       "        vertical-align: middle;\n",
       "    }\n",
       "\n",
       "    .dataframe tbody tr th {\n",
       "        vertical-align: top;\n",
       "    }\n",
       "\n",
       "    .dataframe thead th {\n",
       "        text-align: right;\n",
       "    }\n",
       "</style>\n",
       "<table border=\"1\" class=\"dataframe\">\n",
       "  <thead>\n",
       "    <tr style=\"text-align: right;\">\n",
       "      <th></th>\n",
       "      <th>AccelSec</th>\n",
       "      <th>TopSpeed_KmH</th>\n",
       "      <th>Range_Km</th>\n",
       "      <th>Efficiency_WhKm</th>\n",
       "      <th>FastCharge_KmH</th>\n",
       "      <th>Seats</th>\n",
       "      <th>PriceEuro</th>\n",
       "    </tr>\n",
       "  </thead>\n",
       "  <tbody>\n",
       "    <tr>\n",
       "      <th>count</th>\n",
       "      <td>103.000000</td>\n",
       "      <td>103.000000</td>\n",
       "      <td>103.000000</td>\n",
       "      <td>103.000000</td>\n",
       "      <td>98.000000</td>\n",
       "      <td>103.000000</td>\n",
       "      <td>103.000000</td>\n",
       "    </tr>\n",
       "    <tr>\n",
       "      <th>mean</th>\n",
       "      <td>7.396117</td>\n",
       "      <td>179.194175</td>\n",
       "      <td>338.786408</td>\n",
       "      <td>189.165049</td>\n",
       "      <td>456.734694</td>\n",
       "      <td>4.883495</td>\n",
       "      <td>55811.563107</td>\n",
       "    </tr>\n",
       "    <tr>\n",
       "      <th>std</th>\n",
       "      <td>3.017430</td>\n",
       "      <td>43.573030</td>\n",
       "      <td>126.014444</td>\n",
       "      <td>29.566839</td>\n",
       "      <td>201.262897</td>\n",
       "      <td>0.795834</td>\n",
       "      <td>34134.665280</td>\n",
       "    </tr>\n",
       "    <tr>\n",
       "      <th>min</th>\n",
       "      <td>2.100000</td>\n",
       "      <td>123.000000</td>\n",
       "      <td>95.000000</td>\n",
       "      <td>104.000000</td>\n",
       "      <td>170.000000</td>\n",
       "      <td>2.000000</td>\n",
       "      <td>20129.000000</td>\n",
       "    </tr>\n",
       "    <tr>\n",
       "      <th>25%</th>\n",
       "      <td>5.100000</td>\n",
       "      <td>150.000000</td>\n",
       "      <td>250.000000</td>\n",
       "      <td>168.000000</td>\n",
       "      <td>275.000000</td>\n",
       "      <td>5.000000</td>\n",
       "      <td>34429.500000</td>\n",
       "    </tr>\n",
       "    <tr>\n",
       "      <th>50%</th>\n",
       "      <td>7.300000</td>\n",
       "      <td>160.000000</td>\n",
       "      <td>340.000000</td>\n",
       "      <td>180.000000</td>\n",
       "      <td>440.000000</td>\n",
       "      <td>5.000000</td>\n",
       "      <td>45000.000000</td>\n",
       "    </tr>\n",
       "    <tr>\n",
       "      <th>75%</th>\n",
       "      <td>9.000000</td>\n",
       "      <td>200.000000</td>\n",
       "      <td>400.000000</td>\n",
       "      <td>203.000000</td>\n",
       "      <td>560.000000</td>\n",
       "      <td>5.000000</td>\n",
       "      <td>65000.000000</td>\n",
       "    </tr>\n",
       "    <tr>\n",
       "      <th>max</th>\n",
       "      <td>22.400000</td>\n",
       "      <td>410.000000</td>\n",
       "      <td>970.000000</td>\n",
       "      <td>273.000000</td>\n",
       "      <td>940.000000</td>\n",
       "      <td>7.000000</td>\n",
       "      <td>215000.000000</td>\n",
       "    </tr>\n",
       "  </tbody>\n",
       "</table>\n",
       "</div>"
      ],
      "text/plain": [
       "         AccelSec  TopSpeed_KmH    Range_Km  Efficiency_WhKm  FastCharge_KmH  \\\n",
       "count  103.000000    103.000000  103.000000       103.000000       98.000000   \n",
       "mean     7.396117    179.194175  338.786408       189.165049      456.734694   \n",
       "std      3.017430     43.573030  126.014444        29.566839      201.262897   \n",
       "min      2.100000    123.000000   95.000000       104.000000      170.000000   \n",
       "25%      5.100000    150.000000  250.000000       168.000000      275.000000   \n",
       "50%      7.300000    160.000000  340.000000       180.000000      440.000000   \n",
       "75%      9.000000    200.000000  400.000000       203.000000      560.000000   \n",
       "max     22.400000    410.000000  970.000000       273.000000      940.000000   \n",
       "\n",
       "            Seats      PriceEuro  \n",
       "count  103.000000     103.000000  \n",
       "mean     4.883495   55811.563107  \n",
       "std      0.795834   34134.665280  \n",
       "min      2.000000   20129.000000  \n",
       "25%      5.000000   34429.500000  \n",
       "50%      5.000000   45000.000000  \n",
       "75%      5.000000   65000.000000  \n",
       "max      7.000000  215000.000000  "
      ]
     },
     "execution_count": 6,
     "metadata": {},
     "output_type": "execute_result"
    }
   ],
   "source": [
    "electric.describe()"
   ]
  },
  {
   "cell_type": "code",
   "execution_count": 7,
   "id": "bab95430",
   "metadata": {},
   "outputs": [
    {
     "data": {
      "text/plain": [
       "Brand              0\n",
       "Model              0\n",
       "AccelSec           0\n",
       "TopSpeed_KmH       0\n",
       "Range_Km           0\n",
       "Efficiency_WhKm    0\n",
       "FastCharge_KmH     5\n",
       "RapidCharge        0\n",
       "PowerTrain         0\n",
       "PlugType           0\n",
       "BodyStyle          0\n",
       "Segment            0\n",
       "Seats              0\n",
       "PriceEuro          0\n",
       "dtype: int64"
      ]
     },
     "execution_count": 7,
     "metadata": {},
     "output_type": "execute_result"
    }
   ],
   "source": [
    "electric.isnull().sum()"
   ]
  },
  {
   "cell_type": "code",
   "execution_count": 8,
   "id": "9c9d0c8d",
   "metadata": {},
   "outputs": [],
   "source": [
    "electric[\"FastCharge_KmH\"].fillna(electric[\"FastCharge_KmH\"].mean(),inplace=True)"
   ]
  },
  {
   "cell_type": "markdown",
   "id": "fad8387f",
   "metadata": {},
   "source": [
    "### 5) Identification and treatment of outliers"
   ]
  },
  {
   "cell_type": "code",
   "execution_count": 9,
   "id": "f4e3674c",
   "metadata": {},
   "outputs": [
    {
     "data": {
      "text/plain": [
       "<AxesSubplot:>"
      ]
     },
     "execution_count": 9,
     "metadata": {},
     "output_type": "execute_result"
    },
    {
     "data": {
      "image/png": "[encoded data removed]",
      "text/plain": [
       "<Figure size 720x720 with 1 Axes>"
      ]
     },
     "metadata": {
      "needs_background": "light"
     },
     "output_type": "display_data"
    }
   ],
   "source": [
    "fig, axarr  = plt.subplots(figsize=(10,10))\n",
    "sns.boxplot(data=electric)"
   ]
  },
  {
   "cell_type": "code",
   "execution_count": 10,
   "id": "12509fef",
   "metadata": {},
   "outputs": [],
   "source": [
    "def eliminate_outliers(table):\n",
    "    a=table.select_dtypes(include=[np.number]).columns.tolist()\n",
    "    for i in a:\n",
    "        q1 = table[i].quantile(0.25)\n",
    "        q3 = table[i].quantile(0.75)\n",
    "        \n",
    "        iqr = q3-q1 #Interquartile range\n",
    "\n",
    "        upper_limit = q3+1.5*iqr \n",
    "        lower_limit = q1-1.5*iqr\n",
    "    \n",
    "        #print(\"Upper limit = \",upper_limit)\n",
    "        #print(\"Lower limit = \",lower_limit)\n",
    "\n",
    "        table[i]=np.where(table[i] > upper_limit,upper_limit,table[i]) # upper limit\n",
    "        table[i]=np.where(table[i] < lower_limit,lower_limit,table[i]) # lower limit\n",
    "    return(sns.boxplot(data=table))\n"
   ]
  },
  {
   "cell_type": "code",
   "execution_count": 11,
   "id": "9daac2df",
   "metadata": {},
   "outputs": [
    {
     "data": {
      "text/plain": [
       "<AxesSubplot:>"
      ]
     },
     "execution_count": 11,
     "metadata": {},
     "output_type": "execute_result"
    },
    {
     "data": {
      "image/png": "[encoded data removed]",
      "text/plain": [
       "<Figure size 432x288 with 1 Axes>"
      ]
     },
     "metadata": {
      "needs_background": "light"
     },
     "output_type": "display_data"
    }
   ],
   "source": [
    "eliminate_outliers(electric)"
   ]
  },
  {
   "cell_type": "code",
   "execution_count": 12,
   "id": "fa19a4d6",
   "metadata": {},
   "outputs": [
    {
     "data": {
      "text/plain": [
       "<AxesSubplot:>"
      ]
     },
     "execution_count": 12,
     "metadata": {},
     "output_type": "execute_result"
    },
    {
     "data": {
      "image/png": "[encoded data removed]",
      "text/plain": [
       "<Figure size 720x720 with 1 Axes>"
      ]
     },
     "metadata": {
      "needs_background": "light"
     },
     "output_type": "display_data"
    }
   ],
   "source": [
    "fig, axarr  = plt.subplots(figsize=(10,10))\n",
    "sns.boxplot(data=electric)"
   ]
  },
  {
   "cell_type": "markdown",
   "id": "2035ee05",
   "metadata": {},
   "source": [
    "### Visualization"
   ]
  },
  {
   "cell_type": "code",
   "execution_count": 13,
   "id": "6e3a4710",
   "metadata": {},
   "outputs": [
    {
     "data": {
      "text/plain": [
       "Index(['Brand', 'Model', 'AccelSec', 'TopSpeed_KmH', 'Range_Km',\n",
       "       'Efficiency_WhKm', 'FastCharge_KmH', 'RapidCharge', 'PowerTrain',\n",
       "       'PlugType', 'BodyStyle', 'Segment', 'Seats', 'PriceEuro'],\n",
       "      dtype='object')"
      ]
     },
     "execution_count": 13,
     "metadata": {},
     "output_type": "execute_result"
    }
   ],
   "source": [
    "electric.columns"
   ]
  },
  {
   "cell_type": "code",
   "execution_count": 14,
   "id": "ef39e1d7",
   "metadata": {},
   "outputs": [
    {
     "data": {
      "text/plain": [
       "<AxesSubplot:xlabel='RapidCharge', ylabel='PriceEuro'>"
      ]
     },
     "execution_count": 14,
     "metadata": {},
     "output_type": "execute_result"
    },
    {
     "data": {
      "image/png": "[encoded data removed]",
      "text/plain": [
       "<Figure size 432x288 with 1 Axes>"
      ]
     },
     "metadata": {
      "needs_background": "light"
     },
     "output_type": "display_data"
    }
   ],
   "source": [
    "sns.barplot(x = \"RapidCharge\",y='PriceEuro', data = electric)"
   ]
  },
  {
   "cell_type": "code",
   "execution_count": 15,
   "id": "8e5e43a9",
   "metadata": {},
   "outputs": [
    {
     "data": {
      "text/plain": [
       "<AxesSubplot:xlabel='BodyStyle', ylabel='PriceEuro'>"
      ]
     },
     "execution_count": 15,
     "metadata": {},
     "output_type": "execute_result"
    },
    {
     "data": {
      "image/png": "[encoded data removed]",
      "text/plain": [
       "<Figure size 720x720 with 1 Axes>"
      ]
     },
     "metadata": {
      "needs_background": "light"
     },
     "output_type": "display_data"
    }
   ],
   "source": [
    "fig, axarr  = plt.subplots(figsize=(10,10))\n",
    "sns.barplot(x = \"BodyStyle\",y='PriceEuro', data = electric)"
   ]
  },
  {
   "cell_type": "code",
   "execution_count": 16,
   "id": "7ad35b46",
   "metadata": {},
   "outputs": [
    {
     "data": {
      "text/plain": [
       "<AxesSubplot:xlabel='PowerTrain', ylabel='PriceEuro'>"
      ]
     },
     "execution_count": 16,
     "metadata": {},
     "output_type": "execute_result"
    },
    {
     "data": {
      "image/png": "[encoded data removed]",
      "text/plain": [
       "<Figure size 432x288 with 1 Axes>"
      ]
     },
     "metadata": {
      "needs_background": "light"
     },
     "output_type": "display_data"
    }
   ],
   "source": [
    "\n",
    "sns.barplot(x = \"PowerTrain\",y='PriceEuro', data = electric)"
   ]
  },
  {
   "cell_type": "code",
   "execution_count": 17,
   "id": "b260dc29",
   "metadata": {},
   "outputs": [
    {
     "data": {
      "text/plain": [
       "<AxesSubplot:xlabel='Range_Km', ylabel='PriceEuro'>"
      ]
     },
     "execution_count": 17,
     "metadata": {},
     "output_type": "execute_result"
    },
    {
     "data": {
      "image/png": "[encoded data removed]",
      "text/plain": [
       "<Figure size 432x288 with 1 Axes>"
      ]
     },
     "metadata": {
      "needs_background": "light"
     },
     "output_type": "display_data"
    }
   ],
   "source": [
    "sns.scatterplot(x = \"Range_Km\",y='PriceEuro', data = electric)"
   ]
  },
  {
   "cell_type": "code",
   "execution_count": 18,
   "id": "64685271",
   "metadata": {},
   "outputs": [
    {
     "data": {
      "text/plain": [
       "<AxesSubplot:xlabel='AccelSec', ylabel='PriceEuro'>"
      ]
     },
     "execution_count": 18,
     "metadata": {},
     "output_type": "execute_result"
    },
    {
     "data": {
      "image/png": "[encoded data removed]",
      "text/plain": [
       "<Figure size 432x288 with 1 Axes>"
      ]
     },
     "metadata": {
      "needs_background": "light"
     },
     "output_type": "display_data"
    }
   ],
   "source": [
    "sns.scatterplot(x = \"AccelSec\",y='PriceEuro', data = electric)"
   ]
  },
  {
   "cell_type": "markdown",
   "id": "708e826c",
   "metadata": {},
   "source": [
    "### Taking subset of numerical and qualitative data"
   ]
  },
  {
   "cell_type": "code",
   "execution_count": 19,
   "id": "8464eee4",
   "metadata": {},
   "outputs": [
    {
     "data": {
      "text/html": [
       "<div>\n",
       "<style scoped>\n",
       "    .dataframe tbody tr th:only-of-type {\n",
       "        vertical-align: middle;\n",
       "    }\n",
       "\n",
       "    .dataframe tbody tr th {\n",
       "        vertical-align: top;\n",
       "    }\n",
       "\n",
       "    .dataframe thead th {\n",
       "        text-align: right;\n",
       "    }\n",
       "</style>\n",
       "<table border=\"1\" class=\"dataframe\">\n",
       "  <thead>\n",
       "    <tr style=\"text-align: right;\">\n",
       "      <th></th>\n",
       "      <th>AccelSec</th>\n",
       "      <th>TopSpeed_KmH</th>\n",
       "      <th>Range_Km</th>\n",
       "      <th>Efficiency_WhKm</th>\n",
       "      <th>FastCharge_KmH</th>\n",
       "      <th>Seats</th>\n",
       "      <th>PriceEuro</th>\n",
       "    </tr>\n",
       "  </thead>\n",
       "  <tbody>\n",
       "    <tr>\n",
       "      <th>0</th>\n",
       "      <td>4.6</td>\n",
       "      <td>233.0</td>\n",
       "      <td>450.0</td>\n",
       "      <td>161.0</td>\n",
       "      <td>930.0</td>\n",
       "      <td>5.0</td>\n",
       "      <td>55480.0</td>\n",
       "    </tr>\n",
       "    <tr>\n",
       "      <th>1</th>\n",
       "      <td>10.0</td>\n",
       "      <td>160.0</td>\n",
       "      <td>270.0</td>\n",
       "      <td>167.0</td>\n",
       "      <td>250.0</td>\n",
       "      <td>5.0</td>\n",
       "      <td>30000.0</td>\n",
       "    </tr>\n",
       "    <tr>\n",
       "      <th>2</th>\n",
       "      <td>4.7</td>\n",
       "      <td>210.0</td>\n",
       "      <td>400.0</td>\n",
       "      <td>181.0</td>\n",
       "      <td>620.0</td>\n",
       "      <td>5.0</td>\n",
       "      <td>56440.0</td>\n",
       "    </tr>\n",
       "    <tr>\n",
       "      <th>3</th>\n",
       "      <td>6.8</td>\n",
       "      <td>180.0</td>\n",
       "      <td>360.0</td>\n",
       "      <td>206.0</td>\n",
       "      <td>560.0</td>\n",
       "      <td>5.0</td>\n",
       "      <td>68040.0</td>\n",
       "    </tr>\n",
       "    <tr>\n",
       "      <th>4</th>\n",
       "      <td>9.5</td>\n",
       "      <td>145.0</td>\n",
       "      <td>170.0</td>\n",
       "      <td>168.0</td>\n",
       "      <td>190.0</td>\n",
       "      <td>5.0</td>\n",
       "      <td>32997.0</td>\n",
       "    </tr>\n",
       "  </tbody>\n",
       "</table>\n",
       "</div>"
      ],
      "text/plain": [
       "   AccelSec  TopSpeed_KmH  Range_Km  Efficiency_WhKm  FastCharge_KmH  Seats  \\\n",
       "0       4.6         233.0     450.0            161.0           930.0    5.0   \n",
       "1      10.0         160.0     270.0            167.0           250.0    5.0   \n",
       "2       4.7         210.0     400.0            181.0           620.0    5.0   \n",
       "3       6.8         180.0     360.0            206.0           560.0    5.0   \n",
       "4       9.5         145.0     170.0            168.0           190.0    5.0   \n",
       "\n",
       "   PriceEuro  \n",
       "0    55480.0  \n",
       "1    30000.0  \n",
       "2    56440.0  \n",
       "3    68040.0  \n",
       "4    32997.0  "
      ]
     },
     "execution_count": 19,
     "metadata": {},
     "output_type": "execute_result"
    }
   ],
   "source": [
    "electric_num = electric[electric.select_dtypes(include=[np.number]).columns.tolist()]\n",
    "electric_num.head()"
   ]
  },
  {
   "cell_type": "code",
   "execution_count": 20,
   "id": "1b1032d5",
   "metadata": {},
   "outputs": [
    {
     "data": {
      "text/html": [
       "<div>\n",
       "<style scoped>\n",
       "    .dataframe tbody tr th:only-of-type {\n",
       "        vertical-align: middle;\n",
       "    }\n",
       "\n",
       "    .dataframe tbody tr th {\n",
       "        vertical-align: top;\n",
       "    }\n",
       "\n",
       "    .dataframe thead th {\n",
       "        text-align: right;\n",
       "    }\n",
       "</style>\n",
       "<table border=\"1\" class=\"dataframe\">\n",
       "  <thead>\n",
       "    <tr style=\"text-align: right;\">\n",
       "      <th></th>\n",
       "      <th>Brand</th>\n",
       "      <th>Model</th>\n",
       "      <th>RapidCharge</th>\n",
       "      <th>PowerTrain</th>\n",
       "      <th>PlugType</th>\n",
       "      <th>BodyStyle</th>\n",
       "      <th>Segment</th>\n",
       "    </tr>\n",
       "  </thead>\n",
       "  <tbody>\n",
       "    <tr>\n",
       "      <th>0</th>\n",
       "      <td>Tesla</td>\n",
       "      <td>Model 3 Long Range Dual Motor</td>\n",
       "      <td>Yes</td>\n",
       "      <td>AWD</td>\n",
       "      <td>Type 2 CCS</td>\n",
       "      <td>Sedan</td>\n",
       "      <td>D</td>\n",
       "    </tr>\n",
       "    <tr>\n",
       "      <th>1</th>\n",
       "      <td>Volkswagen</td>\n",
       "      <td>ID.3 Pure</td>\n",
       "      <td>Yes</td>\n",
       "      <td>RWD</td>\n",
       "      <td>Type 2 CCS</td>\n",
       "      <td>Hatchback</td>\n",
       "      <td>C</td>\n",
       "    </tr>\n",
       "    <tr>\n",
       "      <th>2</th>\n",
       "      <td>Polestar</td>\n",
       "      <td>2</td>\n",
       "      <td>Yes</td>\n",
       "      <td>AWD</td>\n",
       "      <td>Type 2 CCS</td>\n",
       "      <td>Liftback</td>\n",
       "      <td>D</td>\n",
       "    </tr>\n",
       "    <tr>\n",
       "      <th>3</th>\n",
       "      <td>BMW</td>\n",
       "      <td>iX3</td>\n",
       "      <td>Yes</td>\n",
       "      <td>RWD</td>\n",
       "      <td>Type 2 CCS</td>\n",
       "      <td>SUV</td>\n",
       "      <td>D</td>\n",
       "    </tr>\n",
       "    <tr>\n",
       "      <th>4</th>\n",
       "      <td>Honda</td>\n",
       "      <td>e</td>\n",
       "      <td>Yes</td>\n",
       "      <td>RWD</td>\n",
       "      <td>Type 2 CCS</td>\n",
       "      <td>Hatchback</td>\n",
       "      <td>B</td>\n",
       "    </tr>\n",
       "  </tbody>\n",
       "</table>\n",
       "</div>"
      ],
      "text/plain": [
       "         Brand                          Model RapidCharge PowerTrain  \\\n",
       "0       Tesla   Model 3 Long Range Dual Motor         Yes        AWD   \n",
       "1  Volkswagen                       ID.3 Pure         Yes        RWD   \n",
       "2    Polestar                               2         Yes        AWD   \n",
       "3         BMW                            iX3          Yes        RWD   \n",
       "4       Honda                              e          Yes        RWD   \n",
       "\n",
       "     PlugType  BodyStyle Segment  \n",
       "0  Type 2 CCS      Sedan       D  \n",
       "1  Type 2 CCS  Hatchback       C  \n",
       "2  Type 2 CCS   Liftback       D  \n",
       "3  Type 2 CCS        SUV       D  \n",
       "4  Type 2 CCS  Hatchback       B  "
      ]
     },
     "execution_count": 20,
     "metadata": {},
     "output_type": "execute_result"
    }
   ],
   "source": [
    "electric_category = electric[electric.select_dtypes(include=[\"object\"]).columns.tolist()]\n",
    "electric_category.head()"
   ]
  },
  {
   "cell_type": "markdown",
   "id": "a5263932",
   "metadata": {},
   "source": [
    "### Converting Quality Variable to Number"
   ]
  },
  {
   "cell_type": "code",
   "execution_count": 21,
   "id": "ea629975",
   "metadata": {},
   "outputs": [
    {
     "data": {
      "text/html": [
       "<div>\n",
       "<style scoped>\n",
       "    .dataframe tbody tr th:only-of-type {\n",
       "        vertical-align: middle;\n",
       "    }\n",
       "\n",
       "    .dataframe tbody tr th {\n",
       "        vertical-align: top;\n",
       "    }\n",
       "\n",
       "    .dataframe thead th {\n",
       "        text-align: right;\n",
       "    }\n",
       "</style>\n",
       "<table border=\"1\" class=\"dataframe\">\n",
       "  <thead>\n",
       "    <tr style=\"text-align: right;\">\n",
       "      <th></th>\n",
       "      <th>Brand_Aiways</th>\n",
       "      <th>Brand_Audi</th>\n",
       "      <th>Brand_BMW</th>\n",
       "      <th>Brand_Byton</th>\n",
       "      <th>Brand_CUPRA</th>\n",
       "      <th>Brand_Citroen</th>\n",
       "      <th>Brand_DS</th>\n",
       "      <th>Brand_Fiat</th>\n",
       "      <th>Brand_Ford</th>\n",
       "      <th>Brand_Honda</th>\n",
       "      <th>...</th>\n",
       "      <th>BodyStyle_Sedan</th>\n",
       "      <th>BodyStyle_Station</th>\n",
       "      <th>Segment_A</th>\n",
       "      <th>Segment_B</th>\n",
       "      <th>Segment_C</th>\n",
       "      <th>Segment_D</th>\n",
       "      <th>Segment_E</th>\n",
       "      <th>Segment_F</th>\n",
       "      <th>Segment_N</th>\n",
       "      <th>Segment_S</th>\n",
       "    </tr>\n",
       "  </thead>\n",
       "  <tbody>\n",
       "    <tr>\n",
       "      <th>0</th>\n",
       "      <td>0</td>\n",
       "      <td>0</td>\n",
       "      <td>0</td>\n",
       "      <td>0</td>\n",
       "      <td>0</td>\n",
       "      <td>0</td>\n",
       "      <td>0</td>\n",
       "      <td>0</td>\n",
       "      <td>0</td>\n",
       "      <td>0</td>\n",
       "      <td>...</td>\n",
       "      <td>1</td>\n",
       "      <td>0</td>\n",
       "      <td>0</td>\n",
       "      <td>0</td>\n",
       "      <td>0</td>\n",
       "      <td>1</td>\n",
       "      <td>0</td>\n",
       "      <td>0</td>\n",
       "      <td>0</td>\n",
       "      <td>0</td>\n",
       "    </tr>\n",
       "    <tr>\n",
       "      <th>1</th>\n",
       "      <td>0</td>\n",
       "      <td>0</td>\n",
       "      <td>0</td>\n",
       "      <td>0</td>\n",
       "      <td>0</td>\n",
       "      <td>0</td>\n",
       "      <td>0</td>\n",
       "      <td>0</td>\n",
       "      <td>0</td>\n",
       "      <td>0</td>\n",
       "      <td>...</td>\n",
       "      <td>0</td>\n",
       "      <td>0</td>\n",
       "      <td>0</td>\n",
       "      <td>0</td>\n",
       "      <td>1</td>\n",
       "      <td>0</td>\n",
       "      <td>0</td>\n",
       "      <td>0</td>\n",
       "      <td>0</td>\n",
       "      <td>0</td>\n",
       "    </tr>\n",
       "    <tr>\n",
       "      <th>2</th>\n",
       "      <td>0</td>\n",
       "      <td>0</td>\n",
       "      <td>0</td>\n",
       "      <td>0</td>\n",
       "      <td>0</td>\n",
       "      <td>0</td>\n",
       "      <td>0</td>\n",
       "      <td>0</td>\n",
       "      <td>0</td>\n",
       "      <td>0</td>\n",
       "      <td>...</td>\n",
       "      <td>0</td>\n",
       "      <td>0</td>\n",
       "      <td>0</td>\n",
       "      <td>0</td>\n",
       "      <td>0</td>\n",
       "      <td>1</td>\n",
       "      <td>0</td>\n",
       "      <td>0</td>\n",
       "      <td>0</td>\n",
       "      <td>0</td>\n",
       "    </tr>\n",
       "  </tbody>\n",
       "</table>\n",
       "<p>3 rows × 161 columns</p>\n",
       "</div>"
      ],
      "text/plain": [
       "   Brand_Aiways   Brand_Audi   Brand_BMW   Brand_Byton   Brand_CUPRA   \\\n",
       "0              0            0           0             0             0   \n",
       "1              0            0           0             0             0   \n",
       "2              0            0           0             0             0   \n",
       "\n",
       "   Brand_Citroen   Brand_DS   Brand_Fiat   Brand_Ford   Brand_Honda   ...  \\\n",
       "0               0          0            0            0             0  ...   \n",
       "1               0          0            0            0             0  ...   \n",
       "2               0          0            0            0             0  ...   \n",
       "\n",
       "   BodyStyle_Sedan  BodyStyle_Station  Segment_A  Segment_B  Segment_C  \\\n",
       "0                1                  0          0          0          0   \n",
       "1                0                  0          0          0          1   \n",
       "2                0                  0          0          0          0   \n",
       "\n",
       "   Segment_D  Segment_E  Segment_F  Segment_N  Segment_S  \n",
       "0          1          0          0          0          0  \n",
       "1          0          0          0          0          0  \n",
       "2          1          0          0          0          0  \n",
       "\n",
       "[3 rows x 161 columns]"
      ]
     },
     "execution_count": 21,
     "metadata": {},
     "output_type": "execute_result"
    }
   ],
   "source": [
    "from sklearn.preprocessing import LabelEncoder\n",
    "\n",
    "# electric_category=electric_category.apply(LabelEncoder().fit_transform)\n",
    "electric_category = pd.get_dummies(electric_category)\n",
    "electric_category.head(3)\n",
    "# label in ascending order"
   ]
  },
  {
   "cell_type": "code",
   "execution_count": 22,
   "id": "092fff5a",
   "metadata": {},
   "outputs": [],
   "source": [
    "electric = pd.concat([electric_category,electric_num],axis=1)"
   ]
  },
  {
   "cell_type": "code",
   "execution_count": 23,
   "id": "771c72cf",
   "metadata": {},
   "outputs": [
    {
     "data": {
      "text/html": [
       "<div>\n",
       "<style scoped>\n",
       "    .dataframe tbody tr th:only-of-type {\n",
       "        vertical-align: middle;\n",
       "    }\n",
       "\n",
       "    .dataframe tbody tr th {\n",
       "        vertical-align: top;\n",
       "    }\n",
       "\n",
       "    .dataframe thead th {\n",
       "        text-align: right;\n",
       "    }\n",
       "</style>\n",
       "<table border=\"1\" class=\"dataframe\">\n",
       "  <thead>\n",
       "    <tr style=\"text-align: right;\">\n",
       "      <th></th>\n",
       "      <th>Brand_Aiways</th>\n",
       "      <th>Brand_Audi</th>\n",
       "      <th>Brand_BMW</th>\n",
       "      <th>Brand_Byton</th>\n",
       "      <th>Brand_CUPRA</th>\n",
       "      <th>Brand_Citroen</th>\n",
       "      <th>Brand_DS</th>\n",
       "      <th>Brand_Fiat</th>\n",
       "      <th>Brand_Ford</th>\n",
       "      <th>Brand_Honda</th>\n",
       "      <th>...</th>\n",
       "      <th>Segment_F</th>\n",
       "      <th>Segment_N</th>\n",
       "      <th>Segment_S</th>\n",
       "      <th>AccelSec</th>\n",
       "      <th>TopSpeed_KmH</th>\n",
       "      <th>Range_Km</th>\n",
       "      <th>Efficiency_WhKm</th>\n",
       "      <th>FastCharge_KmH</th>\n",
       "      <th>Seats</th>\n",
       "      <th>PriceEuro</th>\n",
       "    </tr>\n",
       "  </thead>\n",
       "  <tbody>\n",
       "    <tr>\n",
       "      <th>0</th>\n",
       "      <td>0</td>\n",
       "      <td>0</td>\n",
       "      <td>0</td>\n",
       "      <td>0</td>\n",
       "      <td>0</td>\n",
       "      <td>0</td>\n",
       "      <td>0</td>\n",
       "      <td>0</td>\n",
       "      <td>0</td>\n",
       "      <td>0</td>\n",
       "      <td>...</td>\n",
       "      <td>0</td>\n",
       "      <td>0</td>\n",
       "      <td>0</td>\n",
       "      <td>4.6</td>\n",
       "      <td>233.0</td>\n",
       "      <td>450.0</td>\n",
       "      <td>161.0</td>\n",
       "      <td>930.0</td>\n",
       "      <td>5.0</td>\n",
       "      <td>55480.0</td>\n",
       "    </tr>\n",
       "    <tr>\n",
       "      <th>1</th>\n",
       "      <td>0</td>\n",
       "      <td>0</td>\n",
       "      <td>0</td>\n",
       "      <td>0</td>\n",
       "      <td>0</td>\n",
       "      <td>0</td>\n",
       "      <td>0</td>\n",
       "      <td>0</td>\n",
       "      <td>0</td>\n",
       "      <td>0</td>\n",
       "      <td>...</td>\n",
       "      <td>0</td>\n",
       "      <td>0</td>\n",
       "      <td>0</td>\n",
       "      <td>10.0</td>\n",
       "      <td>160.0</td>\n",
       "      <td>270.0</td>\n",
       "      <td>167.0</td>\n",
       "      <td>250.0</td>\n",
       "      <td>5.0</td>\n",
       "      <td>30000.0</td>\n",
       "    </tr>\n",
       "    <tr>\n",
       "      <th>2</th>\n",
       "      <td>0</td>\n",
       "      <td>0</td>\n",
       "      <td>0</td>\n",
       "      <td>0</td>\n",
       "      <td>0</td>\n",
       "      <td>0</td>\n",
       "      <td>0</td>\n",
       "      <td>0</td>\n",
       "      <td>0</td>\n",
       "      <td>0</td>\n",
       "      <td>...</td>\n",
       "      <td>0</td>\n",
       "      <td>0</td>\n",
       "      <td>0</td>\n",
       "      <td>4.7</td>\n",
       "      <td>210.0</td>\n",
       "      <td>400.0</td>\n",
       "      <td>181.0</td>\n",
       "      <td>620.0</td>\n",
       "      <td>5.0</td>\n",
       "      <td>56440.0</td>\n",
       "    </tr>\n",
       "    <tr>\n",
       "      <th>3</th>\n",
       "      <td>0</td>\n",
       "      <td>0</td>\n",
       "      <td>1</td>\n",
       "      <td>0</td>\n",
       "      <td>0</td>\n",
       "      <td>0</td>\n",
       "      <td>0</td>\n",
       "      <td>0</td>\n",
       "      <td>0</td>\n",
       "      <td>0</td>\n",
       "      <td>...</td>\n",
       "      <td>0</td>\n",
       "      <td>0</td>\n",
       "      <td>0</td>\n",
       "      <td>6.8</td>\n",
       "      <td>180.0</td>\n",
       "      <td>360.0</td>\n",
       "      <td>206.0</td>\n",
       "      <td>560.0</td>\n",
       "      <td>5.0</td>\n",
       "      <td>68040.0</td>\n",
       "    </tr>\n",
       "    <tr>\n",
       "      <th>4</th>\n",
       "      <td>0</td>\n",
       "      <td>0</td>\n",
       "      <td>0</td>\n",
       "      <td>0</td>\n",
       "      <td>0</td>\n",
       "      <td>0</td>\n",
       "      <td>0</td>\n",
       "      <td>0</td>\n",
       "      <td>0</td>\n",
       "      <td>1</td>\n",
       "      <td>...</td>\n",
       "      <td>0</td>\n",
       "      <td>0</td>\n",
       "      <td>0</td>\n",
       "      <td>9.5</td>\n",
       "      <td>145.0</td>\n",
       "      <td>170.0</td>\n",
       "      <td>168.0</td>\n",
       "      <td>190.0</td>\n",
       "      <td>5.0</td>\n",
       "      <td>32997.0</td>\n",
       "    </tr>\n",
       "  </tbody>\n",
       "</table>\n",
       "<p>5 rows × 168 columns</p>\n",
       "</div>"
      ],
      "text/plain": [
       "   Brand_Aiways   Brand_Audi   Brand_BMW   Brand_Byton   Brand_CUPRA   \\\n",
       "0              0            0           0             0             0   \n",
       "1              0            0           0             0             0   \n",
       "2              0            0           0             0             0   \n",
       "3              0            0           1             0             0   \n",
       "4              0            0           0             0             0   \n",
       "\n",
       "   Brand_Citroen   Brand_DS   Brand_Fiat   Brand_Ford   Brand_Honda   ...  \\\n",
       "0               0          0            0            0             0  ...   \n",
       "1               0          0            0            0             0  ...   \n",
       "2               0          0            0            0             0  ...   \n",
       "3               0          0            0            0             0  ...   \n",
       "4               0          0            0            0             1  ...   \n",
       "\n",
       "   Segment_F  Segment_N  Segment_S  AccelSec  TopSpeed_KmH  Range_Km  \\\n",
       "0          0          0          0       4.6         233.0     450.0   \n",
       "1          0          0          0      10.0         160.0     270.0   \n",
       "2          0          0          0       4.7         210.0     400.0   \n",
       "3          0          0          0       6.8         180.0     360.0   \n",
       "4          0          0          0       9.5         145.0     170.0   \n",
       "\n",
       "   Efficiency_WhKm  FastCharge_KmH  Seats  PriceEuro  \n",
       "0            161.0           930.0    5.0    55480.0  \n",
       "1            167.0           250.0    5.0    30000.0  \n",
       "2            181.0           620.0    5.0    56440.0  \n",
       "3            206.0           560.0    5.0    68040.0  \n",
       "4            168.0           190.0    5.0    32997.0  \n",
       "\n",
       "[5 rows x 168 columns]"
      ]
     },
     "execution_count": 23,
     "metadata": {},
     "output_type": "execute_result"
    }
   ],
   "source": [
    "electric.head()"
   ]
  },
  {
   "cell_type": "markdown",
   "id": "bef1b4a7",
   "metadata": {},
   "source": [
    "### 6) Data Partition"
   ]
  },
  {
   "cell_type": "code",
   "execution_count": 24,
   "id": "db6c0814",
   "metadata": {},
   "outputs": [],
   "source": [
    "x=electric.drop('PriceEuro', axis = 1)\n",
    "y=electric[['PriceEuro']]\n",
    "\n",
    "from sklearn.model_selection import train_test_split\n",
    "X_train, X_test, y_train, y_test=train_test_split(x,y,train_size=0.7,random_state=55)"
   ]
  },
  {
   "cell_type": "markdown",
   "id": "7b5f0fc4",
   "metadata": {},
   "source": [
    "### 7) Model Building"
   ]
  },
  {
   "cell_type": "markdown",
   "id": "631bb6c0",
   "metadata": {},
   "source": [
    "*  H0 :- There is no Linear relationship between PriceEuro and all the parameters of electric car.\n",
    "\n",
    "* Vs \n",
    "\n",
    "*  H1 :- There is a Linear relationship between PriceEuro and all the parameters of electric car.\n",
    "\n",
    "Alpha = 0.05 (5%)"
   ]
  },
  {
   "cell_type": "code",
   "execution_count": 25,
   "id": "ae83146f",
   "metadata": {},
   "outputs": [
    {
     "data": {
      "text/plain": [
       "DecisionTreeRegressor(max_depth=3, min_samples_leaf=8, min_samples_split=20)"
      ]
     },
     "execution_count": 25,
     "metadata": {},
     "output_type": "execute_result"
    }
   ],
   "source": [
    "#Import Tree Classifier model\n",
    "from sklearn import tree\n",
    "\n",
    "dt = tree.DecisionTreeRegressor(min_samples_split=20,\n",
    "                                min_samples_leaf=8,\n",
    "                                max_depth=3)  \n",
    "#Train the model using the training sets\n",
    "dt.fit(X_train,y_train)  # Model = dt"
   ]
  },
  {
   "cell_type": "code",
   "execution_count": 26,
   "id": "0872c9ec",
   "metadata": {},
   "outputs": [],
   "source": [
    "?tree.DecisionTreeRegressor"
   ]
  },
  {
   "cell_type": "code",
   "execution_count": 26,
   "id": "d1eb482b",
   "metadata": {},
   "outputs": [
    {
     "name": "stdout",
     "output_type": "stream",
     "text": [
      "<class 'pandas.core.frame.DataFrame'>\n",
      "Int64Index: 72 entries, 20 to 77\n",
      "Columns: 168 entries, Brand_Aiways  to PriceEuro\n",
      "dtypes: float64(7), uint8(161)\n",
      "memory usage: 15.8 KB\n"
     ]
    }
   ],
   "source": [
    "train = pd.concat([X_train,y_train],axis=1)\n",
    "train.info()"
   ]
  },
  {
   "cell_type": "markdown",
   "id": "47296e6b",
   "metadata": {},
   "source": [
    "### 8) Prediction on train dataset"
   ]
  },
  {
   "cell_type": "code",
   "execution_count": 27,
   "id": "1b7040b6",
   "metadata": {},
   "outputs": [],
   "source": [
    "train['Predicted']= dt.predict(X_train)\n",
    "# train.head()"
   ]
  },
  {
   "cell_type": "markdown",
   "id": "742b83bf",
   "metadata": {},
   "source": [
    "### 9) Model performance matrix"
   ]
  },
  {
   "cell_type": "code",
   "execution_count": 28,
   "id": "cb987a35",
   "metadata": {},
   "outputs": [
    {
     "name": "stdout",
     "output_type": "stream",
     "text": [
      "0.8625033951692922\n"
     ]
    }
   ],
   "source": [
    "from sklearn import metrics\n",
    "print(metrics.r2_score(y_train, train.Predicted))"
   ]
  },
  {
   "cell_type": "code",
   "execution_count": 29,
   "id": "6d7aefaa",
   "metadata": {},
   "outputs": [],
   "source": [
    "test = pd.concat([X_test,y_test],axis=1)\n",
    "# test.info()"
   ]
  },
  {
   "cell_type": "code",
   "execution_count": 30,
   "id": "cfe19469",
   "metadata": {},
   "outputs": [],
   "source": [
    "test['Predicted']= dt.predict(X_test)\n",
    "# test.head()"
   ]
  },
  {
   "cell_type": "code",
   "execution_count": 31,
   "id": "ec29fc1f",
   "metadata": {},
   "outputs": [
    {
     "name": "stdout",
     "output_type": "stream",
     "text": [
      "0.804341457450182\n"
     ]
    }
   ],
   "source": [
    "print(metrics.r2_score(y_test, test['Predicted']))"
   ]
  },
  {
   "cell_type": "markdown",
   "id": "8f4fea82",
   "metadata": {},
   "source": [
    "# Importance Feature"
   ]
  },
  {
   "cell_type": "code",
   "execution_count": 32,
   "id": "78e530c0",
   "metadata": {},
   "outputs": [
    {
     "data": {
      "image/png": "[encoded data removed]",
      "text/plain": [
       "<Figure size 720x360 with 1 Axes>"
      ]
     },
     "metadata": {
      "needs_background": "light"
     },
     "output_type": "display_data"
    }
   ],
   "source": [
    "# Plot features importances\n",
    "imp = pd.Series(data=dt.feature_importances_, index=x.columns).sort_values(ascending=False)\n",
    "plt.figure(figsize=(10,5))\n",
    "plt.title(\"Feature importance\")\n",
    "ax = sns.barplot(y=imp.head().index, x=imp.head().values, palette=\"Blues_r\", orient='h')"
   ]
  },
  {
   "cell_type": "code",
   "execution_count": null,
   "id": "7f095f64",
   "metadata": {},
   "outputs": [],
   "source": []
  }
 ],
 "metadata": {
  "kernelspec": {
   "display_name": "Python 3 (ipykernel)",
   "language": "python",
   "name": "python3"
  },
  "language_info": {
   "codemirror_mode": {
    "name": "ipython",
    "version": 3
   },
   "file_extension": ".py",
   "mimetype": "text/x-python",
   "name": "python",
   "nbconvert_exporter": "python",
   "pygments_lexer": "ipython3",
   "version": "3.9.12"
  }
 },
 "nbformat": 4,
 "nbformat_minor": 5
}
