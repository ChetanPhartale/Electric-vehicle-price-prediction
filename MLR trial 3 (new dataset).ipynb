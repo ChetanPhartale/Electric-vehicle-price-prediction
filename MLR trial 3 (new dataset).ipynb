{
 "cells": [
  {
   "cell_type": "markdown",
   "id": "9763cda3",
   "metadata": {},
   "source": [
    "##  Correct Order of Steps for Multiple Linear Regression\n",
    "#### 1.\tHandle duplicates & missing values\n",
    "#### 2.\tTreat outliers (using IQR, capping, or transformations)\n",
    "#### 3.\tApply Target Variable Transformation (If necessary)\n",
    "#### 4.\tSplit data into train & test sets\n",
    "#### 5.\tApply categorical encoding (Only on training data, then transform test data)\n",
    "#### 6.\tHandle multi-collinearity (VIF check, dropping highly correlated features)\n",
    "#### 7.\tNormalize/Standardize numerical features (Only on training data, then transform test data)\n",
    "#### 8.\tTrain Multiple Linear Regression model\n",
    "#### 9.\tEvaluate the model & check assumptions\n",
    "#### 10.\tApply regularization if necessary (L1/L2)\n",
    "#### 11.\tMake final predictions\n"
   ]
  },
  {
   "cell_type": "code",
   "execution_count": 264,
   "id": "19e5f0fa",
   "metadata": {},
   "outputs": [],
   "source": [
    "################################## Data Analysis & Calculation ##################################\n",
    "import pandas as pd \n",
    "import numpy as np \n",
    "\n",
    "################# Machine Learning ################\n",
    "import statsmodels\n",
    "from statsmodels.stats.anova import anova_lm\n",
    "from statsmodels.stats.outliers_influence import variance_inflation_factor\n",
    "from sklearn.model_selection import train_test_split\n",
    "from sklearn.linear_model import LinearRegression\n",
    "from sklearn.metrics import mean_squared_error, r2_score\n",
    "from sklearn.preprocessing import StandardScaler\n",
    "from sklearn.preprocessing import OneHotEncoder\n",
    "from sklearn.compose import ColumnTransformer\n",
    "from sklearn.linear_model import Ridge\n",
    "\n",
    "################# Data Visualization ################\n",
    "import seaborn as sns\n",
    "from matplotlib import pyplot as plt\n",
    "%matplotlib inline\n",
    "\n",
    "############# Skewness\n",
    "from scipy.stats import skew"
   ]
  },
  {
   "cell_type": "markdown",
   "id": "07747974",
   "metadata": {},
   "source": [
    "## Data Import"
   ]
  },
  {
   "cell_type": "code",
   "execution_count": 265,
   "id": "da6d6bc6",
   "metadata": {},
   "outputs": [],
   "source": [
    "electric = pd.read_csv(r\"C:\\Users\\HP\\Desktop\\Python\\Machine Learning\\Mini Project\\Electric vehicles2\\archive (2)\\train.csv\") "
   ]
  },
  {
   "cell_type": "code",
   "execution_count": 266,
   "id": "72caaf19",
   "metadata": {},
   "outputs": [
    {
     "data": {
      "text/html": [
       "<div>\n",
       "<style scoped>\n",
       "    .dataframe tbody tr th:only-of-type {\n",
       "        vertical-align: middle;\n",
       "    }\n",
       "\n",
       "    .dataframe tbody tr th {\n",
       "        vertical-align: top;\n",
       "    }\n",
       "\n",
       "    .dataframe thead th {\n",
       "        text-align: right;\n",
       "    }\n",
       "</style>\n",
       "<table border=\"1\" class=\"dataframe\">\n",
       "  <thead>\n",
       "    <tr style=\"text-align: right;\">\n",
       "      <th></th>\n",
       "      <th>ID</th>\n",
       "      <th>VIN (1-10)</th>\n",
       "      <th>County</th>\n",
       "      <th>City</th>\n",
       "      <th>State</th>\n",
       "      <th>ZIP Code</th>\n",
       "      <th>Model Year</th>\n",
       "      <th>Make</th>\n",
       "      <th>Model</th>\n",
       "      <th>Electric Vehicle Type</th>\n",
       "      <th>Clean Alternative Fuel Vehicle (CAFV) Eligibility</th>\n",
       "      <th>Electric Range</th>\n",
       "      <th>Base MSRP</th>\n",
       "      <th>Legislative District</th>\n",
       "      <th>DOL Vehicle ID</th>\n",
       "      <th>Vehicle Location</th>\n",
       "      <th>Electric Utility</th>\n",
       "      <th>Expected Price ($1k)</th>\n",
       "    </tr>\n",
       "  </thead>\n",
       "  <tbody>\n",
       "    <tr>\n",
       "      <th>0</th>\n",
       "      <td>EV33174</td>\n",
       "      <td>5YJ3E1EC6L</td>\n",
       "      <td>Snohomish</td>\n",
       "      <td>LYNNWOOD</td>\n",
       "      <td>WA</td>\n",
       "      <td>98037.0</td>\n",
       "      <td>2020.0</td>\n",
       "      <td>TESLA</td>\n",
       "      <td>MODEL 3</td>\n",
       "      <td>Battery Electric Vehicle (BEV)</td>\n",
       "      <td>Clean Alternative Fuel Vehicle Eligible</td>\n",
       "      <td>308</td>\n",
       "      <td>0</td>\n",
       "      <td>32.0</td>\n",
       "      <td>109821694</td>\n",
       "      <td>POINT (-122.287614 47.83874)</td>\n",
       "      <td>PUGET SOUND ENERGY INC</td>\n",
       "      <td>50</td>\n",
       "    </tr>\n",
       "    <tr>\n",
       "      <th>1</th>\n",
       "      <td>EV40247</td>\n",
       "      <td>JN1AZ0CP8B</td>\n",
       "      <td>Skagit</td>\n",
       "      <td>BELLINGHAM</td>\n",
       "      <td>WA</td>\n",
       "      <td>98229.0</td>\n",
       "      <td>2011.0</td>\n",
       "      <td>NISSAN</td>\n",
       "      <td>LEAF</td>\n",
       "      <td>Battery Electric Vehicle (BEV)</td>\n",
       "      <td>Clean Alternative Fuel Vehicle Eligible</td>\n",
       "      <td>73</td>\n",
       "      <td>0</td>\n",
       "      <td>40.0</td>\n",
       "      <td>137375528</td>\n",
       "      <td>POINT (-122.414936 48.709388)</td>\n",
       "      <td>PUGET SOUND ENERGY INC</td>\n",
       "      <td>15</td>\n",
       "    </tr>\n",
       "    <tr>\n",
       "      <th>2</th>\n",
       "      <td>EV12248</td>\n",
       "      <td>WBY1Z2C56F</td>\n",
       "      <td>Pierce</td>\n",
       "      <td>TACOMA</td>\n",
       "      <td>WA</td>\n",
       "      <td>98422.0</td>\n",
       "      <td>2015.0</td>\n",
       "      <td>BMW</td>\n",
       "      <td>I3</td>\n",
       "      <td>Battery Electric Vehicle (BEV)</td>\n",
       "      <td>Clean Alternative Fuel Vehicle Eligible</td>\n",
       "      <td>81</td>\n",
       "      <td>0</td>\n",
       "      <td>27.0</td>\n",
       "      <td>150627382</td>\n",
       "      <td>POINT (-122.396286 47.293138)</td>\n",
       "      <td>BONNEVILLE POWER ADMINISTRATION||CITY OF TACOM...</td>\n",
       "      <td>18</td>\n",
       "    </tr>\n",
       "    <tr>\n",
       "      <th>3</th>\n",
       "      <td>EV55713</td>\n",
       "      <td>1G1RD6E44D</td>\n",
       "      <td>King</td>\n",
       "      <td>REDMOND</td>\n",
       "      <td>WA</td>\n",
       "      <td>98053.0</td>\n",
       "      <td>2013.0</td>\n",
       "      <td>CHEVROLET</td>\n",
       "      <td>VOLT</td>\n",
       "      <td>Plug-in Hybrid Electric Vehicle (PHEV)</td>\n",
       "      <td>Clean Alternative Fuel Vehicle Eligible</td>\n",
       "      <td>38</td>\n",
       "      <td>0</td>\n",
       "      <td>45.0</td>\n",
       "      <td>258766301</td>\n",
       "      <td>POINT (-122.024951 47.670286)</td>\n",
       "      <td>PUGET SOUND ENERGY INC||CITY OF TACOMA - (WA)</td>\n",
       "      <td>33.9</td>\n",
       "    </tr>\n",
       "    <tr>\n",
       "      <th>4</th>\n",
       "      <td>EV28799</td>\n",
       "      <td>1G1FY6S05K</td>\n",
       "      <td>Pierce</td>\n",
       "      <td>PUYALLUP</td>\n",
       "      <td>WA</td>\n",
       "      <td>98375.0</td>\n",
       "      <td>2019.0</td>\n",
       "      <td>CHEVROLET</td>\n",
       "      <td>BOLT EV</td>\n",
       "      <td>Battery Electric Vehicle (BEV)</td>\n",
       "      <td>Clean Alternative Fuel Vehicle Eligible</td>\n",
       "      <td>238</td>\n",
       "      <td>0</td>\n",
       "      <td>25.0</td>\n",
       "      <td>296998138</td>\n",
       "      <td>POINT (-122.321062 47.103797)</td>\n",
       "      <td>BONNEVILLE POWER ADMINISTRATION||CITY OF TACOM...</td>\n",
       "      <td>41.78</td>\n",
       "    </tr>\n",
       "    <tr>\n",
       "      <th>...</th>\n",
       "      <td>...</td>\n",
       "      <td>...</td>\n",
       "      <td>...</td>\n",
       "      <td>...</td>\n",
       "      <td>...</td>\n",
       "      <td>...</td>\n",
       "      <td>...</td>\n",
       "      <td>...</td>\n",
       "      <td>...</td>\n",
       "      <td>...</td>\n",
       "      <td>...</td>\n",
       "      <td>...</td>\n",
       "      <td>...</td>\n",
       "      <td>...</td>\n",
       "      <td>...</td>\n",
       "      <td>...</td>\n",
       "      <td>...</td>\n",
       "      <td>...</td>\n",
       "    </tr>\n",
       "    <tr>\n",
       "      <th>64348</th>\n",
       "      <td>EV6357</td>\n",
       "      <td>KNDCE3LG7L</td>\n",
       "      <td>King</td>\n",
       "      <td>SEATTLE</td>\n",
       "      <td>WA</td>\n",
       "      <td>98144.0</td>\n",
       "      <td>2020.0</td>\n",
       "      <td>KIA</td>\n",
       "      <td>NIRO</td>\n",
       "      <td>Battery Electric Vehicle (BEV)</td>\n",
       "      <td>Clean Alternative Fuel Vehicle Eligible</td>\n",
       "      <td>239</td>\n",
       "      <td>0</td>\n",
       "      <td>37.0</td>\n",
       "      <td>156575107</td>\n",
       "      <td>POINT (-122.30033 47.585339)</td>\n",
       "      <td>CITY OF SEATTLE - (WA)|CITY OF TACOMA - (WA)</td>\n",
       "      <td>33</td>\n",
       "    </tr>\n",
       "    <tr>\n",
       "      <th>64349</th>\n",
       "      <td>EV423</td>\n",
       "      <td>JTDKN3DP2D</td>\n",
       "      <td>Pierce</td>\n",
       "      <td>TACOMA</td>\n",
       "      <td>WA</td>\n",
       "      <td>98402.0</td>\n",
       "      <td>2013.0</td>\n",
       "      <td>TOYOTA</td>\n",
       "      <td>PRIUS PLUG-IN</td>\n",
       "      <td>Plug-in Hybrid Electric Vehicle (PHEV)</td>\n",
       "      <td>Not eligible due to low battery range</td>\n",
       "      <td>6</td>\n",
       "      <td>0</td>\n",
       "      <td>27.0</td>\n",
       "      <td>211048701</td>\n",
       "      <td>POINT (-122.443211 47.252172)</td>\n",
       "      <td>BONNEVILLE POWER ADMINISTRATION||CITY OF TACOM...</td>\n",
       "      <td>13.3</td>\n",
       "    </tr>\n",
       "    <tr>\n",
       "      <th>64350</th>\n",
       "      <td>EV27852</td>\n",
       "      <td>1G1FX6S05J</td>\n",
       "      <td>King</td>\n",
       "      <td>SEATTLE</td>\n",
       "      <td>WA</td>\n",
       "      <td>98119.0</td>\n",
       "      <td>2018.0</td>\n",
       "      <td>CHEVROLET</td>\n",
       "      <td>BOLT EV</td>\n",
       "      <td>Battery Electric Vehicle (BEV)</td>\n",
       "      <td>Clean Alternative Fuel Vehicle Eligible</td>\n",
       "      <td>238</td>\n",
       "      <td>0</td>\n",
       "      <td>36.0</td>\n",
       "      <td>135543411</td>\n",
       "      <td>POINT (-122.367721 47.639264)</td>\n",
       "      <td>CITY OF SEATTLE - (WA)|CITY OF TACOMA - (WA)</td>\n",
       "      <td>22.857</td>\n",
       "    </tr>\n",
       "    <tr>\n",
       "      <th>64351</th>\n",
       "      <td>EV830</td>\n",
       "      <td>WP1AE2A24H</td>\n",
       "      <td>King</td>\n",
       "      <td>SEATTLE</td>\n",
       "      <td>WA</td>\n",
       "      <td>98115.0</td>\n",
       "      <td>2017.0</td>\n",
       "      <td>PORSCHE</td>\n",
       "      <td>CAYENNE</td>\n",
       "      <td>Plug-in Hybrid Electric Vehicle (PHEV)</td>\n",
       "      <td>Not eligible due to low battery range</td>\n",
       "      <td>14</td>\n",
       "      <td>0</td>\n",
       "      <td>46.0</td>\n",
       "      <td>192459907</td>\n",
       "      <td>POINT (-122.297534 47.685291)</td>\n",
       "      <td>CITY OF SEATTLE - (WA)|CITY OF TACOMA - (WA)</td>\n",
       "      <td>45.7</td>\n",
       "    </tr>\n",
       "    <tr>\n",
       "      <th>64352</th>\n",
       "      <td>EV11120</td>\n",
       "      <td>1N4BZ1CP8K</td>\n",
       "      <td>Lewis</td>\n",
       "      <td>TOLEDO</td>\n",
       "      <td>WA</td>\n",
       "      <td>98591.0</td>\n",
       "      <td>2019.0</td>\n",
       "      <td>NISSAN</td>\n",
       "      <td>LEAF</td>\n",
       "      <td>Battery Electric Vehicle (BEV)</td>\n",
       "      <td>Clean Alternative Fuel Vehicle Eligible</td>\n",
       "      <td>150</td>\n",
       "      <td>0</td>\n",
       "      <td>20.0</td>\n",
       "      <td>477551595</td>\n",
       "      <td>POINT (-122.800917 46.444012)</td>\n",
       "      <td>BONNEVILLE POWER ADMINISTRATION||CITY OF TACOM...</td>\n",
       "      <td>35</td>\n",
       "    </tr>\n",
       "  </tbody>\n",
       "</table>\n",
       "<p>64353 rows × 18 columns</p>\n",
       "</div>"
      ],
      "text/plain": [
       "            ID  VIN (1-10)     County        City State  ZIP Code  Model Year  \\\n",
       "0      EV33174  5YJ3E1EC6L  Snohomish    LYNNWOOD    WA   98037.0      2020.0   \n",
       "1      EV40247  JN1AZ0CP8B     Skagit  BELLINGHAM    WA   98229.0      2011.0   \n",
       "2      EV12248  WBY1Z2C56F     Pierce      TACOMA    WA   98422.0      2015.0   \n",
       "3      EV55713  1G1RD6E44D       King     REDMOND    WA   98053.0      2013.0   \n",
       "4      EV28799  1G1FY6S05K     Pierce    PUYALLUP    WA   98375.0      2019.0   \n",
       "...        ...         ...        ...         ...   ...       ...         ...   \n",
       "64348   EV6357  KNDCE3LG7L       King     SEATTLE    WA   98144.0      2020.0   \n",
       "64349    EV423  JTDKN3DP2D     Pierce      TACOMA    WA   98402.0      2013.0   \n",
       "64350  EV27852  1G1FX6S05J       King     SEATTLE    WA   98119.0      2018.0   \n",
       "64351    EV830  WP1AE2A24H       King     SEATTLE    WA   98115.0      2017.0   \n",
       "64352  EV11120  1N4BZ1CP8K      Lewis      TOLEDO    WA   98591.0      2019.0   \n",
       "\n",
       "            Make          Model                   Electric Vehicle Type  \\\n",
       "0          TESLA        MODEL 3          Battery Electric Vehicle (BEV)   \n",
       "1         NISSAN           LEAF          Battery Electric Vehicle (BEV)   \n",
       "2            BMW             I3          Battery Electric Vehicle (BEV)   \n",
       "3      CHEVROLET           VOLT  Plug-in Hybrid Electric Vehicle (PHEV)   \n",
       "4      CHEVROLET        BOLT EV          Battery Electric Vehicle (BEV)   \n",
       "...          ...            ...                                     ...   \n",
       "64348        KIA           NIRO          Battery Electric Vehicle (BEV)   \n",
       "64349     TOYOTA  PRIUS PLUG-IN  Plug-in Hybrid Electric Vehicle (PHEV)   \n",
       "64350  CHEVROLET        BOLT EV          Battery Electric Vehicle (BEV)   \n",
       "64351    PORSCHE        CAYENNE  Plug-in Hybrid Electric Vehicle (PHEV)   \n",
       "64352     NISSAN           LEAF          Battery Electric Vehicle (BEV)   \n",
       "\n",
       "      Clean Alternative Fuel Vehicle (CAFV) Eligibility  Electric Range  \\\n",
       "0               Clean Alternative Fuel Vehicle Eligible             308   \n",
       "1               Clean Alternative Fuel Vehicle Eligible              73   \n",
       "2               Clean Alternative Fuel Vehicle Eligible              81   \n",
       "3               Clean Alternative Fuel Vehicle Eligible              38   \n",
       "4               Clean Alternative Fuel Vehicle Eligible             238   \n",
       "...                                                 ...             ...   \n",
       "64348           Clean Alternative Fuel Vehicle Eligible             239   \n",
       "64349             Not eligible due to low battery range               6   \n",
       "64350           Clean Alternative Fuel Vehicle Eligible             238   \n",
       "64351             Not eligible due to low battery range              14   \n",
       "64352           Clean Alternative Fuel Vehicle Eligible             150   \n",
       "\n",
       "       Base MSRP  Legislative District  DOL Vehicle ID  \\\n",
       "0              0                  32.0       109821694   \n",
       "1              0                  40.0       137375528   \n",
       "2              0                  27.0       150627382   \n",
       "3              0                  45.0       258766301   \n",
       "4              0                  25.0       296998138   \n",
       "...          ...                   ...             ...   \n",
       "64348          0                  37.0       156575107   \n",
       "64349          0                  27.0       211048701   \n",
       "64350          0                  36.0       135543411   \n",
       "64351          0                  46.0       192459907   \n",
       "64352          0                  20.0       477551595   \n",
       "\n",
       "                    Vehicle Location  \\\n",
       "0       POINT (-122.287614 47.83874)   \n",
       "1      POINT (-122.414936 48.709388)   \n",
       "2      POINT (-122.396286 47.293138)   \n",
       "3      POINT (-122.024951 47.670286)   \n",
       "4      POINT (-122.321062 47.103797)   \n",
       "...                              ...   \n",
       "64348   POINT (-122.30033 47.585339)   \n",
       "64349  POINT (-122.443211 47.252172)   \n",
       "64350  POINT (-122.367721 47.639264)   \n",
       "64351  POINT (-122.297534 47.685291)   \n",
       "64352  POINT (-122.800917 46.444012)   \n",
       "\n",
       "                                        Electric Utility Expected Price ($1k)  \n",
       "0                                 PUGET SOUND ENERGY INC                   50  \n",
       "1                                 PUGET SOUND ENERGY INC                   15  \n",
       "2      BONNEVILLE POWER ADMINISTRATION||CITY OF TACOM...                   18  \n",
       "3          PUGET SOUND ENERGY INC||CITY OF TACOMA - (WA)                 33.9  \n",
       "4      BONNEVILLE POWER ADMINISTRATION||CITY OF TACOM...                41.78  \n",
       "...                                                  ...                  ...  \n",
       "64348       CITY OF SEATTLE - (WA)|CITY OF TACOMA - (WA)                   33  \n",
       "64349  BONNEVILLE POWER ADMINISTRATION||CITY OF TACOM...                 13.3  \n",
       "64350       CITY OF SEATTLE - (WA)|CITY OF TACOMA - (WA)               22.857  \n",
       "64351       CITY OF SEATTLE - (WA)|CITY OF TACOMA - (WA)                 45.7  \n",
       "64352  BONNEVILLE POWER ADMINISTRATION||CITY OF TACOM...                   35  \n",
       "\n",
       "[64353 rows x 18 columns]"
      ]
     },
     "execution_count": 266,
     "metadata": {},
     "output_type": "execute_result"
    }
   ],
   "source": [
    "electric"
   ]
  },
  {
   "cell_type": "markdown",
   "id": "c32a838d",
   "metadata": {},
   "source": [
    "## Data Overview\n",
    "#### VIN (1-10) - The 1st 10 characters of each vehicle's Vehicle Identification Number (VIN).\n",
    "#### County- The county in which the registered owner resides.\n",
    "#### City - The city in which the registered owner resides.\n",
    "#### State- The state in which the registered owner resides.\n",
    "#### ZIP Code - The 5-digit zip code in which the registered owner resides.\n",
    "#### Model Year - The model year of the vehicle is determined by decoding the Vehicle Identification Number (VIN).\n",
    "#### Make- The manufacturer of the vehicle, determined by decoding the Vehicle Identification Number (VIN).\n",
    "#### Model- The model of the vehicle is determined by decoding the Vehicle Identification Number (VIN).\n",
    "#### Electric Vehicle Type - This distinguishes the vehicle as all-electric or a plug-in hybrid.\n",
    "#### Clean Alternative Fuel Vehicle (CAFV) Eligibility - This categorizes vehicles as Clean Alternative Fuel Vehicles (CAFVs) based on the fuel requirement and electric-only range requirement.\n",
    "#### Electric Range - Describes how far a vehicle can travel purely on its electric charge.\n",
    "#### Base MSRP - This is the lowest Manufacturer's Suggested Retail Price (MSRP) for any trim level of the model in question.\n",
    "#### Legislative District - The specific section of Washington State that the vehicle's owner resides in, as represented in the state legislature.\n",
    "#### DOL Vehicle ID - Unique number assigned to each vehicle by the Department of Licensing for identification purposes.\n",
    "#### Vehicle Location - The center of the ZIP Code for the registered vehicle.\n",
    "#### Electric Utility - This is the electric power retail service territory serving the address of the registered vehicle.\n",
    "#### Expected Price - This is the expected price of the vehicle."
   ]
  },
  {
   "cell_type": "markdown",
   "id": "9c6743d7",
   "metadata": {},
   "source": [
    "## Data type"
   ]
  },
  {
   "cell_type": "code",
   "execution_count": 267,
   "id": "d6163da7",
   "metadata": {},
   "outputs": [
    {
     "name": "stdout",
     "output_type": "stream",
     "text": [
      "<class 'pandas.core.frame.DataFrame'>\n",
      "RangeIndex: 64353 entries, 0 to 64352\n",
      "Data columns (total 18 columns):\n",
      " #   Column                                             Non-Null Count  Dtype  \n",
      "---  ------                                             --------------  -----  \n",
      " 0   ID                                                 64353 non-null  object \n",
      " 1   VIN (1-10)                                         64353 non-null  object \n",
      " 2   County                                             64349 non-null  object \n",
      " 3   City                                               64344 non-null  object \n",
      " 4   State                                              64342 non-null  object \n",
      " 5   ZIP Code                                           64347 non-null  float64\n",
      " 6   Model Year                                         64346 non-null  float64\n",
      " 7   Make                                               64349 non-null  object \n",
      " 8   Model                                              64340 non-null  object \n",
      " 9   Electric Vehicle Type                              64353 non-null  object \n",
      " 10  Clean Alternative Fuel Vehicle (CAFV) Eligibility  64353 non-null  object \n",
      " 11  Electric Range                                     64353 non-null  int64  \n",
      " 12  Base MSRP                                          64353 non-null  int64  \n",
      " 13  Legislative District                               64184 non-null  float64\n",
      " 14  DOL Vehicle ID                                     64353 non-null  int64  \n",
      " 15  Vehicle Location                                   63843 non-null  object \n",
      " 16  Electric Utility                                   63631 non-null  object \n",
      " 17  Expected Price ($1k)                               64353 non-null  object \n",
      "dtypes: float64(3), int64(3), object(12)\n",
      "memory usage: 8.8+ MB\n"
     ]
    }
   ],
   "source": [
    "electric.info()"
   ]
  },
  {
   "cell_type": "code",
   "execution_count": 268,
   "id": "bc7711ba",
   "metadata": {},
   "outputs": [],
   "source": [
    "electric['ZIP Code'] = electric['ZIP Code'].astype(str)\n",
    "electric['Legislative District'] = electric['Legislative District'].astype(str)\n"
   ]
  },
  {
   "cell_type": "code",
   "execution_count": 269,
   "id": "df63a5f3",
   "metadata": {},
   "outputs": [
    {
     "data": {
      "text/html": [
       "<div>\n",
       "<style scoped>\n",
       "    .dataframe tbody tr th:only-of-type {\n",
       "        vertical-align: middle;\n",
       "    }\n",
       "\n",
       "    .dataframe tbody tr th {\n",
       "        vertical-align: top;\n",
       "    }\n",
       "\n",
       "    .dataframe thead th {\n",
       "        text-align: right;\n",
       "    }\n",
       "</style>\n",
       "<table border=\"1\" class=\"dataframe\">\n",
       "  <thead>\n",
       "    <tr style=\"text-align: right;\">\n",
       "      <th></th>\n",
       "      <th>Model Year</th>\n",
       "      <th>Electric Range</th>\n",
       "      <th>Base MSRP</th>\n",
       "      <th>DOL Vehicle ID</th>\n",
       "    </tr>\n",
       "  </thead>\n",
       "  <tbody>\n",
       "    <tr>\n",
       "      <th>count</th>\n",
       "      <td>64346.000000</td>\n",
       "      <td>64353.000000</td>\n",
       "      <td>64353.000000</td>\n",
       "      <td>6.435300e+04</td>\n",
       "    </tr>\n",
       "    <tr>\n",
       "      <th>mean</th>\n",
       "      <td>2018.186212</td>\n",
       "      <td>106.948985</td>\n",
       "      <td>2524.990754</td>\n",
       "      <td>1.972905e+08</td>\n",
       "    </tr>\n",
       "    <tr>\n",
       "      <th>std</th>\n",
       "      <td>2.726742</td>\n",
       "      <td>104.093919</td>\n",
       "      <td>12402.895104</td>\n",
       "      <td>1.069466e+08</td>\n",
       "    </tr>\n",
       "    <tr>\n",
       "      <th>min</th>\n",
       "      <td>1993.000000</td>\n",
       "      <td>0.000000</td>\n",
       "      <td>0.000000</td>\n",
       "      <td>4.385000e+03</td>\n",
       "    </tr>\n",
       "    <tr>\n",
       "      <th>25%</th>\n",
       "      <td>2017.000000</td>\n",
       "      <td>14.000000</td>\n",
       "      <td>0.000000</td>\n",
       "      <td>1.372865e+08</td>\n",
       "    </tr>\n",
       "    <tr>\n",
       "      <th>50%</th>\n",
       "      <td>2018.000000</td>\n",
       "      <td>73.000000</td>\n",
       "      <td>0.000000</td>\n",
       "      <td>1.753776e+08</td>\n",
       "    </tr>\n",
       "    <tr>\n",
       "      <th>75%</th>\n",
       "      <td>2021.000000</td>\n",
       "      <td>215.000000</td>\n",
       "      <td>0.000000</td>\n",
       "      <td>2.299039e+08</td>\n",
       "    </tr>\n",
       "    <tr>\n",
       "      <th>max</th>\n",
       "      <td>2022.000000</td>\n",
       "      <td>337.000000</td>\n",
       "      <td>845000.000000</td>\n",
       "      <td>4.789346e+08</td>\n",
       "    </tr>\n",
       "  </tbody>\n",
       "</table>\n",
       "</div>"
      ],
      "text/plain": [
       "         Model Year  Electric Range      Base MSRP  DOL Vehicle ID\n",
       "count  64346.000000    64353.000000   64353.000000    6.435300e+04\n",
       "mean    2018.186212      106.948985    2524.990754    1.972905e+08\n",
       "std        2.726742      104.093919   12402.895104    1.069466e+08\n",
       "min     1993.000000        0.000000       0.000000    4.385000e+03\n",
       "25%     2017.000000       14.000000       0.000000    1.372865e+08\n",
       "50%     2018.000000       73.000000       0.000000    1.753776e+08\n",
       "75%     2021.000000      215.000000       0.000000    2.299039e+08\n",
       "max     2022.000000      337.000000  845000.000000    4.789346e+08"
      ]
     },
     "execution_count": 269,
     "metadata": {},
     "output_type": "execute_result"
    }
   ],
   "source": [
    "electric.describe()"
   ]
  },
  {
   "cell_type": "code",
   "execution_count": 270,
   "id": "4cec1e45",
   "metadata": {},
   "outputs": [
    {
     "data": {
      "text/plain": [
       "0         61263\n",
       "69900      1062\n",
       "34600       359\n",
       "31950       305\n",
       "28500       148\n",
       "52900       143\n",
       "38500       127\n",
       "32250       113\n",
       "59900       105\n",
       "54950       101\n",
       "39995        79\n",
       "33950        64\n",
       "44100        63\n",
       "36900        56\n",
       "64950        51\n",
       "45600        42\n",
       "36800        40\n",
       "52650        38\n",
       "34995        34\n",
       "55700        31\n",
       "98950        14\n",
       "110950       14\n",
       "53400        14\n",
       "75095        12\n",
       "90700        12\n",
       "102000       11\n",
       "81100        11\n",
       "35390         9\n",
       "184400        9\n",
       "43700         7\n",
       "109000        6\n",
       "89100         5\n",
       "66300         1\n",
       "91250         1\n",
       "32995         1\n",
       "845000        1\n",
       "32000         1\n",
       "Name: Base MSRP, dtype: int64"
      ]
     },
     "execution_count": 270,
     "metadata": {},
     "output_type": "execute_result"
    }
   ],
   "source": [
    "electric['Base MSRP'].value_counts()"
   ]
  },
  {
   "cell_type": "code",
   "execution_count": 271,
   "id": "3e7276ac",
   "metadata": {},
   "outputs": [],
   "source": [
    "electric = electric.drop(['ID','DOL Vehicle ID','Base MSRP','VIN (1-10)','Vehicle Location'],axis=1)"
   ]
  },
  {
   "cell_type": "markdown",
   "id": "0fe3f138",
   "metadata": {},
   "source": [
    "## Treatment of null values"
   ]
  },
  {
   "cell_type": "code",
   "execution_count": 272,
   "id": "e25abccc",
   "metadata": {},
   "outputs": [
    {
     "data": {
      "text/plain": [
       "County                                                 4\n",
       "City                                                   9\n",
       "State                                                 11\n",
       "ZIP Code                                               0\n",
       "Model Year                                             7\n",
       "Make                                                   4\n",
       "Model                                                 13\n",
       "Electric Vehicle Type                                  0\n",
       "Clean Alternative Fuel Vehicle (CAFV) Eligibility      0\n",
       "Electric Range                                         0\n",
       "Legislative District                                   0\n",
       "Electric Utility                                     722\n",
       "Expected Price ($1k)                                   0\n",
       "dtype: int64"
      ]
     },
     "execution_count": 272,
     "metadata": {},
     "output_type": "execute_result"
    }
   ],
   "source": [
    "electric.isnull().sum()"
   ]
  },
  {
   "cell_type": "code",
   "execution_count": 273,
   "id": "e672fa41",
   "metadata": {},
   "outputs": [],
   "source": [
    "electric['Expected Price ($1k)'] = electric['Expected Price ($1k)'].replace('N/',np.nan).astype(float)\n",
    "electric = electric.dropna(subset=['Expected Price ($1k)'])\n"
   ]
  },
  {
   "cell_type": "code",
   "execution_count": 274,
   "id": "52934f0a",
   "metadata": {},
   "outputs": [],
   "source": [
    "electric = electric.fillna(electric.mode().iloc[0])"
   ]
  },
  {
   "cell_type": "code",
   "execution_count": 275,
   "id": "4b158471",
   "metadata": {},
   "outputs": [
    {
     "data": {
      "text/plain": [
       "County                                               0\n",
       "City                                                 0\n",
       "State                                                0\n",
       "ZIP Code                                             0\n",
       "Model Year                                           0\n",
       "Make                                                 0\n",
       "Model                                                0\n",
       "Electric Vehicle Type                                0\n",
       "Clean Alternative Fuel Vehicle (CAFV) Eligibility    0\n",
       "Electric Range                                       0\n",
       "Legislative District                                 0\n",
       "Electric Utility                                     0\n",
       "Expected Price ($1k)                                 0\n",
       "dtype: int64"
      ]
     },
     "execution_count": 275,
     "metadata": {},
     "output_type": "execute_result"
    }
   ],
   "source": [
    "electric.isnull().sum()"
   ]
  },
  {
   "cell_type": "markdown",
   "id": "103c6929",
   "metadata": {},
   "source": [
    "### Outlier treatment using IQR"
   ]
  },
  {
   "cell_type": "code",
   "execution_count": 276,
   "id": "599cf9b6",
   "metadata": {},
   "outputs": [
    {
     "data": {
      "text/plain": [
       "<AxesSubplot:>"
      ]
     },
     "execution_count": 276,
     "metadata": {},
     "output_type": "execute_result"
    },
    {
     "data": {
      "image/png": "[encoded data removed]",
      "text/plain": [
       "<Figure size 720x720 with 1 Axes>"
      ]
     },
     "metadata": {
      "needs_background": "light"
     },
     "output_type": "display_data"
    }
   ],
   "source": [
    "fig, axarr  = plt.subplots(figsize=(10,10))\n",
    "sns.boxplot(data=electric)"
   ]
  },
  {
   "cell_type": "markdown",
   "id": "60c282d9",
   "metadata": {},
   "source": [
    "### No outliers are present in 'Electric Range'"
   ]
  },
  {
   "cell_type": "markdown",
   "id": "7edf9d37",
   "metadata": {},
   "source": [
    "## Target Variable Transformation"
   ]
  },
  {
   "cell_type": "code",
   "execution_count": 277,
   "id": "ab145c0b",
   "metadata": {},
   "outputs": [],
   "source": [
    "electric['Expected Price ($1k)'] = np.log1p(electric['Expected Price ($1k)'])"
   ]
  },
  {
   "cell_type": "markdown",
   "id": "ecf05301",
   "metadata": {},
   "source": [
    "## Splitting the data into training & testing sets."
   ]
  },
  {
   "cell_type": "code",
   "execution_count": 278,
   "id": "7424bb77",
   "metadata": {},
   "outputs": [],
   "source": [
    "X = electric.drop(columns=['Expected Price ($1k)'])  # Features\n",
    "y = electric['Expected Price ($1k)']  # Target variable\n",
    "\n",
    "X_train, X_test, y_train, y_test = train_test_split(X, y, test_size=0.2, random_state=42)\n"
   ]
  },
  {
   "cell_type": "markdown",
   "id": "c5873d50",
   "metadata": {},
   "source": [
    "## Treatment of Numerical columns"
   ]
  },
  {
   "cell_type": "markdown",
   "id": "51c6f68c",
   "metadata": {},
   "source": [
    "#### No need to to Standardization or Normalization as we have only 1 Numerical variable ('Electric Range')"
   ]
  },
  {
   "cell_type": "markdown",
   "id": "df21a9ca",
   "metadata": {},
   "source": [
    "## Treatment of Categorical columns"
   ]
  },
  {
   "cell_type": "code",
   "execution_count": 279,
   "id": "a155d960",
   "metadata": {},
   "outputs": [],
   "source": [
    "# Categorical Column types:\n",
    "# County : Nominal, 140 categories\n",
    "# City: Nominal, 545 Categories\n",
    "# State: Nominal, 39 Categories\n",
    "# ZIP Code: Nominal, 679 Categories\n",
    "# Make: Nominal, 35 Categories\n",
    "# Model: Nominal, 107 Categories\n",
    "# Electric Vehicle Type: Nominal, 2 Categories\n",
    "# Clean Alternative Fuel Vehicle (CAFV) Eligibility: Nominal, 3 Categories\n",
    "# Legislative District: Nominal, 51 Categories\n",
    "# Electric Utility: Nominal, 69 Categories"
   ]
  },
  {
   "cell_type": "code",
   "execution_count": 280,
   "id": "4c4768e8",
   "metadata": {},
   "outputs": [],
   "source": [
    "# Here we have 'Electric Vehicle Type' and 'CAFV Eligibility' where we can apply One-Hot Encoding or Dummies.\n",
    "\n",
    "low_cardinality_features = ['Electric Vehicle Type', 'Clean Alternative Fuel Vehicle (CAFV) Eligibility']\n",
    "\n",
    "X_train = pd.get_dummies(X_train, columns=low_cardinality_features, drop_first=True)\n",
    "X_test = pd.get_dummies(X_test, columns=low_cardinality_features, drop_first=True)"
   ]
  },
  {
   "cell_type": "code",
   "execution_count": 281,
   "id": "be1033a3",
   "metadata": {},
   "outputs": [],
   "source": [
    "# To all other variables which have higher number of categories, we can apply Target encoding.\n",
    "import category_encoders\n",
    "from category_encoders import TargetEncoder\n",
    "high_cardinality_features = ['County', 'City', 'State', 'ZIP Code', 'Make', 'Model', 'Legislative District', 'Electric Utility']\n",
    "\n",
    "target_enc = TargetEncoder()\n",
    "X_train[high_cardinality_features] = target_enc.fit_transform(X_train[high_cardinality_features], y_train)\n",
    "X_test[high_cardinality_features] = target_enc.transform(X_test[high_cardinality_features])\n"
   ]
  },
  {
   "cell_type": "markdown",
   "id": "308a1c8a",
   "metadata": {},
   "source": [
    "## Multiple Linear Regression Model building"
   ]
  },
  {
   "cell_type": "code",
   "execution_count": 282,
   "id": "dac5ca65",
   "metadata": {},
   "outputs": [
    {
     "name": "stdout",
     "output_type": "stream",
     "text": [
      "MAE: 0.1365112714759161\n",
      "RMSE: 0.18898899405879516\n",
      "R² Score: 0.8865308761729489\n"
     ]
    }
   ],
   "source": [
    "from sklearn.metrics import mean_absolute_error, mean_squared_error, r2_score\n",
    "\n",
    "model = LinearRegression()\n",
    "model.fit(X_train, y_train)\n",
    "\n",
    "y_pred = model.predict(X_test)\n",
    "\n",
    "print(\"MAE:\", mean_absolute_error(y_test, y_pred))\n",
    "print(\"RMSE:\", mean_squared_error(y_test, y_pred, squared=False))\n",
    "print(\"R² Score:\", r2_score(y_test, y_pred))"
   ]
  },
  {
   "cell_type": "markdown",
   "id": "70d96feb",
   "metadata": {},
   "source": [
    "## Lets also apply Lasso & Ridge Regularization on our model"
   ]
  },
  {
   "cell_type": "code",
   "execution_count": 283,
   "id": "10c410eb",
   "metadata": {},
   "outputs": [
    {
     "name": "stdout",
     "output_type": "stream",
     "text": [
      "Lasso Regression Results:\n",
      "MAE: 0.23734351530811754\n",
      "RMSE: 0.2945280617494203\n",
      "R² Score: 0.7244134402647981\n"
     ]
    }
   ],
   "source": [
    "from sklearn.linear_model import Lasso\n",
    "\n",
    "lasso = Lasso(alpha=0.1) \n",
    "\n",
    "lasso.fit(X_train, y_train)\n",
    "\n",
    "y_pred_lasso = lasso.predict(X_test)\n",
    "\n",
    "# Evaluate the model\n",
    "mae_lasso = mean_absolute_error(y_test, y_pred_lasso)\n",
    "rmse_lasso = np.sqrt(mean_squared_error(y_test, y_pred_lasso))\n",
    "r2_lasso = r2_score(y_test, y_pred_lasso)\n",
    "\n",
    "print(f\"Lasso Regression Results:\")\n",
    "print(f\"MAE: {mae_lasso}\")\n",
    "print(f\"RMSE: {rmse_lasso}\")\n",
    "print(f\"R² Score: {r2_lasso}\")"
   ]
  },
  {
   "cell_type": "code",
   "execution_count": 284,
   "id": "f83333cd",
   "metadata": {},
   "outputs": [
    {
     "name": "stdout",
     "output_type": "stream",
     "text": [
      "Ridge Regression Results:\n",
      "MAE: 0.1365076778629977\n",
      "RMSE: 0.18898729659987548\n",
      "R² Score: 0.8865329144748333\n"
     ]
    }
   ],
   "source": [
    "from sklearn.linear_model import Ridge\n",
    "\n",
    "ridge = Ridge(alpha=0.1) \n",
    "\n",
    "ridge.fit(X_train, y_train)\n",
    "\n",
    "y_pred_ridge = ridge.predict(X_test)\n",
    "\n",
    "# Evaluate the model\n",
    "mae_ridge = mean_absolute_error(y_test, y_pred_ridge)\n",
    "rmse_ridge = np.sqrt(mean_squared_error(y_test, y_pred_ridge))\n",
    "r2_ridge = r2_score(y_test, y_pred_ridge)\n",
    "\n",
    "print(f\"Ridge Regression Results:\")\n",
    "print(f\"MAE: {mae_ridge}\")\n",
    "print(f\"RMSE: {rmse_ridge}\")\n",
    "print(f\"R² Score: {r2_ridge}\")\n"
   ]
  },
  {
   "cell_type": "markdown",
   "id": "04485878",
   "metadata": {},
   "source": [
    "## Let's check the Assumptions on our Multiple linear regression model."
   ]
  },
  {
   "cell_type": "markdown",
   "id": "876d6987",
   "metadata": {},
   "source": [
    "### 1) Linearity"
   ]
  },
  {
   "cell_type": "code",
   "execution_count": 285,
   "id": "f9f81239",
   "metadata": {
    "scrolled": true
   },
   "outputs": [
    {
     "data": {
      "image/png": "[encoded data removed]",
      "text/plain": [
       "<Figure size 576x360 with 1 Axes>"
      ]
     },
     "metadata": {
      "needs_background": "light"
     },
     "output_type": "display_data"
    }
   ],
   "source": [
    "import matplotlib.pyplot as plt\n",
    "import seaborn as sns\n",
    "import numpy as np\n",
    "\n",
    "# Predict values\n",
    "y_pred = model.predict(X_test)\n",
    "\n",
    "# Residuals\n",
    "residuals = y_test - y_pred\n",
    "\n",
    "# Scatter plot of residuals\n",
    "plt.figure(figsize=(8, 5))\n",
    "sns.scatterplot(x=y_pred, y=residuals)\n",
    "plt.axhline(y=0, color='r', linestyle='--')\n",
    "plt.xlabel(\"Predicted Values\")\n",
    "plt.ylabel(\"Residuals\")\n",
    "plt.title(\"Residual Plot - Checking Linearity\")\n",
    "plt.show()"
   ]
  },
  {
   "cell_type": "markdown",
   "id": "4672bf6f",
   "metadata": {},
   "source": [
    "#### The residuals are randomly scattered around the zero line, indicating that the linearity assumption is mostly satisfied.\n",
    "\n",
    "#### There are some minor deviations, but overall, the relationship between predictors and the target appears to be linear."
   ]
  },
  {
   "cell_type": "markdown",
   "id": "544998f3",
   "metadata": {},
   "source": [
    "### 2. Multicollinearity (Already Checked as we have only 1 numerical column)"
   ]
  },
  {
   "cell_type": "markdown",
   "id": "90599022",
   "metadata": {},
   "source": [
    "### 3) Normality of Residuals\n",
    "#### Residuals should be normally distributed."
   ]
  },
  {
   "cell_type": "code",
   "execution_count": 286,
   "id": "e6dc4233",
   "metadata": {
    "scrolled": true
   },
   "outputs": [
    {
     "data": {
      "image/png": "[encoded data removed]",
      "text/plain": [
       "<Figure size 576x360 with 1 Axes>"
      ]
     },
     "metadata": {
      "needs_background": "light"
     },
     "output_type": "display_data"
    },
    {
     "data": {
      "image/png": "[encoded data removed]",
      "text/plain": [
       "<Figure size 432x288 with 1 Axes>"
      ]
     },
     "metadata": {
      "needs_background": "light"
     },
     "output_type": "display_data"
    }
   ],
   "source": [
    "import scipy.stats as stats\n",
    "\n",
    "# Histogram of residuals\n",
    "plt.figure(figsize=(8, 5))\n",
    "sns.histplot(residuals, kde=True, bins=30)\n",
    "plt.xlabel(\"Residuals\")\n",
    "plt.ylabel(\"Frequency\")\n",
    "plt.title(\"Histogram of Residuals - Checking Normality\")\n",
    "plt.show()\n",
    "\n",
    "# Q-Q Plot\n",
    "stats.probplot(residuals, dist=\"norm\", plot=plt)\n",
    "plt.title(\"Q-Q Plot - Checking Normality of Residuals\")\n",
    "plt.show()\n"
   ]
  },
  {
   "cell_type": "markdown",
   "id": "bbfc8210",
   "metadata": {},
   "source": [
    "#### The histogram of residuals is slightly skewed, suggesting that the residuals are not perfectly normally distributed.\n",
    "\n",
    "#### The Q-Q plot shows some deviation from the red line, especially in the tails, which suggests that the residuals do not follow a perfect normal distribution."
   ]
  },
  {
   "cell_type": "markdown",
   "id": "cf65407d",
   "metadata": {},
   "source": [
    "### 4) Homoscedasticity (Constant Variance of Residuals)\n",
    "#### Residuals should have constant variance across all levels of X."
   ]
  },
  {
   "cell_type": "code",
   "execution_count": 287,
   "id": "0fc2186b",
   "metadata": {},
   "outputs": [
    {
     "data": {
      "image/png": "[encoded data removed]",
      "text/plain": [
       "<Figure size 576x360 with 1 Axes>"
      ]
     },
     "metadata": {
      "needs_background": "light"
     },
     "output_type": "display_data"
    }
   ],
   "source": [
    "plt.figure(figsize=(8, 5))\n",
    "sns.scatterplot(x=y_pred, y=residuals)\n",
    "plt.axhline(y=0, color='r', linestyle='--')\n",
    "plt.xlabel(\"Fitted Values (Predicted)\")\n",
    "plt.ylabel(\"Residuals\")\n",
    "plt.title(\"Homoscedasticity Check - Residuals vs. Fitted\")\n",
    "plt.show()\n"
   ]
  },
  {
   "cell_type": "markdown",
   "id": "4d979920",
   "metadata": {},
   "source": [
    "#### The residuals appear evenly spread without a clear pattern, suggesting that the assumption of homoscedasticity is largely met.\n",
    "\n",
    "#### However, there are a few extreme points that could indicate the presence of some heteroscedasticity."
   ]
  },
  {
   "cell_type": "markdown",
   "id": "82a20a2a",
   "metadata": {},
   "source": [
    "### 5) No Autocorrelation of Residuals\n",
    "#### Residuals should not be correlated."
   ]
  },
  {
   "cell_type": "code",
   "execution_count": 288,
   "id": "8ebd7163",
   "metadata": {},
   "outputs": [
    {
     "name": "stdout",
     "output_type": "stream",
     "text": [
      "Durbin-Watson Statistic: 1.9930102955622302\n"
     ]
    }
   ],
   "source": [
    "from statsmodels.stats.stattools import durbin_watson\n",
    "\n",
    "dw_stat = durbin_watson(residuals)\n",
    "print(f\"Durbin-Watson Statistic: {dw_stat}\")\n"
   ]
  },
  {
   "cell_type": "markdown",
   "id": "a9640f57",
   "metadata": {},
   "source": [
    "#### A Durbin-Watson statistic (Range 0-4), close to 2 suggests that there is no significant autocorrelation in the residuals.\n",
    "\n",
    "#### Since the value is very close to 2, we can conclude that the independence assumption holds."
   ]
  },
  {
   "cell_type": "code",
   "execution_count": null,
   "id": "0690d1b5",
   "metadata": {},
   "outputs": [],
   "source": []
  }
 ],
 "metadata": {
  "kernelspec": {
   "display_name": "Python 3 (ipykernel)",
   "language": "python",
   "name": "python3"
  },
  "language_info": {
   "codemirror_mode": {
    "name": "ipython",
    "version": 3
   },
   "file_extension": ".py",
   "mimetype": "text/x-python",
   "name": "python",
   "nbconvert_exporter": "python",
   "pygments_lexer": "ipython3",
   "version": "3.9.12"
  }
 },
 "nbformat": 4,
 "nbformat_minor": 5
}
