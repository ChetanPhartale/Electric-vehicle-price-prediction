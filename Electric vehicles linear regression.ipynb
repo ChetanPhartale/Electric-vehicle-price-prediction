{
 "cells": [
  {
   "cell_type": "markdown",
   "id": "847892a6",
   "metadata": {},
   "source": [
    "## Objective:- Predict vehicle price based on it's specifications"
   ]
  },
  {
   "cell_type": "code",
   "execution_count": 23,
   "id": "e450af37",
   "metadata": {},
   "outputs": [],
   "source": [
    "################################## Data Analysis & Calculation ##################################\n",
    "\n",
    "import pandas as pd \n",
    "import numpy as np \n",
    "\n",
    "################# Machine Learning ################\n",
    "import statsmodels\n",
    "from statsmodels.stats.anova import anova_lm\n",
    "from statsmodels.stats.outliers_influence import variance_inflation_factor\n",
    "\n",
    "################# Data Visualization ################\n",
    "import seaborn as sns\n",
    "from matplotlib import pyplot as plt\n",
    "%matplotlib inline\n",
    "\n",
    "from sklearn.metrics import mean_squared_error\n",
    "from sklearn.metrics import r2_score\n",
    "import math  \n",
    "\n",
    "############# Skewness\n",
    "from scipy.stats import skew"
   ]
  },
  {
   "cell_type": "markdown",
   "id": "0f636b4e",
   "metadata": {},
   "source": [
    "## Data Import"
   ]
  },
  {
   "cell_type": "code",
   "execution_count": 24,
   "id": "a7c9b420",
   "metadata": {},
   "outputs": [
    {
     "data": {
      "text/html": [
       "<div>\n",
       "<style scoped>\n",
       "    .dataframe tbody tr th:only-of-type {\n",
       "        vertical-align: middle;\n",
       "    }\n",
       "\n",
       "    .dataframe tbody tr th {\n",
       "        vertical-align: top;\n",
       "    }\n",
       "\n",
       "    .dataframe thead th {\n",
       "        text-align: right;\n",
       "    }\n",
       "</style>\n",
       "<table border=\"1\" class=\"dataframe\">\n",
       "  <thead>\n",
       "    <tr style=\"text-align: right;\">\n",
       "      <th></th>\n",
       "      <th>Brand</th>\n",
       "      <th>Model</th>\n",
       "      <th>AccelSec</th>\n",
       "      <th>TopSpeed_KmH</th>\n",
       "      <th>Range_Km</th>\n",
       "      <th>Efficiency_WhKm</th>\n",
       "      <th>FastCharge_KmH</th>\n",
       "      <th>RapidCharge</th>\n",
       "      <th>PowerTrain</th>\n",
       "      <th>PlugType</th>\n",
       "      <th>BodyStyle</th>\n",
       "      <th>Segment</th>\n",
       "      <th>Seats</th>\n",
       "      <th>PriceEuro</th>\n",
       "    </tr>\n",
       "  </thead>\n",
       "  <tbody>\n",
       "    <tr>\n",
       "      <th>0</th>\n",
       "      <td>Tesla</td>\n",
       "      <td>Model 3 Long Range Dual Motor</td>\n",
       "      <td>4.6</td>\n",
       "      <td>233</td>\n",
       "      <td>450</td>\n",
       "      <td>161</td>\n",
       "      <td>940</td>\n",
       "      <td>Yes</td>\n",
       "      <td>AWD</td>\n",
       "      <td>Type 2 CCS</td>\n",
       "      <td>Sedan</td>\n",
       "      <td>D</td>\n",
       "      <td>5</td>\n",
       "      <td>55480</td>\n",
       "    </tr>\n",
       "    <tr>\n",
       "      <th>1</th>\n",
       "      <td>Volkswagen</td>\n",
       "      <td>ID.3 Pure</td>\n",
       "      <td>10.0</td>\n",
       "      <td>160</td>\n",
       "      <td>270</td>\n",
       "      <td>167</td>\n",
       "      <td>250</td>\n",
       "      <td>Yes</td>\n",
       "      <td>RWD</td>\n",
       "      <td>Type 2 CCS</td>\n",
       "      <td>Hatchback</td>\n",
       "      <td>C</td>\n",
       "      <td>5</td>\n",
       "      <td>30000</td>\n",
       "    </tr>\n",
       "    <tr>\n",
       "      <th>2</th>\n",
       "      <td>Polestar</td>\n",
       "      <td>2</td>\n",
       "      <td>4.7</td>\n",
       "      <td>210</td>\n",
       "      <td>400</td>\n",
       "      <td>181</td>\n",
       "      <td>620</td>\n",
       "      <td>Yes</td>\n",
       "      <td>AWD</td>\n",
       "      <td>Type 2 CCS</td>\n",
       "      <td>Liftback</td>\n",
       "      <td>D</td>\n",
       "      <td>5</td>\n",
       "      <td>56440</td>\n",
       "    </tr>\n",
       "    <tr>\n",
       "      <th>3</th>\n",
       "      <td>BMW</td>\n",
       "      <td>iX3</td>\n",
       "      <td>6.8</td>\n",
       "      <td>180</td>\n",
       "      <td>360</td>\n",
       "      <td>206</td>\n",
       "      <td>560</td>\n",
       "      <td>Yes</td>\n",
       "      <td>RWD</td>\n",
       "      <td>Type 2 CCS</td>\n",
       "      <td>SUV</td>\n",
       "      <td>D</td>\n",
       "      <td>5</td>\n",
       "      <td>68040</td>\n",
       "    </tr>\n",
       "    <tr>\n",
       "      <th>4</th>\n",
       "      <td>Honda</td>\n",
       "      <td>e</td>\n",
       "      <td>9.5</td>\n",
       "      <td>145</td>\n",
       "      <td>170</td>\n",
       "      <td>168</td>\n",
       "      <td>190</td>\n",
       "      <td>Yes</td>\n",
       "      <td>RWD</td>\n",
       "      <td>Type 2 CCS</td>\n",
       "      <td>Hatchback</td>\n",
       "      <td>B</td>\n",
       "      <td>4</td>\n",
       "      <td>32997</td>\n",
       "    </tr>\n",
       "    <tr>\n",
       "      <th>...</th>\n",
       "      <td>...</td>\n",
       "      <td>...</td>\n",
       "      <td>...</td>\n",
       "      <td>...</td>\n",
       "      <td>...</td>\n",
       "      <td>...</td>\n",
       "      <td>...</td>\n",
       "      <td>...</td>\n",
       "      <td>...</td>\n",
       "      <td>...</td>\n",
       "      <td>...</td>\n",
       "      <td>...</td>\n",
       "      <td>...</td>\n",
       "      <td>...</td>\n",
       "    </tr>\n",
       "    <tr>\n",
       "      <th>98</th>\n",
       "      <td>Nissan</td>\n",
       "      <td>Ariya 63kWh</td>\n",
       "      <td>7.5</td>\n",
       "      <td>160</td>\n",
       "      <td>330</td>\n",
       "      <td>191</td>\n",
       "      <td>440</td>\n",
       "      <td>Yes</td>\n",
       "      <td>FWD</td>\n",
       "      <td>Type 2 CCS</td>\n",
       "      <td>Hatchback</td>\n",
       "      <td>C</td>\n",
       "      <td>5</td>\n",
       "      <td>45000</td>\n",
       "    </tr>\n",
       "    <tr>\n",
       "      <th>99</th>\n",
       "      <td>Audi</td>\n",
       "      <td>e-tron S Sportback 55 quattro</td>\n",
       "      <td>4.5</td>\n",
       "      <td>210</td>\n",
       "      <td>335</td>\n",
       "      <td>258</td>\n",
       "      <td>540</td>\n",
       "      <td>Yes</td>\n",
       "      <td>AWD</td>\n",
       "      <td>Type 2 CCS</td>\n",
       "      <td>SUV</td>\n",
       "      <td>E</td>\n",
       "      <td>5</td>\n",
       "      <td>96050</td>\n",
       "    </tr>\n",
       "    <tr>\n",
       "      <th>100</th>\n",
       "      <td>Nissan</td>\n",
       "      <td>Ariya e-4ORCE 63kWh</td>\n",
       "      <td>5.9</td>\n",
       "      <td>200</td>\n",
       "      <td>325</td>\n",
       "      <td>194</td>\n",
       "      <td>440</td>\n",
       "      <td>Yes</td>\n",
       "      <td>AWD</td>\n",
       "      <td>Type 2 CCS</td>\n",
       "      <td>Hatchback</td>\n",
       "      <td>C</td>\n",
       "      <td>5</td>\n",
       "      <td>50000</td>\n",
       "    </tr>\n",
       "    <tr>\n",
       "      <th>101</th>\n",
       "      <td>Nissan</td>\n",
       "      <td>Ariya e-4ORCE 87kWh Performance</td>\n",
       "      <td>5.1</td>\n",
       "      <td>200</td>\n",
       "      <td>375</td>\n",
       "      <td>232</td>\n",
       "      <td>450</td>\n",
       "      <td>Yes</td>\n",
       "      <td>AWD</td>\n",
       "      <td>Type 2 CCS</td>\n",
       "      <td>Hatchback</td>\n",
       "      <td>C</td>\n",
       "      <td>5</td>\n",
       "      <td>65000</td>\n",
       "    </tr>\n",
       "    <tr>\n",
       "      <th>102</th>\n",
       "      <td>Byton</td>\n",
       "      <td>M-Byte 95 kWh 2WD</td>\n",
       "      <td>7.5</td>\n",
       "      <td>190</td>\n",
       "      <td>400</td>\n",
       "      <td>238</td>\n",
       "      <td>480</td>\n",
       "      <td>Yes</td>\n",
       "      <td>AWD</td>\n",
       "      <td>Type 2 CCS</td>\n",
       "      <td>SUV</td>\n",
       "      <td>E</td>\n",
       "      <td>5</td>\n",
       "      <td>62000</td>\n",
       "    </tr>\n",
       "  </tbody>\n",
       "</table>\n",
       "<p>103 rows × 14 columns</p>\n",
       "</div>"
      ],
      "text/plain": [
       "           Brand                            Model  AccelSec  TopSpeed_KmH  \\\n",
       "0         Tesla     Model 3 Long Range Dual Motor       4.6           233   \n",
       "1    Volkswagen                         ID.3 Pure      10.0           160   \n",
       "2      Polestar                                 2       4.7           210   \n",
       "3           BMW                              iX3        6.8           180   \n",
       "4         Honda                                e        9.5           145   \n",
       "..           ...                              ...       ...           ...   \n",
       "98       Nissan                       Ariya 63kWh       7.5           160   \n",
       "99         Audi     e-tron S Sportback 55 quattro       4.5           210   \n",
       "100      Nissan               Ariya e-4ORCE 63kWh       5.9           200   \n",
       "101      Nissan   Ariya e-4ORCE 87kWh Performance       5.1           200   \n",
       "102       Byton                 M-Byte 95 kWh 2WD       7.5           190   \n",
       "\n",
       "     Range_Km  Efficiency_WhKm FastCharge_KmH RapidCharge PowerTrain  \\\n",
       "0         450              161            940         Yes        AWD   \n",
       "1         270              167            250         Yes        RWD   \n",
       "2         400              181            620         Yes        AWD   \n",
       "3         360              206            560         Yes        RWD   \n",
       "4         170              168            190         Yes        RWD   \n",
       "..        ...              ...            ...         ...        ...   \n",
       "98        330              191            440         Yes        FWD   \n",
       "99        335              258            540         Yes        AWD   \n",
       "100       325              194            440         Yes        AWD   \n",
       "101       375              232            450         Yes        AWD   \n",
       "102       400              238            480         Yes        AWD   \n",
       "\n",
       "       PlugType  BodyStyle Segment  Seats  PriceEuro  \n",
       "0    Type 2 CCS      Sedan       D      5      55480  \n",
       "1    Type 2 CCS  Hatchback       C      5      30000  \n",
       "2    Type 2 CCS   Liftback       D      5      56440  \n",
       "3    Type 2 CCS        SUV       D      5      68040  \n",
       "4    Type 2 CCS  Hatchback       B      4      32997  \n",
       "..          ...        ...     ...    ...        ...  \n",
       "98   Type 2 CCS  Hatchback       C      5      45000  \n",
       "99   Type 2 CCS        SUV       E      5      96050  \n",
       "100  Type 2 CCS  Hatchback       C      5      50000  \n",
       "101  Type 2 CCS  Hatchback       C      5      65000  \n",
       "102  Type 2 CCS        SUV       E      5      62000  \n",
       "\n",
       "[103 rows x 14 columns]"
      ]
     },
     "execution_count": 24,
     "metadata": {},
     "output_type": "execute_result"
    }
   ],
   "source": [
    "electric = pd.read_csv(r\"C:\\Users\\HP\\Desktop\\Python\\Machine Learning\\Mini Project\\Electric vehicles2\\ElectricCarData_Clean.csv\") \n",
    "electric"
   ]
  },
  {
   "cell_type": "markdown",
   "id": "bec4c6d4",
   "metadata": {},
   "source": [
    "### Data Type"
   ]
  },
  {
   "cell_type": "code",
   "execution_count": 25,
   "id": "a60f6e1f",
   "metadata": {},
   "outputs": [
    {
     "name": "stdout",
     "output_type": "stream",
     "text": [
      "<class 'pandas.core.frame.DataFrame'>\n",
      "RangeIndex: 103 entries, 0 to 102\n",
      "Data columns (total 14 columns):\n",
      " #   Column           Non-Null Count  Dtype  \n",
      "---  ------           --------------  -----  \n",
      " 0   Brand            103 non-null    object \n",
      " 1   Model            103 non-null    object \n",
      " 2   AccelSec         103 non-null    float64\n",
      " 3   TopSpeed_KmH     103 non-null    int64  \n",
      " 4   Range_Km         103 non-null    int64  \n",
      " 5   Efficiency_WhKm  103 non-null    int64  \n",
      " 6   FastCharge_KmH   103 non-null    object \n",
      " 7   RapidCharge      103 non-null    object \n",
      " 8   PowerTrain       103 non-null    object \n",
      " 9   PlugType         103 non-null    object \n",
      " 10  BodyStyle        103 non-null    object \n",
      " 11  Segment          103 non-null    object \n",
      " 12  Seats            103 non-null    int64  \n",
      " 13  PriceEuro        103 non-null    int64  \n",
      "dtypes: float64(1), int64(5), object(8)\n",
      "memory usage: 11.4+ KB\n"
     ]
    }
   ],
   "source": [
    "electric.info()"
   ]
  },
  {
   "cell_type": "code",
   "execution_count": 26,
   "id": "406fb97c",
   "metadata": {},
   "outputs": [
    {
     "data": {
      "text/html": [
       "<div>\n",
       "<style scoped>\n",
       "    .dataframe tbody tr th:only-of-type {\n",
       "        vertical-align: middle;\n",
       "    }\n",
       "\n",
       "    .dataframe tbody tr th {\n",
       "        vertical-align: top;\n",
       "    }\n",
       "\n",
       "    .dataframe thead th {\n",
       "        text-align: right;\n",
       "    }\n",
       "</style>\n",
       "<table border=\"1\" class=\"dataframe\">\n",
       "  <thead>\n",
       "    <tr style=\"text-align: right;\">\n",
       "      <th></th>\n",
       "      <th>AccelSec</th>\n",
       "      <th>TopSpeed_KmH</th>\n",
       "      <th>Range_Km</th>\n",
       "      <th>Efficiency_WhKm</th>\n",
       "      <th>PriceEuro</th>\n",
       "    </tr>\n",
       "  </thead>\n",
       "  <tbody>\n",
       "    <tr>\n",
       "      <th>0</th>\n",
       "      <td>4.6</td>\n",
       "      <td>233</td>\n",
       "      <td>450</td>\n",
       "      <td>161</td>\n",
       "      <td>55480</td>\n",
       "    </tr>\n",
       "    <tr>\n",
       "      <th>1</th>\n",
       "      <td>10.0</td>\n",
       "      <td>160</td>\n",
       "      <td>270</td>\n",
       "      <td>167</td>\n",
       "      <td>30000</td>\n",
       "    </tr>\n",
       "    <tr>\n",
       "      <th>2</th>\n",
       "      <td>4.7</td>\n",
       "      <td>210</td>\n",
       "      <td>400</td>\n",
       "      <td>181</td>\n",
       "      <td>56440</td>\n",
       "    </tr>\n",
       "    <tr>\n",
       "      <th>3</th>\n",
       "      <td>6.8</td>\n",
       "      <td>180</td>\n",
       "      <td>360</td>\n",
       "      <td>206</td>\n",
       "      <td>68040</td>\n",
       "    </tr>\n",
       "    <tr>\n",
       "      <th>4</th>\n",
       "      <td>9.5</td>\n",
       "      <td>145</td>\n",
       "      <td>170</td>\n",
       "      <td>168</td>\n",
       "      <td>32997</td>\n",
       "    </tr>\n",
       "    <tr>\n",
       "      <th>...</th>\n",
       "      <td>...</td>\n",
       "      <td>...</td>\n",
       "      <td>...</td>\n",
       "      <td>...</td>\n",
       "      <td>...</td>\n",
       "    </tr>\n",
       "    <tr>\n",
       "      <th>98</th>\n",
       "      <td>7.5</td>\n",
       "      <td>160</td>\n",
       "      <td>330</td>\n",
       "      <td>191</td>\n",
       "      <td>45000</td>\n",
       "    </tr>\n",
       "    <tr>\n",
       "      <th>99</th>\n",
       "      <td>4.5</td>\n",
       "      <td>210</td>\n",
       "      <td>335</td>\n",
       "      <td>258</td>\n",
       "      <td>96050</td>\n",
       "    </tr>\n",
       "    <tr>\n",
       "      <th>100</th>\n",
       "      <td>5.9</td>\n",
       "      <td>200</td>\n",
       "      <td>325</td>\n",
       "      <td>194</td>\n",
       "      <td>50000</td>\n",
       "    </tr>\n",
       "    <tr>\n",
       "      <th>101</th>\n",
       "      <td>5.1</td>\n",
       "      <td>200</td>\n",
       "      <td>375</td>\n",
       "      <td>232</td>\n",
       "      <td>65000</td>\n",
       "    </tr>\n",
       "    <tr>\n",
       "      <th>102</th>\n",
       "      <td>7.5</td>\n",
       "      <td>190</td>\n",
       "      <td>400</td>\n",
       "      <td>238</td>\n",
       "      <td>62000</td>\n",
       "    </tr>\n",
       "  </tbody>\n",
       "</table>\n",
       "<p>103 rows × 5 columns</p>\n",
       "</div>"
      ],
      "text/plain": [
       "     AccelSec  TopSpeed_KmH  Range_Km  Efficiency_WhKm  PriceEuro\n",
       "0         4.6           233       450              161      55480\n",
       "1        10.0           160       270              167      30000\n",
       "2         4.7           210       400              181      56440\n",
       "3         6.8           180       360              206      68040\n",
       "4         9.5           145       170              168      32997\n",
       "..        ...           ...       ...              ...        ...\n",
       "98        7.5           160       330              191      45000\n",
       "99        4.5           210       335              258      96050\n",
       "100       5.9           200       325              194      50000\n",
       "101       5.1           200       375              232      65000\n",
       "102       7.5           190       400              238      62000\n",
       "\n",
       "[103 rows x 5 columns]"
      ]
     },
     "execution_count": 26,
     "metadata": {},
     "output_type": "execute_result"
    }
   ],
   "source": [
    "electric = electric.drop(['Brand','Model','FastCharge_KmH','RapidCharge','PowerTrain','PlugType','BodyStyle','Segment','Seats'],axis = 1)\n",
    "electric"
   ]
  },
  {
   "cell_type": "code",
   "execution_count": 27,
   "id": "86c65e7b",
   "metadata": {},
   "outputs": [
    {
     "name": "stdout",
     "output_type": "stream",
     "text": [
      "<class 'pandas.core.frame.DataFrame'>\n",
      "RangeIndex: 103 entries, 0 to 102\n",
      "Data columns (total 5 columns):\n",
      " #   Column           Non-Null Count  Dtype  \n",
      "---  ------           --------------  -----  \n",
      " 0   AccelSec         103 non-null    float64\n",
      " 1   TopSpeed_KmH     103 non-null    int64  \n",
      " 2   Range_Km         103 non-null    int64  \n",
      " 3   Efficiency_WhKm  103 non-null    int64  \n",
      " 4   PriceEuro        103 non-null    int64  \n",
      "dtypes: float64(1), int64(4)\n",
      "memory usage: 4.1 KB\n"
     ]
    }
   ],
   "source": [
    "electric.info()"
   ]
  },
  {
   "cell_type": "code",
   "execution_count": 28,
   "id": "f99ee7e7",
   "metadata": {},
   "outputs": [
    {
     "name": "stdout",
     "output_type": "stream",
     "text": [
      "AccelSec\n",
      "1.227099878770524\n"
     ]
    },
    {
     "name": "stderr",
     "output_type": "stream",
     "text": [
      "C:\\Users\\HP\\anaconda3\\lib\\site-packages\\seaborn\\distributions.py:2619: FutureWarning: `distplot` is a deprecated function and will be removed in a future version. Please adapt your code to use either `displot` (a figure-level function with similar flexibility) or `histplot` (an axes-level function for histograms).\n",
      "  warnings.warn(msg, FutureWarning)\n"
     ]
    },
    {
     "data": {
      "image/png": "[encoded data removed]",
      "text/plain": [
       "<Figure size 432x288 with 1 Axes>"
      ]
     },
     "metadata": {
      "needs_background": "light"
     },
     "output_type": "display_data"
    },
    {
     "name": "stdout",
     "output_type": "stream",
     "text": [
      "TopSpeed_KmH\n",
      "1.872052416109607\n"
     ]
    },
    {
     "name": "stderr",
     "output_type": "stream",
     "text": [
      "C:\\Users\\HP\\anaconda3\\lib\\site-packages\\seaborn\\distributions.py:2619: FutureWarning: `distplot` is a deprecated function and will be removed in a future version. Please adapt your code to use either `displot` (a figure-level function with similar flexibility) or `histplot` (an axes-level function for histograms).\n",
      "  warnings.warn(msg, FutureWarning)\n"
     ]
    },
    {
     "data": {
      "image/png": "[encoded data removed]",
      "text/plain": [
       "<Figure size 432x288 with 1 Axes>"
      ]
     },
     "metadata": {
      "needs_background": "light"
     },
     "output_type": "display_data"
    },
    {
     "name": "stdout",
     "output_type": "stream",
     "text": [
      "Range_Km\n",
      "1.3587965250859557\n"
     ]
    },
    {
     "name": "stderr",
     "output_type": "stream",
     "text": [
      "C:\\Users\\HP\\anaconda3\\lib\\site-packages\\seaborn\\distributions.py:2619: FutureWarning: `distplot` is a deprecated function and will be removed in a future version. Please adapt your code to use either `displot` (a figure-level function with similar flexibility) or `histplot` (an axes-level function for histograms).\n",
      "  warnings.warn(msg, FutureWarning)\n"
     ]
    },
    {
     "data": {
      "image/png": "[encoded data removed]",
      "text/plain": [
       "<Figure size 432x288 with 1 Axes>"
      ]
     },
     "metadata": {
      "needs_background": "light"
     },
     "output_type": "display_data"
    },
    {
     "name": "stdout",
     "output_type": "stream",
     "text": [
      "Efficiency_WhKm\n",
      "0.8588221995026588\n"
     ]
    },
    {
     "name": "stderr",
     "output_type": "stream",
     "text": [
      "C:\\Users\\HP\\anaconda3\\lib\\site-packages\\seaborn\\distributions.py:2619: FutureWarning: `distplot` is a deprecated function and will be removed in a future version. Please adapt your code to use either `displot` (a figure-level function with similar flexibility) or `histplot` (an axes-level function for histograms).\n",
      "  warnings.warn(msg, FutureWarning)\n"
     ]
    },
    {
     "data": {
      "image/png": "[encoded data removed]",
      "text/plain": [
       "<Figure size 432x288 with 1 Axes>"
      ]
     },
     "metadata": {
      "needs_background": "light"
     },
     "output_type": "display_data"
    },
    {
     "name": "stdout",
     "output_type": "stream",
     "text": [
      "PriceEuro\n",
      "2.189441177489707\n"
     ]
    },
    {
     "name": "stderr",
     "output_type": "stream",
     "text": [
      "C:\\Users\\HP\\anaconda3\\lib\\site-packages\\seaborn\\distributions.py:2619: FutureWarning: `distplot` is a deprecated function and will be removed in a future version. Please adapt your code to use either `displot` (a figure-level function with similar flexibility) or `histplot` (an axes-level function for histograms).\n",
      "  warnings.warn(msg, FutureWarning)\n"
     ]
    },
    {
     "data": {
      "image/png": "[encoded data removed]",
      "text/plain": [
       "<Figure size 432x288 with 1 Axes>"
      ]
     },
     "metadata": {
      "needs_background": "light"
     },
     "output_type": "display_data"
    }
   ],
   "source": [
    "for col in electric:\n",
    "    print(col)\n",
    "    print(skew(electric[col]))\n",
    "    \n",
    "    plt.figure()\n",
    "    sns.distplot(electric[col])\n",
    "    plt.show()"
   ]
  },
  {
   "cell_type": "code",
   "execution_count": 29,
   "id": "42e6bfa9",
   "metadata": {},
   "outputs": [],
   "source": [
    "#electric[\"AccelSec\"] = np.cbrt(electric[\"AccelSec\"])\n",
    "#electric[\"TopSpeed_KmH\"] = np.cbrt(electric[\"TopSpeed_KmH\"])\n",
    "#electric[\"Range_Km\"] = np.cbrt(electric[\"Range_Km\"])\n",
    "\n",
    "#for col in electric:\n",
    "    #print(col)\n",
    "    #print(skew(electric[col]))\n",
    "    \n",
    "    #plt.figure()\n",
    "    #sns.distplot(electric[col])\n",
    "    #plt.show()"
   ]
  },
  {
   "cell_type": "markdown",
   "id": "b4bccba8",
   "metadata": {},
   "source": [
    "###  Univariate analysis"
   ]
  },
  {
   "cell_type": "code",
   "execution_count": 30,
   "id": "7cf569ce",
   "metadata": {},
   "outputs": [
    {
     "data": {
      "text/html": [
       "<div>\n",
       "<style scoped>\n",
       "    .dataframe tbody tr th:only-of-type {\n",
       "        vertical-align: middle;\n",
       "    }\n",
       "\n",
       "    .dataframe tbody tr th {\n",
       "        vertical-align: top;\n",
       "    }\n",
       "\n",
       "    .dataframe thead th {\n",
       "        text-align: right;\n",
       "    }\n",
       "</style>\n",
       "<table border=\"1\" class=\"dataframe\">\n",
       "  <thead>\n",
       "    <tr style=\"text-align: right;\">\n",
       "      <th></th>\n",
       "      <th>AccelSec</th>\n",
       "      <th>TopSpeed_KmH</th>\n",
       "      <th>Range_Km</th>\n",
       "      <th>Efficiency_WhKm</th>\n",
       "      <th>PriceEuro</th>\n",
       "    </tr>\n",
       "  </thead>\n",
       "  <tbody>\n",
       "    <tr>\n",
       "      <th>count</th>\n",
       "      <td>103.000000</td>\n",
       "      <td>103.000000</td>\n",
       "      <td>103.000000</td>\n",
       "      <td>103.000000</td>\n",
       "      <td>103.000000</td>\n",
       "    </tr>\n",
       "    <tr>\n",
       "      <th>mean</th>\n",
       "      <td>7.396117</td>\n",
       "      <td>179.194175</td>\n",
       "      <td>338.786408</td>\n",
       "      <td>189.165049</td>\n",
       "      <td>55811.563107</td>\n",
       "    </tr>\n",
       "    <tr>\n",
       "      <th>std</th>\n",
       "      <td>3.017430</td>\n",
       "      <td>43.573030</td>\n",
       "      <td>126.014444</td>\n",
       "      <td>29.566839</td>\n",
       "      <td>34134.665280</td>\n",
       "    </tr>\n",
       "    <tr>\n",
       "      <th>min</th>\n",
       "      <td>2.100000</td>\n",
       "      <td>123.000000</td>\n",
       "      <td>95.000000</td>\n",
       "      <td>104.000000</td>\n",
       "      <td>20129.000000</td>\n",
       "    </tr>\n",
       "    <tr>\n",
       "      <th>25%</th>\n",
       "      <td>5.100000</td>\n",
       "      <td>150.000000</td>\n",
       "      <td>250.000000</td>\n",
       "      <td>168.000000</td>\n",
       "      <td>34429.500000</td>\n",
       "    </tr>\n",
       "    <tr>\n",
       "      <th>50%</th>\n",
       "      <td>7.300000</td>\n",
       "      <td>160.000000</td>\n",
       "      <td>340.000000</td>\n",
       "      <td>180.000000</td>\n",
       "      <td>45000.000000</td>\n",
       "    </tr>\n",
       "    <tr>\n",
       "      <th>75%</th>\n",
       "      <td>9.000000</td>\n",
       "      <td>200.000000</td>\n",
       "      <td>400.000000</td>\n",
       "      <td>203.000000</td>\n",
       "      <td>65000.000000</td>\n",
       "    </tr>\n",
       "    <tr>\n",
       "      <th>max</th>\n",
       "      <td>22.400000</td>\n",
       "      <td>410.000000</td>\n",
       "      <td>970.000000</td>\n",
       "      <td>273.000000</td>\n",
       "      <td>215000.000000</td>\n",
       "    </tr>\n",
       "  </tbody>\n",
       "</table>\n",
       "</div>"
      ],
      "text/plain": [
       "         AccelSec  TopSpeed_KmH    Range_Km  Efficiency_WhKm      PriceEuro\n",
       "count  103.000000    103.000000  103.000000       103.000000     103.000000\n",
       "mean     7.396117    179.194175  338.786408       189.165049   55811.563107\n",
       "std      3.017430     43.573030  126.014444        29.566839   34134.665280\n",
       "min      2.100000    123.000000   95.000000       104.000000   20129.000000\n",
       "25%      5.100000    150.000000  250.000000       168.000000   34429.500000\n",
       "50%      7.300000    160.000000  340.000000       180.000000   45000.000000\n",
       "75%      9.000000    200.000000  400.000000       203.000000   65000.000000\n",
       "max     22.400000    410.000000  970.000000       273.000000  215000.000000"
      ]
     },
     "execution_count": 30,
     "metadata": {},
     "output_type": "execute_result"
    }
   ],
   "source": [
    "electric.describe()"
   ]
  },
  {
   "cell_type": "markdown",
   "id": "158d9418",
   "metadata": {},
   "source": [
    "### EDA \n",
    "Identification & treatemnet of outliers"
   ]
  },
  {
   "cell_type": "code",
   "execution_count": 31,
   "id": "6878153f",
   "metadata": {},
   "outputs": [
    {
     "data": {
      "text/plain": [
       "<AxesSubplot:>"
      ]
     },
     "execution_count": 31,
     "metadata": {},
     "output_type": "execute_result"
    },
    {
     "data": {
      "image/png": "[encoded data removed]",
      "text/plain": [
       "<Figure size 432x288 with 1 Axes>"
      ]
     },
     "metadata": {
      "needs_background": "light"
     },
     "output_type": "display_data"
    }
   ],
   "source": [
    "sns.boxplot(data = electric)"
   ]
  },
  {
   "cell_type": "markdown",
   "id": "721a5311",
   "metadata": {},
   "source": [
    "## Winsorizing Technique -- Treatment Of Outlier "
   ]
  },
  {
   "cell_type": "code",
   "execution_count": 32,
   "id": "bd002181",
   "metadata": {},
   "outputs": [
    {
     "data": {
      "text/plain": [
       "Index(['AccelSec', 'TopSpeed_KmH', 'Range_Km', 'Efficiency_WhKm', 'PriceEuro'], dtype='object')"
      ]
     },
     "execution_count": 32,
     "metadata": {},
     "output_type": "execute_result"
    }
   ],
   "source": [
    "electric.columns"
   ]
  },
  {
   "cell_type": "code",
   "execution_count": 33,
   "id": "3f3c50a2",
   "metadata": {},
   "outputs": [
    {
     "name": "stdout",
     "output_type": "stream",
     "text": [
      "14.850000000000001\n",
      "-0.7500000000000009\n"
     ]
    }
   ],
   "source": [
    "q1 = electric['AccelSec'].quantile(0.25)\n",
    "q3 = electric['AccelSec'].quantile(0.75)\n",
    "iqr = q3-q1 #Interquartile range\n",
    "\n",
    "upper_limit = q3+1.5*iqr \n",
    "lower_limit = q1-1.5*iqr\n",
    "print(upper_limit)\n",
    "print(lower_limit)"
   ]
  },
  {
   "cell_type": "code",
   "execution_count": 34,
   "id": "07b630ff",
   "metadata": {},
   "outputs": [
    {
     "data": {
      "text/plain": [
       "<AxesSubplot:>"
      ]
     },
     "execution_count": 34,
     "metadata": {},
     "output_type": "execute_result"
    },
    {
     "data": {
      "image/png": "[encoded data removed]",
      "text/plain": [
       "<Figure size 432x288 with 1 Axes>"
      ]
     },
     "metadata": {
      "needs_background": "light"
     },
     "output_type": "display_data"
    }
   ],
   "source": [
    "electric['AccelSec']=np.where(electric['AccelSec'] > upper_limit,upper_limit,electric['AccelSec']) # upper limit\n",
    "electric['AccelSec']=np.where(electric['AccelSec'] < lower_limit,upper_limit,electric['AccelSec']) # lower limit\n",
    "\n",
    "sns.boxplot(data=electric)"
   ]
  },
  {
   "cell_type": "code",
   "execution_count": 35,
   "id": "06d7bf1a",
   "metadata": {},
   "outputs": [
    {
     "name": "stdout",
     "output_type": "stream",
     "text": [
      "275.0\n",
      "75.0\n"
     ]
    },
    {
     "data": {
      "text/plain": [
       "<AxesSubplot:>"
      ]
     },
     "execution_count": 35,
     "metadata": {},
     "output_type": "execute_result"
    },
    {
     "data": {
      "image/png": "[encoded data removed]",
      "text/plain": [
       "<Figure size 432x288 with 1 Axes>"
      ]
     },
     "metadata": {
      "needs_background": "light"
     },
     "output_type": "display_data"
    }
   ],
   "source": [
    "q1 = electric['TopSpeed_KmH'].quantile(0.25)\n",
    "q3 = electric['TopSpeed_KmH'].quantile(0.75)\n",
    "iqr = q3-q1 #Interquartile range\n",
    "\n",
    "upper_limit = q3+1.5*iqr \n",
    "lower_limit = q1-1.5*iqr\n",
    "print(upper_limit)\n",
    "print(lower_limit)\n",
    "\n",
    "electric['TopSpeed_KmH']=np.where(electric['TopSpeed_KmH'] > upper_limit,upper_limit,electric['TopSpeed_KmH']) # upper limit\n",
    "electric['TopSpeed_KmH']=np.where(electric['TopSpeed_KmH'] < lower_limit,upper_limit,electric['TopSpeed_KmH']) # lower limit\n",
    "\n",
    "sns.boxplot(data=electric)"
   ]
  },
  {
   "cell_type": "code",
   "execution_count": 36,
   "id": "a338b138",
   "metadata": {},
   "outputs": [
    {
     "name": "stdout",
     "output_type": "stream",
     "text": [
      "625.0\n",
      "25.0\n"
     ]
    },
    {
     "data": {
      "text/plain": [
       "<AxesSubplot:>"
      ]
     },
     "execution_count": 36,
     "metadata": {},
     "output_type": "execute_result"
    },
    {
     "data": {
      "image/png": "[encoded data removed]",
      "text/plain": [
       "<Figure size 432x288 with 1 Axes>"
      ]
     },
     "metadata": {
      "needs_background": "light"
     },
     "output_type": "display_data"
    }
   ],
   "source": [
    "q1 = electric['Range_Km'].quantile(0.25)\n",
    "q3 = electric['Range_Km'].quantile(0.75)\n",
    "iqr = q3-q1 #Interquartile range\n",
    "\n",
    "upper_limit = q3+1.5*iqr \n",
    "lower_limit = q1-1.5*iqr\n",
    "print(upper_limit)\n",
    "print(lower_limit)\n",
    "\n",
    "electric['Range_Km']=np.where(electric['Range_Km'] > upper_limit,upper_limit,electric['Range_Km']) # upper limit\n",
    "electric['Range_Km']=np.where(electric['Range_Km'] < lower_limit,upper_limit,electric['Range_Km']) # lower limit\n",
    "\n",
    "sns.boxplot(data=electric)"
   ]
  },
  {
   "cell_type": "code",
   "execution_count": 37,
   "id": "01498a64",
   "metadata": {},
   "outputs": [
    {
     "name": "stdout",
     "output_type": "stream",
     "text": [
      "255.5\n",
      "115.5\n"
     ]
    },
    {
     "data": {
      "text/plain": [
       "<AxesSubplot:>"
      ]
     },
     "execution_count": 37,
     "metadata": {},
     "output_type": "execute_result"
    },
    {
     "data": {
      "image/png": "[encoded data removed]",
      "text/plain": [
       "<Figure size 432x288 with 1 Axes>"
      ]
     },
     "metadata": {
      "needs_background": "light"
     },
     "output_type": "display_data"
    }
   ],
   "source": [
    "q1 = electric['Efficiency_WhKm'].quantile(0.25)\n",
    "q3 = electric['Efficiency_WhKm'].quantile(0.75)\n",
    "iqr = q3-q1 #Interquartile range\n",
    "\n",
    "upper_limit = q3+1.5*iqr \n",
    "lower_limit = q1-1.5*iqr\n",
    "print(upper_limit)\n",
    "print(lower_limit)\n",
    "\n",
    "electric['Efficiency_WhKm']=np.where(electric['Efficiency_WhKm'] > upper_limit,upper_limit,electric['Efficiency_WhKm']) # upper limit\n",
    "electric['Efficiency_WhKm']=np.where(electric['Efficiency_WhKm'] < lower_limit,upper_limit,electric['Efficiency_WhKm']) # lower limit\n",
    "\n",
    "sns.boxplot(data=electric)"
   ]
  },
  {
   "cell_type": "code",
   "execution_count": 38,
   "id": "ec754468",
   "metadata": {},
   "outputs": [
    {
     "name": "stdout",
     "output_type": "stream",
     "text": [
      "110855.75\n",
      "-11426.25\n"
     ]
    },
    {
     "data": {
      "text/plain": [
       "<AxesSubplot:>"
      ]
     },
     "execution_count": 38,
     "metadata": {},
     "output_type": "execute_result"
    },
    {
     "data": {
      "image/png": "[encoded data removed]",
      "text/plain": [
       "<Figure size 432x288 with 1 Axes>"
      ]
     },
     "metadata": {
      "needs_background": "light"
     },
     "output_type": "display_data"
    }
   ],
   "source": [
    "q1 = electric['PriceEuro'].quantile(0.25)\n",
    "q3 = electric['PriceEuro'].quantile(0.75)\n",
    "iqr = q3-q1 #Interquartile range\n",
    "\n",
    "upper_limit = q3+1.5*iqr \n",
    "lower_limit = q1-1.5*iqr\n",
    "print(upper_limit)\n",
    "print(lower_limit)\n",
    "\n",
    "electric['PriceEuro']=np.where(electric['PriceEuro'] > upper_limit,upper_limit,electric['PriceEuro']) # upper limit\n",
    "electric['PriceEuro']=np.where(electric['PriceEuro'] < lower_limit,upper_limit,electric['PriceEuro']) # lower limit\n",
    "\n",
    "sns.boxplot(data=electric)"
   ]
  },
  {
   "cell_type": "markdown",
   "id": "4f54ca89",
   "metadata": {},
   "source": [
    "## missing value "
   ]
  },
  {
   "cell_type": "code",
   "execution_count": 39,
   "id": "1aec12ab",
   "metadata": {},
   "outputs": [
    {
     "data": {
      "text/plain": [
       "AccelSec           0\n",
       "TopSpeed_KmH       0\n",
       "Range_Km           0\n",
       "Efficiency_WhKm    0\n",
       "PriceEuro          0\n",
       "dtype: int64"
      ]
     },
     "execution_count": 39,
     "metadata": {},
     "output_type": "execute_result"
    }
   ],
   "source": [
    "electric.isnull().sum()"
   ]
  },
  {
   "cell_type": "code",
   "execution_count": 40,
   "id": "46e2c994",
   "metadata": {},
   "outputs": [
    {
     "data": {
      "text/plain": [
       "<AxesSubplot:xlabel='PriceEuro', ylabel='Count'>"
      ]
     },
     "execution_count": 40,
     "metadata": {},
     "output_type": "execute_result"
    },
    {
     "data": {
      "image/png": "[encoded data removed]",
      "text/plain": [
       "<Figure size 432x288 with 1 Axes>"
      ]
     },
     "metadata": {
      "needs_background": "light"
     },
     "output_type": "display_data"
    }
   ],
   "source": [
    "sns.histplot(electric['PriceEuro'])"
   ]
  },
  {
   "cell_type": "code",
   "execution_count": 41,
   "id": "373a57c9",
   "metadata": {},
   "outputs": [],
   "source": [
    "electric[\"PriceEuro\"] = np.log(electric[\"PriceEuro\"])"
   ]
  },
  {
   "cell_type": "markdown",
   "id": "f86556ad",
   "metadata": {},
   "source": [
    "## Splitting the data into train and test set\n",
    "\n",
    "* Using sklearn we split 70% of our data into tarining set and 30% data into testing set.\n",
    "* Setting random_state will give the same training and test set everytime on running the code."
   ]
  },
  {
   "cell_type": "code",
   "execution_count": 42,
   "id": "80bbd10e",
   "metadata": {},
   "outputs": [],
   "source": [
    "# Putting feature variable to X\n",
    "X = electric.drop('PriceEuro', axis= 1)\n",
    "\n",
    "# Putting response variable to y\n",
    "y = electric[['PriceEuro']]\n",
    "\n",
    "#random_state is the seed used by the random number generator. It can be any integer.\n",
    "from sklearn.model_selection import train_test_split\n",
    "X_train, X_test, y_train, y_test =train_test_split(X, y, train_size=0.7 ,random_state=100)"
   ]
  },
  {
   "cell_type": "code",
   "execution_count": 44,
   "id": "055dc1ca",
   "metadata": {},
   "outputs": [
    {
     "data": {
      "text/plain": [
       "Index(['AccelSec', 'TopSpeed_KmH', 'Range_Km', 'Efficiency_WhKm'], dtype='object')"
      ]
     },
     "execution_count": 44,
     "metadata": {},
     "output_type": "execute_result"
    }
   ],
   "source": [
    "X_train.columns"
   ]
  },
  {
   "cell_type": "code",
   "execution_count": 45,
   "id": "a1d76f47",
   "metadata": {},
   "outputs": [],
   "source": [
    "from sklearn.preprocessing import StandardScaler ,minmax_scale\n",
    "scaler = StandardScaler()   # converting data into Z-scale = X-mean / Standard Deviation\n",
    "#scaler.fit(X_train)         # Mean = 0 & standard Deviation =1\n",
    "\n",
    "X_train = scaler.fit_transform(X_train)\n",
    "X_test = scaler.transform(X_test)"
   ]
  },
  {
   "cell_type": "code",
   "execution_count": 46,
   "id": "1f5ac96a",
   "metadata": {},
   "outputs": [
    {
     "data": {
      "text/html": [
       "<div>\n",
       "<style scoped>\n",
       "    .dataframe tbody tr th:only-of-type {\n",
       "        vertical-align: middle;\n",
       "    }\n",
       "\n",
       "    .dataframe tbody tr th {\n",
       "        vertical-align: top;\n",
       "    }\n",
       "\n",
       "    .dataframe thead th {\n",
       "        text-align: right;\n",
       "    }\n",
       "</style>\n",
       "<table border=\"1\" class=\"dataframe\">\n",
       "  <thead>\n",
       "    <tr style=\"text-align: right;\">\n",
       "      <th></th>\n",
       "      <th>AccelSec</th>\n",
       "      <th>TopSpeed_KmH</th>\n",
       "      <th>Range_Km</th>\n",
       "      <th>Efficiency_WhKm</th>\n",
       "    </tr>\n",
       "  </thead>\n",
       "  <tbody>\n",
       "    <tr>\n",
       "      <th>0</th>\n",
       "      <td>-1.488474</td>\n",
       "      <td>0.704010</td>\n",
       "      <td>2.570886</td>\n",
       "      <td>2.225130</td>\n",
       "    </tr>\n",
       "    <tr>\n",
       "      <th>1</th>\n",
       "      <td>0.937188</td>\n",
       "      <td>-0.823525</td>\n",
       "      <td>-1.318037</td>\n",
       "      <td>-0.857513</td>\n",
       "    </tr>\n",
       "    <tr>\n",
       "      <th>2</th>\n",
       "      <td>-0.091881</td>\n",
       "      <td>-0.059758</td>\n",
       "      <td>0.201772</td>\n",
       "      <td>0.481235</td>\n",
       "    </tr>\n",
       "    <tr>\n",
       "      <th>3</th>\n",
       "      <td>0.312396</td>\n",
       "      <td>-0.390724</td>\n",
       "      <td>0.559374</td>\n",
       "      <td>-1.139355</td>\n",
       "    </tr>\n",
       "    <tr>\n",
       "      <th>4</th>\n",
       "      <td>-0.055129</td>\n",
       "      <td>-0.568936</td>\n",
       "      <td>-0.960435</td>\n",
       "      <td>-0.963204</td>\n",
       "    </tr>\n",
       "  </tbody>\n",
       "</table>\n",
       "</div>"
      ],
      "text/plain": [
       "   AccelSec  TopSpeed_KmH  Range_Km  Efficiency_WhKm\n",
       "0 -1.488474      0.704010  2.570886         2.225130\n",
       "1  0.937188     -0.823525 -1.318037        -0.857513\n",
       "2 -0.091881     -0.059758  0.201772         0.481235\n",
       "3  0.312396     -0.390724  0.559374        -1.139355\n",
       "4 -0.055129     -0.568936 -0.960435        -0.963204"
      ]
     },
     "execution_count": 46,
     "metadata": {},
     "output_type": "execute_result"
    }
   ],
   "source": [
    "X_train=pd.DataFrame(X_train,columns=['AccelSec', 'TopSpeed_KmH', 'Range_Km', 'Efficiency_WhKm'])\n",
    "X_train.head()"
   ]
  },
  {
   "cell_type": "code",
   "execution_count": 47,
   "id": "b3759f4a",
   "metadata": {},
   "outputs": [
    {
     "data": {
      "text/html": [
       "<div>\n",
       "<style scoped>\n",
       "    .dataframe tbody tr th:only-of-type {\n",
       "        vertical-align: middle;\n",
       "    }\n",
       "\n",
       "    .dataframe tbody tr th {\n",
       "        vertical-align: top;\n",
       "    }\n",
       "\n",
       "    .dataframe thead th {\n",
       "        text-align: right;\n",
       "    }\n",
       "</style>\n",
       "<table border=\"1\" class=\"dataframe\">\n",
       "  <thead>\n",
       "    <tr style=\"text-align: right;\">\n",
       "      <th></th>\n",
       "      <th>PriceEuro</th>\n",
       "      <th>AccelSec</th>\n",
       "      <th>TopSpeed_KmH</th>\n",
       "      <th>Range_Km</th>\n",
       "      <th>Efficiency_WhKm</th>\n",
       "    </tr>\n",
       "  </thead>\n",
       "  <tbody>\n",
       "    <tr>\n",
       "      <th>33</th>\n",
       "      <td>11.225243</td>\n",
       "      <td>-0.496158</td>\n",
       "      <td>0.449421</td>\n",
       "      <td>0.738175</td>\n",
       "      <td>0.516465</td>\n",
       "    </tr>\n",
       "    <tr>\n",
       "      <th>6</th>\n",
       "      <td>10.370361</td>\n",
       "      <td>-0.385901</td>\n",
       "      <td>-0.059758</td>\n",
       "      <td>0.827576</td>\n",
       "      <td>0.586925</td>\n",
       "    </tr>\n",
       "    <tr>\n",
       "      <th>3</th>\n",
       "      <td>11.127851</td>\n",
       "      <td>0.312396</td>\n",
       "      <td>-0.390724</td>\n",
       "      <td>0.559374</td>\n",
       "      <td>-1.139355</td>\n",
       "    </tr>\n",
       "    <tr>\n",
       "      <th>12</th>\n",
       "      <td>10.616315</td>\n",
       "      <td>-0.018376</td>\n",
       "      <td>-0.059758</td>\n",
       "      <td>0.469974</td>\n",
       "      <td>2.225130</td>\n",
       "    </tr>\n",
       "    <tr>\n",
       "      <th>70</th>\n",
       "      <td>10.634075</td>\n",
       "      <td>-1.341465</td>\n",
       "      <td>2.002414</td>\n",
       "      <td>0.872276</td>\n",
       "      <td>-0.892743</td>\n",
       "    </tr>\n",
       "    <tr>\n",
       "      <th>...</th>\n",
       "      <td>...</td>\n",
       "      <td>...</td>\n",
       "      <td>...</td>\n",
       "      <td>...</td>\n",
       "      <td>...</td>\n",
       "    </tr>\n",
       "    <tr>\n",
       "      <th>54</th>\n",
       "      <td>NaN</td>\n",
       "      <td>-1.561979</td>\n",
       "      <td>1.976955</td>\n",
       "      <td>0.335873</td>\n",
       "      <td>1.080148</td>\n",
       "    </tr>\n",
       "    <tr>\n",
       "      <th>57</th>\n",
       "      <td>NaN</td>\n",
       "      <td>0.312396</td>\n",
       "      <td>-0.568936</td>\n",
       "      <td>0.916976</td>\n",
       "      <td>-0.610901</td>\n",
       "    </tr>\n",
       "    <tr>\n",
       "      <th>62</th>\n",
       "      <td>NaN</td>\n",
       "      <td>0.643168</td>\n",
       "      <td>-0.568936</td>\n",
       "      <td>0.738175</td>\n",
       "      <td>-0.329060</td>\n",
       "    </tr>\n",
       "    <tr>\n",
       "      <th>64</th>\n",
       "      <td>NaN</td>\n",
       "      <td>0.716673</td>\n",
       "      <td>-0.823525</td>\n",
       "      <td>-0.781634</td>\n",
       "      <td>-0.857513</td>\n",
       "    </tr>\n",
       "    <tr>\n",
       "      <th>68</th>\n",
       "      <td>NaN</td>\n",
       "      <td>-0.091881</td>\n",
       "      <td>0.194831</td>\n",
       "      <td>-0.379331</td>\n",
       "      <td>0.939227</td>\n",
       "    </tr>\n",
       "  </tbody>\n",
       "</table>\n",
       "<p>93 rows × 5 columns</p>\n",
       "</div>"
      ],
      "text/plain": [
       "    PriceEuro  AccelSec  TopSpeed_KmH  Range_Km  Efficiency_WhKm\n",
       "33  11.225243 -0.496158      0.449421  0.738175         0.516465\n",
       "6   10.370361 -0.385901     -0.059758  0.827576         0.586925\n",
       "3   11.127851  0.312396     -0.390724  0.559374        -1.139355\n",
       "12  10.616315 -0.018376     -0.059758  0.469974         2.225130\n",
       "70  10.634075 -1.341465      2.002414  0.872276        -0.892743\n",
       "..        ...       ...           ...       ...              ...\n",
       "54        NaN -1.561979      1.976955  0.335873         1.080148\n",
       "57        NaN  0.312396     -0.568936  0.916976        -0.610901\n",
       "62        NaN  0.643168     -0.568936  0.738175        -0.329060\n",
       "64        NaN  0.716673     -0.823525 -0.781634        -0.857513\n",
       "68        NaN -0.091881      0.194831 -0.379331         0.939227\n",
       "\n",
       "[93 rows x 5 columns]"
      ]
     },
     "execution_count": 47,
     "metadata": {},
     "output_type": "execute_result"
    }
   ],
   "source": [
    "df = pd.concat([y_train, X_train], axis=1)\n",
    "df"
   ]
  },
  {
   "cell_type": "markdown",
   "id": "4033d79f",
   "metadata": {},
   "source": [
    "### Correlation Matrix "
   ]
  },
  {
   "cell_type": "code",
   "execution_count": 52,
   "id": "e43fc4fd",
   "metadata": {},
   "outputs": [
    {
     "data": {
      "text/html": [
       "<div>\n",
       "<style scoped>\n",
       "    .dataframe tbody tr th:only-of-type {\n",
       "        vertical-align: middle;\n",
       "    }\n",
       "\n",
       "    .dataframe tbody tr th {\n",
       "        vertical-align: top;\n",
       "    }\n",
       "\n",
       "    .dataframe thead th {\n",
       "        text-align: right;\n",
       "    }\n",
       "</style>\n",
       "<table border=\"1\" class=\"dataframe\">\n",
       "  <thead>\n",
       "    <tr style=\"text-align: right;\">\n",
       "      <th></th>\n",
       "      <th>PriceEuro</th>\n",
       "      <th>AccelSec</th>\n",
       "      <th>TopSpeed_KmH</th>\n",
       "      <th>Range_Km</th>\n",
       "      <th>Efficiency_WhKm</th>\n",
       "    </tr>\n",
       "  </thead>\n",
       "  <tbody>\n",
       "    <tr>\n",
       "      <th>PriceEuro</th>\n",
       "      <td>1.000000</td>\n",
       "      <td>-0.115910</td>\n",
       "      <td>0.028141</td>\n",
       "      <td>0.185486</td>\n",
       "      <td>0.071252</td>\n",
       "    </tr>\n",
       "    <tr>\n",
       "      <th>AccelSec</th>\n",
       "      <td>-0.115910</td>\n",
       "      <td>1.000000</td>\n",
       "      <td>-0.903806</td>\n",
       "      <td>-0.735663</td>\n",
       "      <td>-0.416596</td>\n",
       "    </tr>\n",
       "    <tr>\n",
       "      <th>TopSpeed_KmH</th>\n",
       "      <td>0.028141</td>\n",
       "      <td>-0.903806</td>\n",
       "      <td>1.000000</td>\n",
       "      <td>0.679111</td>\n",
       "      <td>0.346505</td>\n",
       "    </tr>\n",
       "    <tr>\n",
       "      <th>Range_Km</th>\n",
       "      <td>0.185486</td>\n",
       "      <td>-0.735663</td>\n",
       "      <td>0.679111</td>\n",
       "      <td>1.000000</td>\n",
       "      <td>0.483411</td>\n",
       "    </tr>\n",
       "    <tr>\n",
       "      <th>Efficiency_WhKm</th>\n",
       "      <td>0.071252</td>\n",
       "      <td>-0.416596</td>\n",
       "      <td>0.346505</td>\n",
       "      <td>0.483411</td>\n",
       "      <td>1.000000</td>\n",
       "    </tr>\n",
       "  </tbody>\n",
       "</table>\n",
       "</div>"
      ],
      "text/plain": [
       "                 PriceEuro  AccelSec  TopSpeed_KmH  Range_Km  Efficiency_WhKm\n",
       "PriceEuro         1.000000 -0.115910      0.028141  0.185486         0.071252\n",
       "AccelSec         -0.115910  1.000000     -0.903806 -0.735663        -0.416596\n",
       "TopSpeed_KmH      0.028141 -0.903806      1.000000  0.679111         0.346505\n",
       "Range_Km          0.185486 -0.735663      0.679111  1.000000         0.483411\n",
       "Efficiency_WhKm   0.071252 -0.416596      0.346505  0.483411         1.000000"
      ]
     },
     "execution_count": 52,
     "metadata": {},
     "output_type": "execute_result"
    }
   ],
   "source": [
    "df.corr()"
   ]
  },
  {
   "cell_type": "code",
   "execution_count": 49,
   "id": "a5af5b92",
   "metadata": {},
   "outputs": [
    {
     "data": {
      "text/plain": [
       "<AxesSubplot:>"
      ]
     },
     "execution_count": 49,
     "metadata": {},
     "output_type": "execute_result"
    },
    {
     "data": {
      "image/png": "[encoded data removed]",
      "text/plain": [
       "<Figure size 432x288 with 2 Axes>"
      ]
     },
     "metadata": {
      "needs_background": "light"
     },
     "output_type": "display_data"
    }
   ],
   "source": [
    "sns.heatmap(np.round(df.corr(),2),annot = True)"
   ]
  },
  {
   "cell_type": "code",
   "execution_count": 50,
   "id": "852eced2",
   "metadata": {},
   "outputs": [
    {
     "data": {
      "text/plain": [
       "<AxesSubplot:title={'center':'Price VS Acceleration in sec'}, xlabel='PriceEuro', ylabel='AccelSec'>"
      ]
     },
     "execution_count": 50,
     "metadata": {},
     "output_type": "execute_result"
    },
    {
     "data": {
      "image/png": "[encoded data removed]",
      "text/plain": [
       "<Figure size 432x288 with 1 Axes>"
      ]
     },
     "metadata": {
      "needs_background": "light"
     },
     "output_type": "display_data"
    }
   ],
   "source": [
    "df.plot.scatter(x='PriceEuro',y='AccelSec',title='Price VS Acceleration in sec')"
   ]
  },
  {
   "cell_type": "code",
   "execution_count": 51,
   "id": "599aae54",
   "metadata": {},
   "outputs": [
    {
     "data": {
      "text/plain": [
       "<AxesSubplot:title={'center':'Price VS TopSpeed_KmH'}, xlabel='PriceEuro', ylabel='TopSpeed_KmH'>"
      ]
     },
     "execution_count": 51,
     "metadata": {},
     "output_type": "execute_result"
    },
    {
     "data": {
      "image/png": "[encoded data removed]",
      "text/plain": [
       "<Figure size 432x288 with 1 Axes>"
      ]
     },
     "metadata": {
      "needs_background": "light"
     },
     "output_type": "display_data"
    }
   ],
   "source": [
    "df.plot.scatter(x='PriceEuro',y='TopSpeed_KmH',title='Price VS TopSpeed_KmH')"
   ]
  },
  {
   "cell_type": "markdown",
   "id": "f3abf4e1",
   "metadata": {},
   "source": [
    "\n",
    "No Multi-colinearity present in the dataset which directly affects PriceEuro."
   ]
  },
  {
   "cell_type": "code",
   "execution_count": 54,
   "id": "b23e1dfa",
   "metadata": {},
   "outputs": [
    {
     "name": "stdout",
     "output_type": "stream",
     "text": [
      "<class 'pandas.core.frame.DataFrame'>\n",
      "Int64Index: 93 entries, 33 to 68\n",
      "Data columns (total 5 columns):\n",
      " #   Column           Non-Null Count  Dtype  \n",
      "---  ------           --------------  -----  \n",
      " 0   PriceEuro        72 non-null     float64\n",
      " 1   AccelSec         72 non-null     float64\n",
      " 2   TopSpeed_KmH     72 non-null     float64\n",
      " 3   Range_Km         72 non-null     float64\n",
      " 4   Efficiency_WhKm  72 non-null     float64\n",
      "dtypes: float64(5)\n",
      "memory usage: 4.4 KB\n"
     ]
    }
   ],
   "source": [
    "df.info()"
   ]
  },
  {
   "cell_type": "markdown",
   "id": "b13c8b7b",
   "metadata": {},
   "source": [
    "#  Multicollinearity (with the help of VIF)"
   ]
  },
  {
   "cell_type": "code",
   "execution_count": 56,
   "id": "45b72143",
   "metadata": {},
   "outputs": [
    {
     "data": {
      "text/plain": [
       "PriceEuro          1.026987\n",
       "AccelSec           6.349523\n",
       "TopSpeed_KmH       5.069318\n",
       "Range_Km           2.473688\n",
       "Efficiency_WhKm    1.411826\n",
       "dtype: float64"
      ]
     },
     "execution_count": 56,
     "metadata": {},
     "output_type": "execute_result"
    }
   ],
   "source": [
    "X1=df.replace([np.inf, -np.inf], np.nan).dropna()\n",
    "X1.fillna(X1.mean())\n",
    "series_before = pd.Series([variance_inflation_factor(X1.values, i) \n",
    "                           for i in range(X1.shape[1])],  # i=0,1,2\n",
    "                          index=X1.columns)  # column name\n",
    "series_before"
   ]
  },
  {
   "cell_type": "markdown",
   "id": "1639e7f6",
   "metadata": {},
   "source": [
    "No Collinearity in the data."
   ]
  },
  {
   "cell_type": "markdown",
   "id": "b42ea9e2",
   "metadata": {},
   "source": [
    "## Model Builiding \n",
    "* Ho - There is no linear relationship between PriceEuro and AccelSec, Range_Km, TopSpeed_KmH & Efficiency_WhKm.\n",
    "* vs\n",
    "* Ho - There is a linear relationship between PriceEuro and AccelSec, Range_Km, TopSpeed_KmH & Efficiency_WhKm.\n",
    "* alpha = 5%(0.05)"
   ]
  },
  {
   "cell_type": "code",
   "execution_count": 63,
   "id": "f1c739ac",
   "metadata": {},
   "outputs": [
    {
     "data": {
      "text/html": [
       "<table class=\"simpletable\">\n",
       "<caption>OLS Regression Results</caption>\n",
       "<tr>\n",
       "  <th>Dep. Variable:</th>        <td>PriceEuro</td>    <th>  R-squared:         </th> <td>   0.063</td>\n",
       "</tr>\n",
       "<tr>\n",
       "  <th>Model:</th>                   <td>OLS</td>       <th>  Adj. R-squared:    </th> <td>  -0.019</td>\n",
       "</tr>\n",
       "<tr>\n",
       "  <th>Method:</th>             <td>Least Squares</td>  <th>  F-statistic:       </th> <td>  0.7688</td>\n",
       "</tr>\n",
       "<tr>\n",
       "  <th>Date:</th>             <td>Tue, 05 Nov 2024</td> <th>  Prob (F-statistic):</th>  <td> 0.551</td> \n",
       "</tr>\n",
       "<tr>\n",
       "  <th>Time:</th>                 <td>09:42:23</td>     <th>  Log-Likelihood:    </th> <td> -28.411</td>\n",
       "</tr>\n",
       "<tr>\n",
       "  <th>No. Observations:</th>      <td>    51</td>      <th>  AIC:               </th> <td>   66.82</td>\n",
       "</tr>\n",
       "<tr>\n",
       "  <th>Df Residuals:</th>          <td>    46</td>      <th>  BIC:               </th> <td>   76.48</td>\n",
       "</tr>\n",
       "<tr>\n",
       "  <th>Df Model:</th>              <td>     4</td>      <th>                     </th>     <td> </td>   \n",
       "</tr>\n",
       "<tr>\n",
       "  <th>Covariance Type:</th>      <td>nonrobust</td>    <th>                     </th>     <td> </td>   \n",
       "</tr>\n",
       "</table>\n",
       "<table class=\"simpletable\">\n",
       "<tr>\n",
       "         <td></td>            <th>coef</th>     <th>std err</th>      <th>t</th>      <th>P>|t|</th>  <th>[0.025</th>    <th>0.975]</th>  \n",
       "</tr>\n",
       "<tr>\n",
       "  <th>Intercept</th>       <td>   10.7769</td> <td>    0.063</td> <td>  170.919</td> <td> 0.000</td> <td>   10.650</td> <td>   10.904</td>\n",
       "</tr>\n",
       "<tr>\n",
       "  <th>AccelSec</th>        <td>   -0.1363</td> <td>    0.161</td> <td>   -0.849</td> <td> 0.400</td> <td>   -0.459</td> <td>    0.187</td>\n",
       "</tr>\n",
       "<tr>\n",
       "  <th>Range_Km</th>        <td>    0.1101</td> <td>    0.107</td> <td>    1.031</td> <td> 0.308</td> <td>   -0.105</td> <td>    0.325</td>\n",
       "</tr>\n",
       "<tr>\n",
       "  <th>TopSpeed_KmH</th>    <td>   -0.1706</td> <td>    0.149</td> <td>   -1.148</td> <td> 0.257</td> <td>   -0.470</td> <td>    0.128</td>\n",
       "</tr>\n",
       "<tr>\n",
       "  <th>Efficiency_WhKm</th> <td>   -0.0284</td> <td>    0.072</td> <td>   -0.394</td> <td> 0.695</td> <td>   -0.173</td> <td>    0.116</td>\n",
       "</tr>\n",
       "</table>\n",
       "<table class=\"simpletable\">\n",
       "<tr>\n",
       "  <th>Omnibus:</th>       <td> 2.778</td> <th>  Durbin-Watson:     </th> <td>   1.652</td>\n",
       "</tr>\n",
       "<tr>\n",
       "  <th>Prob(Omnibus):</th> <td> 0.249</td> <th>  Jarque-Bera (JB):  </th> <td>   2.443</td>\n",
       "</tr>\n",
       "<tr>\n",
       "  <th>Skew:</th>          <td> 0.436</td> <th>  Prob(JB):          </th> <td>   0.295</td>\n",
       "</tr>\n",
       "<tr>\n",
       "  <th>Kurtosis:</th>      <td> 2.375</td> <th>  Cond. No.          </th> <td>    5.38</td>\n",
       "</tr>\n",
       "</table><br/><br/>Notes:<br/>[1] Standard Errors assume that the covariance matrix of the errors is correctly specified."
      ],
      "text/plain": [
       "<class 'statsmodels.iolib.summary.Summary'>\n",
       "\"\"\"\n",
       "                            OLS Regression Results                            \n",
       "==============================================================================\n",
       "Dep. Variable:              PriceEuro   R-squared:                       0.063\n",
       "Model:                            OLS   Adj. R-squared:                 -0.019\n",
       "Method:                 Least Squares   F-statistic:                    0.7688\n",
       "Date:                Tue, 05 Nov 2024   Prob (F-statistic):              0.551\n",
       "Time:                        09:42:23   Log-Likelihood:                -28.411\n",
       "No. Observations:                  51   AIC:                             66.82\n",
       "Df Residuals:                      46   BIC:                             76.48\n",
       "Df Model:                           4                                         \n",
       "Covariance Type:            nonrobust                                         \n",
       "===================================================================================\n",
       "                      coef    std err          t      P>|t|      [0.025      0.975]\n",
       "-----------------------------------------------------------------------------------\n",
       "Intercept          10.7769      0.063    170.919      0.000      10.650      10.904\n",
       "AccelSec           -0.1363      0.161     -0.849      0.400      -0.459       0.187\n",
       "Range_Km            0.1101      0.107      1.031      0.308      -0.105       0.325\n",
       "TopSpeed_KmH       -0.1706      0.149     -1.148      0.257      -0.470       0.128\n",
       "Efficiency_WhKm    -0.0284      0.072     -0.394      0.695      -0.173       0.116\n",
       "==============================================================================\n",
       "Omnibus:                        2.778   Durbin-Watson:                   1.652\n",
       "Prob(Omnibus):                  0.249   Jarque-Bera (JB):                2.443\n",
       "Skew:                           0.436   Prob(JB):                        0.295\n",
       "Kurtosis:                       2.375   Cond. No.                         5.38\n",
       "==============================================================================\n",
       "\n",
       "Notes:\n",
       "[1] Standard Errors assume that the covariance matrix of the errors is correctly specified.\n",
       "\"\"\""
      ]
     },
     "execution_count": 63,
     "metadata": {},
     "output_type": "execute_result"
    }
   ],
   "source": [
    "import statsmodels.formula.api as smf\n",
    "model = smf.ols('PriceEuro ~ AccelSec + Range_Km + TopSpeed_KmH + Efficiency_WhKm',data=df).fit()\n",
    "model.summary()"
   ]
  },
  {
   "cell_type": "markdown",
   "id": "91a5c583",
   "metadata": {},
   "source": [
    "#### Manual prediction \n",
    "##### y = 11.1357 + (-0.1032)*AccelSec + 0.0012 * Range_Km"
   ]
  },
  {
   "cell_type": "code",
   "execution_count": 60,
   "id": "3c41a645",
   "metadata": {},
   "outputs": [
    {
     "data": {
      "text/html": [
       "<div>\n",
       "<style scoped>\n",
       "    .dataframe tbody tr th:only-of-type {\n",
       "        vertical-align: middle;\n",
       "    }\n",
       "\n",
       "    .dataframe tbody tr th {\n",
       "        vertical-align: top;\n",
       "    }\n",
       "\n",
       "    .dataframe thead th {\n",
       "        text-align: right;\n",
       "    }\n",
       "</style>\n",
       "<table border=\"1\" class=\"dataframe\">\n",
       "  <thead>\n",
       "    <tr style=\"text-align: right;\">\n",
       "      <th></th>\n",
       "      <th>PriceEuro</th>\n",
       "      <th>AccelSec</th>\n",
       "      <th>TopSpeed_KmH</th>\n",
       "      <th>Range_Km</th>\n",
       "      <th>Efficiency_WhKm</th>\n",
       "      <th>fitted_value</th>\n",
       "      <th>residual</th>\n",
       "    </tr>\n",
       "  </thead>\n",
       "  <tbody>\n",
       "    <tr>\n",
       "      <th>33</th>\n",
       "      <td>11.225243</td>\n",
       "      <td>-0.496158</td>\n",
       "      <td>0.449421</td>\n",
       "      <td>0.738175</td>\n",
       "      <td>0.516465</td>\n",
       "      <td>10.834483</td>\n",
       "      <td>0.390761</td>\n",
       "    </tr>\n",
       "    <tr>\n",
       "      <th>6</th>\n",
       "      <td>10.370361</td>\n",
       "      <td>-0.385901</td>\n",
       "      <td>-0.059758</td>\n",
       "      <td>0.827576</td>\n",
       "      <td>0.586925</td>\n",
       "      <td>10.914192</td>\n",
       "      <td>-0.543831</td>\n",
       "    </tr>\n",
       "    <tr>\n",
       "      <th>3</th>\n",
       "      <td>11.127851</td>\n",
       "      <td>0.312396</td>\n",
       "      <td>-0.390724</td>\n",
       "      <td>0.559374</td>\n",
       "      <td>-1.139355</td>\n",
       "      <td>10.894921</td>\n",
       "      <td>0.232930</td>\n",
       "    </tr>\n",
       "    <tr>\n",
       "      <th>12</th>\n",
       "      <td>10.616315</td>\n",
       "      <td>-0.018376</td>\n",
       "      <td>-0.059758</td>\n",
       "      <td>0.469974</td>\n",
       "      <td>2.225130</td>\n",
       "      <td>10.778265</td>\n",
       "      <td>-0.161950</td>\n",
       "    </tr>\n",
       "    <tr>\n",
       "      <th>70</th>\n",
       "      <td>10.634075</td>\n",
       "      <td>-1.341465</td>\n",
       "      <td>2.002414</td>\n",
       "      <td>0.872276</td>\n",
       "      <td>-0.892743</td>\n",
       "      <td>10.739407</td>\n",
       "      <td>-0.105332</td>\n",
       "    </tr>\n",
       "  </tbody>\n",
       "</table>\n",
       "</div>"
      ],
      "text/plain": [
       "    PriceEuro  AccelSec  TopSpeed_KmH  Range_Km  Efficiency_WhKm  \\\n",
       "33  11.225243 -0.496158      0.449421  0.738175         0.516465   \n",
       "6   10.370361 -0.385901     -0.059758  0.827576         0.586925   \n",
       "3   11.127851  0.312396     -0.390724  0.559374        -1.139355   \n",
       "12  10.616315 -0.018376     -0.059758  0.469974         2.225130   \n",
       "70  10.634075 -1.341465      2.002414  0.872276        -0.892743   \n",
       "\n",
       "    fitted_value  residual  \n",
       "33     10.834483  0.390761  \n",
       "6      10.914192 -0.543831  \n",
       "3      10.894921  0.232930  \n",
       "12     10.778265 -0.161950  \n",
       "70     10.739407 -0.105332  "
      ]
     },
     "execution_count": 60,
     "metadata": {},
     "output_type": "execute_result"
    }
   ],
   "source": [
    "df['fitted_value']=model.fittedvalues #Predicted Value\n",
    "df['residual']=model.resid  #Error\n",
    "df.head()"
   ]
  },
  {
   "cell_type": "markdown",
   "id": "a9c4db5f",
   "metadata": {},
   "source": [
    "## Assumption of model.\n",
    "* Linearity \n",
    "* Normality \n",
    "* Homoscedasticity \n",
    "* Model error has to be independently identically distributed."
   ]
  },
  {
   "cell_type": "markdown",
   "id": "74bbb9c9",
   "metadata": {},
   "source": [
    "# Linearity"
   ]
  },
  {
   "cell_type": "code",
   "execution_count": null,
   "id": "a5713e0b",
   "metadata": {},
   "outputs": [],
   "source": [
    "df.plot.scatter(x='Efficiency_WhKm', y='PriceEuro', title='Price vs efficiency')"
   ]
  },
  {
   "cell_type": "markdown",
   "id": "dfa8af0a",
   "metadata": {},
   "source": [
    "### Homoscedasticity "
   ]
  },
  {
   "cell_type": "code",
   "execution_count": null,
   "id": "e0160b70",
   "metadata": {},
   "outputs": [],
   "source": [
    "sns.scatterplot(x='fitted_value', y='residual',data=df)"
   ]
  },
  {
   "cell_type": "markdown",
   "id": "9391b159",
   "metadata": {},
   "source": [
    "### Normality "
   ]
  },
  {
   "cell_type": "code",
   "execution_count": null,
   "id": "aee393ef",
   "metadata": {},
   "outputs": [],
   "source": [
    "import statsmodels.api as sm\n",
    "fig = sm.qqplot(df['residual'], fit=True, line='s') # s indicate standardized line\n",
    "plt.show()"
   ]
  },
  {
   "cell_type": "markdown",
   "id": "84fddb72",
   "metadata": {},
   "source": [
    "### Model error"
   ]
  },
  {
   "cell_type": "code",
   "execution_count": null,
   "id": "bf61aacb",
   "metadata": {},
   "outputs": [],
   "source": [
    "df['residual'].plot.hist()"
   ]
  },
  {
   "cell_type": "markdown",
   "id": "267795cd",
   "metadata": {},
   "source": [
    "# Prediction on Test Data (unseen data)"
   ]
  },
  {
   "cell_type": "code",
   "execution_count": null,
   "id": "827a5a6b",
   "metadata": {},
   "outputs": [],
   "source": [
    "X_test=pd.DataFrame(X_test,columns=['AccelSec', 'TopSpeed_KmH', 'Range_Km', 'Efficiency_WhKm'])\n",
    "X_test.head()"
   ]
  },
  {
   "cell_type": "code",
   "execution_count": null,
   "id": "840b89c7",
   "metadata": {},
   "outputs": [],
   "source": [
    "df_test=pd.concat([X_test,y_test],axis=1)\n",
    "\n",
    "df_test.head()"
   ]
  },
  {
   "cell_type": "code",
   "execution_count": null,
   "id": "6b7c8038",
   "metadata": {},
   "outputs": [],
   "source": [
    "df_test['Prediction']=model.predict(df_test) # predict = all row prediction ( Auto )\n",
    "df_test.head()"
   ]
  },
  {
   "cell_type": "markdown",
   "id": "2c77fdf8",
   "metadata": {},
   "source": [
    "# Test"
   ]
  },
  {
   "cell_type": "code",
   "execution_count": null,
   "id": "f19aeac2",
   "metadata": {},
   "outputs": [],
   "source": [
    "from sklearn.metrics import r2_score\n",
    "r2 = r2_score(df_test.PriceEuro, df_test.Prediction)\n",
    "print('R2 score for model Performance on Test', np.round(r2,2))"
   ]
  }
 ],
 "metadata": {
  "kernelspec": {
   "display_name": "Python 3 (ipykernel)",
   "language": "python",
   "name": "python3"
  },
  "language_info": {
   "codemirror_mode": {
    "name": "ipython",
    "version": 3
   },
   "file_extension": ".py",
   "mimetype": "text/x-python",
   "name": "python",
   "nbconvert_exporter": "python",
   "pygments_lexer": "ipython3",
   "version": "3.9.12"
  }
 },
 "nbformat": 4,
 "nbformat_minor": 5
}
