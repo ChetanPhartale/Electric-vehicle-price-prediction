{
 "cells": [
  {
   "cell_type": "markdown",
   "id": "90f86ecf",
   "metadata": {},
   "source": [
    "##  Correct Order of Steps for Decision Tree Regression\n",
    "#### 1.\tHandle duplicates & missing values\n",
    "#### 2.\tTreat outliers (using IQR, capping, or transformations)\n",
    "#### 3.\tApply Target Variable Transformation (If necessary)\n",
    "#### 4.\tSplit data into train & test sets\n",
    "#### 5.\tApply categorical encoding (Only on training data, then transform test data)\n",
    "#### 6.\tHandle multi-collinearity (VIF check, dropping highly correlated features)\n",
    "#### 7.\tNormalize/Standardize numerical features (Only on training data, then transform test data) (Not Necessory for trees)\n",
    "#### 8.\tTrain Decision Tree Regression model\n",
    "#### 9.\tEvaluate the model\n",
    "#### 10. Apply Hyperparameter tuning using Grid search\n",
    "#### 11. Make final predictions"
   ]
  },
  {
   "cell_type": "markdown",
   "id": "5cdfd312",
   "metadata": {},
   "source": [
    "## Import Libraries"
   ]
  },
  {
   "cell_type": "code",
   "execution_count": 1,
   "id": "064d38f8",
   "metadata": {},
   "outputs": [],
   "source": [
    "import pandas as pd\n",
    "import numpy as np\n",
    "import seaborn as sns\n",
    "from sklearn import tree\n",
    "from sklearn.metrics import confusion_matrix \n",
    "from sklearn.metrics import r2_score\n",
    "import matplotlib.pyplot as plt \n",
    "from sklearn.model_selection import train_test_split, GridSearchCV\n",
    "from sklearn.preprocessing import OneHotEncoder, StandardScaler\n",
    "from sklearn.impute import SimpleImputer\n",
    "from sklearn.tree import DecisionTreeClassifier, DecisionTreeRegressor\n",
    "from sklearn.metrics import accuracy_score, classification_report, mean_squared_error"
   ]
  },
  {
   "cell_type": "markdown",
   "id": "07747974",
   "metadata": {},
   "source": [
    "## Data Import"
   ]
  },
  {
   "cell_type": "code",
   "execution_count": 2,
   "id": "da6d6bc6",
   "metadata": {},
   "outputs": [],
   "source": [
    "electric = pd.read_csv(r\"C:\\Users\\HP\\Desktop\\Python\\Machine Learning\\Mini Project\\Electric vehicles2\\archive (2)\\train.csv\") "
   ]
  },
  {
   "cell_type": "code",
   "execution_count": 3,
   "id": "72caaf19",
   "metadata": {},
   "outputs": [
    {
     "data": {
      "text/html": [
       "<div>\n",
       "<style scoped>\n",
       "    .dataframe tbody tr th:only-of-type {\n",
       "        vertical-align: middle;\n",
       "    }\n",
       "\n",
       "    .dataframe tbody tr th {\n",
       "        vertical-align: top;\n",
       "    }\n",
       "\n",
       "    .dataframe thead th {\n",
       "        text-align: right;\n",
       "    }\n",
       "</style>\n",
       "<table border=\"1\" class=\"dataframe\">\n",
       "  <thead>\n",
       "    <tr style=\"text-align: right;\">\n",
       "      <th></th>\n",
       "      <th>ID</th>\n",
       "      <th>VIN (1-10)</th>\n",
       "      <th>County</th>\n",
       "      <th>City</th>\n",
       "      <th>State</th>\n",
       "      <th>ZIP Code</th>\n",
       "      <th>Model Year</th>\n",
       "      <th>Make</th>\n",
       "      <th>Model</th>\n",
       "      <th>Electric Vehicle Type</th>\n",
       "      <th>Clean Alternative Fuel Vehicle (CAFV) Eligibility</th>\n",
       "      <th>Electric Range</th>\n",
       "      <th>Base MSRP</th>\n",
       "      <th>Legislative District</th>\n",
       "      <th>DOL Vehicle ID</th>\n",
       "      <th>Vehicle Location</th>\n",
       "      <th>Electric Utility</th>\n",
       "      <th>Expected Price ($1k)</th>\n",
       "    </tr>\n",
       "  </thead>\n",
       "  <tbody>\n",
       "    <tr>\n",
       "      <th>0</th>\n",
       "      <td>EV33174</td>\n",
       "      <td>5YJ3E1EC6L</td>\n",
       "      <td>Snohomish</td>\n",
       "      <td>LYNNWOOD</td>\n",
       "      <td>WA</td>\n",
       "      <td>98037.0</td>\n",
       "      <td>2020.0</td>\n",
       "      <td>TESLA</td>\n",
       "      <td>MODEL 3</td>\n",
       "      <td>Battery Electric Vehicle (BEV)</td>\n",
       "      <td>Clean Alternative Fuel Vehicle Eligible</td>\n",
       "      <td>308</td>\n",
       "      <td>0</td>\n",
       "      <td>32.0</td>\n",
       "      <td>109821694</td>\n",
       "      <td>POINT (-122.287614 47.83874)</td>\n",
       "      <td>PUGET SOUND ENERGY INC</td>\n",
       "      <td>50</td>\n",
       "    </tr>\n",
       "    <tr>\n",
       "      <th>1</th>\n",
       "      <td>EV40247</td>\n",
       "      <td>JN1AZ0CP8B</td>\n",
       "      <td>Skagit</td>\n",
       "      <td>BELLINGHAM</td>\n",
       "      <td>WA</td>\n",
       "      <td>98229.0</td>\n",
       "      <td>2011.0</td>\n",
       "      <td>NISSAN</td>\n",
       "      <td>LEAF</td>\n",
       "      <td>Battery Electric Vehicle (BEV)</td>\n",
       "      <td>Clean Alternative Fuel Vehicle Eligible</td>\n",
       "      <td>73</td>\n",
       "      <td>0</td>\n",
       "      <td>40.0</td>\n",
       "      <td>137375528</td>\n",
       "      <td>POINT (-122.414936 48.709388)</td>\n",
       "      <td>PUGET SOUND ENERGY INC</td>\n",
       "      <td>15</td>\n",
       "    </tr>\n",
       "    <tr>\n",
       "      <th>2</th>\n",
       "      <td>EV12248</td>\n",
       "      <td>WBY1Z2C56F</td>\n",
       "      <td>Pierce</td>\n",
       "      <td>TACOMA</td>\n",
       "      <td>WA</td>\n",
       "      <td>98422.0</td>\n",
       "      <td>2015.0</td>\n",
       "      <td>BMW</td>\n",
       "      <td>I3</td>\n",
       "      <td>Battery Electric Vehicle (BEV)</td>\n",
       "      <td>Clean Alternative Fuel Vehicle Eligible</td>\n",
       "      <td>81</td>\n",
       "      <td>0</td>\n",
       "      <td>27.0</td>\n",
       "      <td>150627382</td>\n",
       "      <td>POINT (-122.396286 47.293138)</td>\n",
       "      <td>BONNEVILLE POWER ADMINISTRATION||CITY OF TACOM...</td>\n",
       "      <td>18</td>\n",
       "    </tr>\n",
       "    <tr>\n",
       "      <th>3</th>\n",
       "      <td>EV55713</td>\n",
       "      <td>1G1RD6E44D</td>\n",
       "      <td>King</td>\n",
       "      <td>REDMOND</td>\n",
       "      <td>WA</td>\n",
       "      <td>98053.0</td>\n",
       "      <td>2013.0</td>\n",
       "      <td>CHEVROLET</td>\n",
       "      <td>VOLT</td>\n",
       "      <td>Plug-in Hybrid Electric Vehicle (PHEV)</td>\n",
       "      <td>Clean Alternative Fuel Vehicle Eligible</td>\n",
       "      <td>38</td>\n",
       "      <td>0</td>\n",
       "      <td>45.0</td>\n",
       "      <td>258766301</td>\n",
       "      <td>POINT (-122.024951 47.670286)</td>\n",
       "      <td>PUGET SOUND ENERGY INC||CITY OF TACOMA - (WA)</td>\n",
       "      <td>33.9</td>\n",
       "    </tr>\n",
       "    <tr>\n",
       "      <th>4</th>\n",
       "      <td>EV28799</td>\n",
       "      <td>1G1FY6S05K</td>\n",
       "      <td>Pierce</td>\n",
       "      <td>PUYALLUP</td>\n",
       "      <td>WA</td>\n",
       "      <td>98375.0</td>\n",
       "      <td>2019.0</td>\n",
       "      <td>CHEVROLET</td>\n",
       "      <td>BOLT EV</td>\n",
       "      <td>Battery Electric Vehicle (BEV)</td>\n",
       "      <td>Clean Alternative Fuel Vehicle Eligible</td>\n",
       "      <td>238</td>\n",
       "      <td>0</td>\n",
       "      <td>25.0</td>\n",
       "      <td>296998138</td>\n",
       "      <td>POINT (-122.321062 47.103797)</td>\n",
       "      <td>BONNEVILLE POWER ADMINISTRATION||CITY OF TACOM...</td>\n",
       "      <td>41.78</td>\n",
       "    </tr>\n",
       "  </tbody>\n",
       "</table>\n",
       "</div>"
      ],
      "text/plain": [
       "        ID  VIN (1-10)     County        City State  ZIP Code  Model Year  \\\n",
       "0  EV33174  5YJ3E1EC6L  Snohomish    LYNNWOOD    WA   98037.0      2020.0   \n",
       "1  EV40247  JN1AZ0CP8B     Skagit  BELLINGHAM    WA   98229.0      2011.0   \n",
       "2  EV12248  WBY1Z2C56F     Pierce      TACOMA    WA   98422.0      2015.0   \n",
       "3  EV55713  1G1RD6E44D       King     REDMOND    WA   98053.0      2013.0   \n",
       "4  EV28799  1G1FY6S05K     Pierce    PUYALLUP    WA   98375.0      2019.0   \n",
       "\n",
       "        Make    Model                   Electric Vehicle Type  \\\n",
       "0      TESLA  MODEL 3          Battery Electric Vehicle (BEV)   \n",
       "1     NISSAN     LEAF          Battery Electric Vehicle (BEV)   \n",
       "2        BMW       I3          Battery Electric Vehicle (BEV)   \n",
       "3  CHEVROLET     VOLT  Plug-in Hybrid Electric Vehicle (PHEV)   \n",
       "4  CHEVROLET  BOLT EV          Battery Electric Vehicle (BEV)   \n",
       "\n",
       "  Clean Alternative Fuel Vehicle (CAFV) Eligibility  Electric Range  \\\n",
       "0           Clean Alternative Fuel Vehicle Eligible             308   \n",
       "1           Clean Alternative Fuel Vehicle Eligible              73   \n",
       "2           Clean Alternative Fuel Vehicle Eligible              81   \n",
       "3           Clean Alternative Fuel Vehicle Eligible              38   \n",
       "4           Clean Alternative Fuel Vehicle Eligible             238   \n",
       "\n",
       "   Base MSRP  Legislative District  DOL Vehicle ID  \\\n",
       "0          0                  32.0       109821694   \n",
       "1          0                  40.0       137375528   \n",
       "2          0                  27.0       150627382   \n",
       "3          0                  45.0       258766301   \n",
       "4          0                  25.0       296998138   \n",
       "\n",
       "                Vehicle Location  \\\n",
       "0   POINT (-122.287614 47.83874)   \n",
       "1  POINT (-122.414936 48.709388)   \n",
       "2  POINT (-122.396286 47.293138)   \n",
       "3  POINT (-122.024951 47.670286)   \n",
       "4  POINT (-122.321062 47.103797)   \n",
       "\n",
       "                                    Electric Utility Expected Price ($1k)  \n",
       "0                             PUGET SOUND ENERGY INC                   50  \n",
       "1                             PUGET SOUND ENERGY INC                   15  \n",
       "2  BONNEVILLE POWER ADMINISTRATION||CITY OF TACOM...                   18  \n",
       "3      PUGET SOUND ENERGY INC||CITY OF TACOMA - (WA)                 33.9  \n",
       "4  BONNEVILLE POWER ADMINISTRATION||CITY OF TACOM...                41.78  "
      ]
     },
     "execution_count": 3,
     "metadata": {},
     "output_type": "execute_result"
    }
   ],
   "source": [
    "electric.head()"
   ]
  },
  {
   "cell_type": "markdown",
   "id": "c32a838d",
   "metadata": {},
   "source": [
    "## Data Overview\n",
    "#### VIN (1-10) - The 1st 10 characters of each vehicle's Vehicle Identification Number (VIN).\n",
    "#### County- The county in which the registered owner resides.\n",
    "#### City - The city in which the registered owner resides.\n",
    "#### State- The state in which the registered owner resides.\n",
    "#### ZIP Code - The 5-digit zip code in which the registered owner resides.\n",
    "#### Model Year - The model year of the vehicle is determined by decoding the Vehicle Identification Number (VIN).\n",
    "#### Make- The manufacturer of the vehicle, determined by decoding the Vehicle Identification Number (VIN).\n",
    "#### Model- The model of the vehicle is determined by decoding the Vehicle Identification Number (VIN).\n",
    "#### Electric Vehicle Type - This distinguishes the vehicle as all-electric or a plug-in hybrid.\n",
    "#### Clean Alternative Fuel Vehicle (CAFV) Eligibility - This categorizes vehicles as Clean Alternative Fuel Vehicles (CAFVs) based on the fuel requirement and electric-only range requirement.\n",
    "#### Electric Range - Describes how far a vehicle can travel purely on its electric charge.\n",
    "#### Base MSRP - This is the lowest Manufacturer's Suggested Retail Price (MSRP) for any trim level of the model in question.\n",
    "#### Legislative District - The specific section of Washington State that the vehicle's owner resides in, as represented in the state legislature.\n",
    "#### DOL Vehicle ID - Unique number assigned to each vehicle by the Department of Licensing for identification purposes.\n",
    "#### Vehicle Location - The center of the ZIP Code for the registered vehicle.\n",
    "#### Electric Utility - This is the electric power retail service territory serving the address of the registered vehicle.\n",
    "#### Expected Price - This is the expected price of the vehicle."
   ]
  },
  {
   "cell_type": "markdown",
   "id": "9c6743d7",
   "metadata": {},
   "source": [
    "## Data type"
   ]
  },
  {
   "cell_type": "code",
   "execution_count": 4,
   "id": "d6163da7",
   "metadata": {},
   "outputs": [
    {
     "name": "stdout",
     "output_type": "stream",
     "text": [
      "<class 'pandas.core.frame.DataFrame'>\n",
      "RangeIndex: 64353 entries, 0 to 64352\n",
      "Data columns (total 18 columns):\n",
      " #   Column                                             Non-Null Count  Dtype  \n",
      "---  ------                                             --------------  -----  \n",
      " 0   ID                                                 64353 non-null  object \n",
      " 1   VIN (1-10)                                         64353 non-null  object \n",
      " 2   County                                             64349 non-null  object \n",
      " 3   City                                               64344 non-null  object \n",
      " 4   State                                              64342 non-null  object \n",
      " 5   ZIP Code                                           64347 non-null  float64\n",
      " 6   Model Year                                         64346 non-null  float64\n",
      " 7   Make                                               64349 non-null  object \n",
      " 8   Model                                              64340 non-null  object \n",
      " 9   Electric Vehicle Type                              64353 non-null  object \n",
      " 10  Clean Alternative Fuel Vehicle (CAFV) Eligibility  64353 non-null  object \n",
      " 11  Electric Range                                     64353 non-null  int64  \n",
      " 12  Base MSRP                                          64353 non-null  int64  \n",
      " 13  Legislative District                               64184 non-null  float64\n",
      " 14  DOL Vehicle ID                                     64353 non-null  int64  \n",
      " 15  Vehicle Location                                   63843 non-null  object \n",
      " 16  Electric Utility                                   63631 non-null  object \n",
      " 17  Expected Price ($1k)                               64353 non-null  object \n",
      "dtypes: float64(3), int64(3), object(12)\n",
      "memory usage: 8.8+ MB\n"
     ]
    }
   ],
   "source": [
    "electric.info()"
   ]
  },
  {
   "cell_type": "code",
   "execution_count": 5,
   "id": "bc7711ba",
   "metadata": {},
   "outputs": [],
   "source": [
    "electric['ZIP Code'] = electric['ZIP Code'].astype(str)\n",
    "electric['Legislative District'] = electric['Legislative District'].astype(str)\n"
   ]
  },
  {
   "cell_type": "code",
   "execution_count": 6,
   "id": "df63a5f3",
   "metadata": {},
   "outputs": [
    {
     "data": {
      "text/html": [
       "<div>\n",
       "<style scoped>\n",
       "    .dataframe tbody tr th:only-of-type {\n",
       "        vertical-align: middle;\n",
       "    }\n",
       "\n",
       "    .dataframe tbody tr th {\n",
       "        vertical-align: top;\n",
       "    }\n",
       "\n",
       "    .dataframe thead th {\n",
       "        text-align: right;\n",
       "    }\n",
       "</style>\n",
       "<table border=\"1\" class=\"dataframe\">\n",
       "  <thead>\n",
       "    <tr style=\"text-align: right;\">\n",
       "      <th></th>\n",
       "      <th>Model Year</th>\n",
       "      <th>Electric Range</th>\n",
       "      <th>Base MSRP</th>\n",
       "      <th>DOL Vehicle ID</th>\n",
       "    </tr>\n",
       "  </thead>\n",
       "  <tbody>\n",
       "    <tr>\n",
       "      <th>count</th>\n",
       "      <td>64346.000000</td>\n",
       "      <td>64353.000000</td>\n",
       "      <td>64353.000000</td>\n",
       "      <td>6.435300e+04</td>\n",
       "    </tr>\n",
       "    <tr>\n",
       "      <th>mean</th>\n",
       "      <td>2018.186212</td>\n",
       "      <td>106.948985</td>\n",
       "      <td>2524.990754</td>\n",
       "      <td>1.972905e+08</td>\n",
       "    </tr>\n",
       "    <tr>\n",
       "      <th>std</th>\n",
       "      <td>2.726742</td>\n",
       "      <td>104.093919</td>\n",
       "      <td>12402.895104</td>\n",
       "      <td>1.069466e+08</td>\n",
       "    </tr>\n",
       "    <tr>\n",
       "      <th>min</th>\n",
       "      <td>1993.000000</td>\n",
       "      <td>0.000000</td>\n",
       "      <td>0.000000</td>\n",
       "      <td>4.385000e+03</td>\n",
       "    </tr>\n",
       "    <tr>\n",
       "      <th>25%</th>\n",
       "      <td>2017.000000</td>\n",
       "      <td>14.000000</td>\n",
       "      <td>0.000000</td>\n",
       "      <td>1.372865e+08</td>\n",
       "    </tr>\n",
       "    <tr>\n",
       "      <th>50%</th>\n",
       "      <td>2018.000000</td>\n",
       "      <td>73.000000</td>\n",
       "      <td>0.000000</td>\n",
       "      <td>1.753776e+08</td>\n",
       "    </tr>\n",
       "    <tr>\n",
       "      <th>75%</th>\n",
       "      <td>2021.000000</td>\n",
       "      <td>215.000000</td>\n",
       "      <td>0.000000</td>\n",
       "      <td>2.299039e+08</td>\n",
       "    </tr>\n",
       "    <tr>\n",
       "      <th>max</th>\n",
       "      <td>2022.000000</td>\n",
       "      <td>337.000000</td>\n",
       "      <td>845000.000000</td>\n",
       "      <td>4.789346e+08</td>\n",
       "    </tr>\n",
       "  </tbody>\n",
       "</table>\n",
       "</div>"
      ],
      "text/plain": [
       "         Model Year  Electric Range      Base MSRP  DOL Vehicle ID\n",
       "count  64346.000000    64353.000000   64353.000000    6.435300e+04\n",
       "mean    2018.186212      106.948985    2524.990754    1.972905e+08\n",
       "std        2.726742      104.093919   12402.895104    1.069466e+08\n",
       "min     1993.000000        0.000000       0.000000    4.385000e+03\n",
       "25%     2017.000000       14.000000       0.000000    1.372865e+08\n",
       "50%     2018.000000       73.000000       0.000000    1.753776e+08\n",
       "75%     2021.000000      215.000000       0.000000    2.299039e+08\n",
       "max     2022.000000      337.000000  845000.000000    4.789346e+08"
      ]
     },
     "execution_count": 6,
     "metadata": {},
     "output_type": "execute_result"
    }
   ],
   "source": [
    "electric.describe()"
   ]
  },
  {
   "cell_type": "code",
   "execution_count": 7,
   "id": "3e7276ac",
   "metadata": {},
   "outputs": [],
   "source": [
    "electric = electric.drop(['ID','DOL Vehicle ID','Base MSRP','VIN (1-10)','Vehicle Location'],axis=1)"
   ]
  },
  {
   "cell_type": "markdown",
   "id": "0fe3f138",
   "metadata": {},
   "source": [
    "## Treatment of null values"
   ]
  },
  {
   "cell_type": "code",
   "execution_count": 8,
   "id": "e25abccc",
   "metadata": {},
   "outputs": [
    {
     "data": {
      "text/plain": [
       "County                                                 4\n",
       "City                                                   9\n",
       "State                                                 11\n",
       "ZIP Code                                               0\n",
       "Model Year                                             7\n",
       "Make                                                   4\n",
       "Model                                                 13\n",
       "Electric Vehicle Type                                  0\n",
       "Clean Alternative Fuel Vehicle (CAFV) Eligibility      0\n",
       "Electric Range                                         0\n",
       "Legislative District                                   0\n",
       "Electric Utility                                     722\n",
       "Expected Price ($1k)                                   0\n",
       "dtype: int64"
      ]
     },
     "execution_count": 8,
     "metadata": {},
     "output_type": "execute_result"
    }
   ],
   "source": [
    "electric.isnull().sum()"
   ]
  },
  {
   "cell_type": "code",
   "execution_count": 9,
   "id": "e672fa41",
   "metadata": {},
   "outputs": [],
   "source": [
    "electric['Expected Price ($1k)'] = electric['Expected Price ($1k)'].replace('N/',np.nan).astype(float)\n",
    "electric = electric.dropna(subset=['Expected Price ($1k)'])\n"
   ]
  },
  {
   "cell_type": "code",
   "execution_count": 10,
   "id": "52934f0a",
   "metadata": {},
   "outputs": [],
   "source": [
    "electric = electric.fillna(electric.mode().iloc[0])"
   ]
  },
  {
   "cell_type": "code",
   "execution_count": 11,
   "id": "4b158471",
   "metadata": {},
   "outputs": [
    {
     "data": {
      "text/plain": [
       "County                                               0\n",
       "City                                                 0\n",
       "State                                                0\n",
       "ZIP Code                                             0\n",
       "Model Year                                           0\n",
       "Make                                                 0\n",
       "Model                                                0\n",
       "Electric Vehicle Type                                0\n",
       "Clean Alternative Fuel Vehicle (CAFV) Eligibility    0\n",
       "Electric Range                                       0\n",
       "Legislative District                                 0\n",
       "Electric Utility                                     0\n",
       "Expected Price ($1k)                                 0\n",
       "dtype: int64"
      ]
     },
     "execution_count": 11,
     "metadata": {},
     "output_type": "execute_result"
    }
   ],
   "source": [
    "electric.isnull().sum()"
   ]
  },
  {
   "cell_type": "markdown",
   "id": "103c6929",
   "metadata": {},
   "source": [
    "### Outlier treatment using IQR"
   ]
  },
  {
   "cell_type": "code",
   "execution_count": 12,
   "id": "599cf9b6",
   "metadata": {},
   "outputs": [
    {
     "data": {
      "text/plain": [
       "<AxesSubplot:>"
      ]
     },
     "execution_count": 12,
     "metadata": {},
     "output_type": "execute_result"
    },
    {
     "data": {
      "image/png": "[encoded data removed]",
      "text/plain": [
       "<Figure size 720x720 with 1 Axes>"
      ]
     },
     "metadata": {
      "needs_background": "light"
     },
     "output_type": "display_data"
    }
   ],
   "source": [
    "fig, axarr  = plt.subplots(figsize=(10,10))\n",
    "sns.boxplot(data=electric)"
   ]
  },
  {
   "cell_type": "markdown",
   "id": "8a97c608",
   "metadata": {},
   "source": [
    "### No outliers are present in 'Electric Range'"
   ]
  },
  {
   "cell_type": "markdown",
   "id": "64bf8cd7",
   "metadata": {},
   "source": [
    "## Target Variable Transformation"
   ]
  },
  {
   "cell_type": "code",
   "execution_count": 13,
   "id": "42855c4b",
   "metadata": {},
   "outputs": [],
   "source": [
    "electric['Expected Price ($1k)'] = np.log1p(electric['Expected Price ($1k)'])"
   ]
  },
  {
   "cell_type": "markdown",
   "id": "a790b894",
   "metadata": {},
   "source": [
    "## Splitting the data into training & testing sets."
   ]
  },
  {
   "cell_type": "code",
   "execution_count": 14,
   "id": "ccba9d2b",
   "metadata": {},
   "outputs": [],
   "source": [
    "X = electric.drop(columns=['Expected Price ($1k)'])  # Features\n",
    "y = electric['Expected Price ($1k)']  # Target variable\n",
    "\n",
    "X_train, X_test, y_train, y_test = train_test_split(X, y, test_size=0.2, random_state=42)\n"
   ]
  },
  {
   "cell_type": "markdown",
   "id": "c5873d50",
   "metadata": {},
   "source": [
    "## Treatment of Numerical columns"
   ]
  },
  {
   "cell_type": "markdown",
   "id": "3c70c455",
   "metadata": {},
   "source": [
    "#### No need to to Standardization or Normalization as we have only 1 Numerical variable ('Electric Range')"
   ]
  },
  {
   "cell_type": "markdown",
   "id": "df21a9ca",
   "metadata": {},
   "source": [
    "## Treatment of Categorical columns"
   ]
  },
  {
   "cell_type": "code",
   "execution_count": 15,
   "id": "a155d960",
   "metadata": {},
   "outputs": [],
   "source": [
    "# Categorical Column types:\n",
    "# County : Nominal, 140 categories\n",
    "# City: Nominal, 545 Categories\n",
    "# State: Nominal, 39 Categories\n",
    "# ZIP Code: Nominal, 679 Categories\n",
    "# Make: Nominal, 35 Categories\n",
    "# Model: Nominal, 107 Categories\n",
    "# Electric Vehicle Type: Nominal, 2 Categories\n",
    "# Clean Alternative Fuel Vehicle (CAFV) Eligibility: Nominal, 3 Categories\n",
    "# Legislative District: Nominal, 51 Categories\n",
    "# Electric Utility: Nominal, 69 Categories"
   ]
  },
  {
   "cell_type": "code",
   "execution_count": 16,
   "id": "22c889ff",
   "metadata": {},
   "outputs": [],
   "source": [
    "# Here we have 'Electric Vehicle Type' and 'CAFV Eligibility' where we can apply One-Hot Encoding or Dummies.\n",
    "\n",
    "low_cardinality_features = ['Electric Vehicle Type', 'Clean Alternative Fuel Vehicle (CAFV) Eligibility']\n",
    "\n",
    "X_train = pd.get_dummies(X_train, columns=low_cardinality_features, drop_first=True)\n",
    "X_test = pd.get_dummies(X_test, columns=low_cardinality_features, drop_first=True)"
   ]
  },
  {
   "cell_type": "code",
   "execution_count": 17,
   "id": "0684e57e",
   "metadata": {},
   "outputs": [],
   "source": [
    "# To all other variables which have higher number of categories, we can apply Target encoding.\n",
    "import category_encoders\n",
    "from category_encoders import TargetEncoder\n",
    "high_cardinality_features = ['County', 'City', 'State', 'ZIP Code', 'Make', 'Model', 'Legislative District', 'Electric Utility']\n",
    "\n",
    "target_enc = TargetEncoder()\n",
    "X_train[high_cardinality_features] = target_enc.fit_transform(X_train[high_cardinality_features], y_train)\n",
    "X_test[high_cardinality_features] = target_enc.transform(X_test[high_cardinality_features])\n"
   ]
  },
  {
   "cell_type": "markdown",
   "id": "bc16cddf",
   "metadata": {},
   "source": [
    "## Decision Tree model building"
   ]
  },
  {
   "cell_type": "code",
   "execution_count": 18,
   "id": "28c2efc0",
   "metadata": {},
   "outputs": [
    {
     "data": {
      "text/plain": [
       "DecisionTreeRegressor(random_state=42)"
      ]
     },
     "execution_count": 18,
     "metadata": {},
     "output_type": "execute_result"
    }
   ],
   "source": [
    "clf = DecisionTreeClassifier(random_state=42) if y.nunique() <= 2 else DecisionTreeRegressor(random_state=42)\n",
    "clf.fit(X_train, y_train)"
   ]
  },
  {
   "cell_type": "markdown",
   "id": "d9c71b5e",
   "metadata": {},
   "source": [
    "### Model Evaluation"
   ]
  },
  {
   "cell_type": "code",
   "execution_count": 19,
   "id": "dc79f0ad",
   "metadata": {},
   "outputs": [
    {
     "name": "stdout",
     "output_type": "stream",
     "text": [
      "RMSE: 0.02658984587400456\n"
     ]
    }
   ],
   "source": [
    "if y.nunique() <= 2:  # Classification\n",
    "    y_pred = clf.predict(X_test)\n",
    "    print(\"Accuracy:\", accuracy_score(y_test, y_pred))\n",
    "    print(\"Classification Report:\\n\", classification_report(y_test, y_pred))\n",
    "else:  # Regression\n",
    "    y_pred = clf.predict(X_test)\n",
    "    print(\"RMSE:\", np.sqrt(mean_squared_error(y_test, y_pred)))"
   ]
  },
  {
   "cell_type": "markdown",
   "id": "8197e476",
   "metadata": {},
   "source": [
    "### Hyperparameter Tuning using Grid-search"
   ]
  },
  {
   "cell_type": "code",
   "execution_count": 20,
   "id": "a84ecc3e",
   "metadata": {},
   "outputs": [
    {
     "name": "stdout",
     "output_type": "stream",
     "text": [
      "Best Parameters: {'criterion': 'squared_error', 'max_depth': None, 'min_samples_leaf': 10, 'min_samples_split': 20}\n"
     ]
    }
   ],
   "source": [
    "param_grid = {\n",
    "    'max_depth': [3, 5, 10, None],\n",
    "    'min_samples_split': [20, 50, 100],\n",
    "    'min_samples_leaf': [10, 20, 40],\n",
    "    'criterion': ['gini', 'entropy'] if y.nunique() <= 2 else ['squared_error', 'friedman_mse']\n",
    "}\n",
    "grid_search = GridSearchCV(clf, param_grid, cv=5, scoring='accuracy' if y.nunique() <= 2 else 'neg_mean_squared_error')\n",
    "grid_search.fit(X_train, y_train)\n",
    "print(\"Best Parameters:\", grid_search.best_params_)"
   ]
  },
  {
   "cell_type": "markdown",
   "id": "28993345",
   "metadata": {},
   "source": [
    "### Pruning the Decision Tree"
   ]
  },
  {
   "cell_type": "code",
   "execution_count": 21,
   "id": "2655ab7f",
   "metadata": {},
   "outputs": [
    {
     "data": {
      "text/plain": [
       "DecisionTreeRegressor(min_samples_leaf=10, min_samples_split=20,\n",
       "                      random_state=42)"
      ]
     },
     "execution_count": 21,
     "metadata": {},
     "output_type": "execute_result"
    }
   ],
   "source": [
    "pruned_clf = DecisionTreeClassifier(**grid_search.best_params_, random_state=42) if y.nunique() <= 2 else DecisionTreeRegressor(**grid_search.best_params_, random_state=42)\n",
    "pruned_clf.fit(X_train, y_train)"
   ]
  },
  {
   "cell_type": "markdown",
   "id": "a0b1f0cf",
   "metadata": {},
   "source": [
    "### Final Predictions"
   ]
  },
  {
   "cell_type": "code",
   "execution_count": 22,
   "id": "5d3779f3",
   "metadata": {},
   "outputs": [
    {
     "name": "stdout",
     "output_type": "stream",
     "text": [
      "Final RMSE: 0.04091051467764652\n"
     ]
    }
   ],
   "source": [
    "y_final_pred = pruned_clf.predict(X_test)\n",
    "print(\"Final Accuracy:\" if y.nunique() <= 2 else \"Final RMSE:\", accuracy_score(y_test, y_final_pred) if y.nunique() <= 2 else np.sqrt(mean_squared_error(y_test, y_final_pred)))\n"
   ]
  },
  {
   "cell_type": "code",
   "execution_count": null,
   "id": "dabbde48",
   "metadata": {},
   "outputs": [],
   "source": []
  }
 ],
 "metadata": {
  "kernelspec": {
   "display_name": "Python 3 (ipykernel)",
   "language": "python",
   "name": "python3"
  },
  "language_info": {
   "codemirror_mode": {
    "name": "ipython",
    "version": 3
   },
   "file_extension": ".py",
   "mimetype": "text/x-python",
   "name": "python",
   "nbconvert_exporter": "python",
   "pygments_lexer": "ipython3",
   "version": "3.9.12"
  }
 },
 "nbformat": 4,
 "nbformat_minor": 5
}
